{
 "cells": [
  {
   "cell_type": "code",
   "execution_count": null,
   "metadata": {},
   "outputs": [],
   "source": [
    "import os\n",
    "import subprocess\n",
    "git_root = subprocess.check_output(['git', 'rev-parse', '--show-toplevel']).decode().strip()\n",
    "%load_ext autoreload\n",
    "%autoreload 2\n",
    "os.chdir(git_root)\n",
    "import ultralytics\n",
    "print(os.path.dirname(ultralytics.__file__))\n",
    "# https://docs.ultralytics.com/tasks/obb/#__tabbed_1_1\n",
    "# https://docs.ultralytics.com/datasets/obb/ OBB Format\n",
    "from ultralytics import YOLO\n",
    "# Load a model\n",
    "model = YOLO('yolov8n-obb.yaml')  # build a new model from YAML\n",
    "model = YOLO('yolov8n-obb.pt')  # load a pretrained model (recommended for training)\n",
    "model = YOLO('yolov8n-obb.yaml').load('yolov8n.pt')  # build from YAML and transfer weights\n",
    "\n",
    "# Train the model\n",
    "results = model.train(data='DOTAv2.0-patches.yaml', epochs=20, imgsz=640, fraction=.01, batch=5)\t # data='dota8.yaml' multi_scale=True,mixup=1.0, \n"
   ]
  },
  {
   "cell_type": "code",
   "execution_count": null,
   "metadata": {},
   "outputs": [],
   "source": [
    "%%bash\n",
    "# This script takes v1.0 and v2.0 original datasets and merges into ./examples/datasets/DOTA-v2.0 (DOTA format)\n",
    "DATA_DIR=/home/vscode/datasets\n",
    "echo $PWD\n",
    "# Remove all previously exported files if they exist.\n",
    "rm -rf $DATA_DIR/dota && mkdir -p $DATA_DIR/dota\n",
    "# Remove DOTA-v2.0 dataset if exists.\n",
    "rm -rf ./examples/datasets/DOTA-v2.0/ && mkdir -p ./examples/datasets/DOTA-v2.0/\n",
    "\n",
    "rm -rf  $DATA_DIR/dota/v1.0 $DATA_DIR/dota/v2.0 && mkdir -p $DATA_DIR/dota/v1.0 $DATA_DIR/dota/v2.0\n",
    "unzip -o -q -d $DATA_DIR/dota/v1.0 $DATA_DIR/dota-v1.0.zip\n",
    "unzip -o -q -d $DATA_DIR/dota/v2.0 $DATA_DIR/dota-v2.0.zip\n",
    "# Create directory structure for DOTA-v2.0 dataset according to ultralytics/yolov8\n",
    "mkdir -p ./examples/datasets/DOTA-v2.0/{images,labels}/{train,val}\n",
    "\n",
    "# Move files from v1.0 validation set to v2.0 validation set\n",
    "for split in val train; do\n",
    "    # Move data from v1.0,v2.0 to DOTA-v2.0/images\n",
    "    find $DATA_DIR/dota/{v1.0,v2.0}/$split/images -name '*.png' -exec mv {} ./examples/datasets/DOTA-v2.0/images/$split \\;\n",
    "    # Move labels only from v2.0 to DOTA-v2.0/labels\n",
    "    find $DATA_DIR/dota/v2.0/$split/labels -name '*.txt' -exec mv {} ./examples/datasets/DOTA-v2.0/labels/$split \\;\n",
    "done"
   ]
  },
  {
   "cell_type": "code",
   "execution_count": null,
   "metadata": {},
   "outputs": [],
   "source": [
    "# Takes the original labels and converts them from DOTA to YOLO format\n",
    "\n",
    "# Need to move them to an original directory to prepare for DOTA->YOLO conversion\n",
    "!mv ./examples/datasets/DOTA-v2.0/labels/train ./examples/datasets/DOTA-v2.0/labels/train_original \n",
    "!mv ./examples/datasets/DOTA-v2.0/labels/val ./examples/datasets/DOTA-v2.0/labels/val_original\n",
    "# Then the DOTA format needs to be converted to YOLO-OBB\n",
    "from ultralytics.data.converter import convert_dota_to_yolo_obb\n",
    "convert_dota_to_yolo_obb('./examples/datasets/DOTA-v2.0')\n"
   ]
  },
  {
   "cell_type": "markdown",
   "metadata": {},
   "source": [
    "| Data Format                | Description                                                                 | New Column                          |\n",
    "|---------------------------|-----------------------------------------------------------------------------|-------------------------------------|\n",
    "| DOTA                      | `x1, y1, x2, y2, x3, y3, x4, y4, category, difficult`                        | OG DOTA format                      |\n",
    "| YOLO-OBB                  | `class_index, x1, y1, x2, y2, x3, y3, x4, y4`                                | YOLO-OBB expected input format      |\n",
    "| YOLO-OBB-internal         | `x,y,w,h, r`                                                               | YOLO-OBB internal format             |\n",
    "\n",
    "### Data formatting in DOTA\n",
    "\n",
    "There are three data formats:\n",
    "\n",
    "- An image corresponds to a text file with the annotations i.e, **N** samples : `.png <--> .txt`\n",
    "\n",
    "- Convert DOTA to `YOLO-OBB` using         \n",
    "\n",
    "```python\n",
    "from ultralytics.data.converter import convert_dota_to_yolo_obb\n",
    "\n",
    "convert_dota_to_yolo_obb('path/to/DOTA')\n",
    "```\n",
    "\n",
    "\n",
    "### Baselines\n",
    "\n",
    "Visit [here](https://github.com/dingjiansw101/AerialDetection/blob/master/MODEL_ZOO.md) for baselines"
   ]
  },
  {
   "cell_type": "code",
   "execution_count": null,
   "metadata": {},
   "outputs": [],
   "source": [
    "# Creates a split where smalled images are cropped from large ones.\n",
    "\n",
    "! rm -rf ./examples/datasets/DOTA-v2.0-split\n",
    "from ultralytics.data.split_dota import split_trainval, split_test\n",
    "from PIL import Image\n",
    "Image.MAX_IMAGE_PIXELS = None # There is a security issue related to this.\n",
    "# split train and val set, with labels.\n",
    "split_trainval(\n",
    "    data_root='./examples/datasets/DOTA-v2.0',\n",
    "    save_dir='./examples/datasets/DOTA-v2.0-patches',\n",
    "    rates=[0.5, 1.0, 1.5],    # multi-scale\n",
    "    gap=500\n",
    ")\n"
   ]
  },
  {
   "cell_type": "code",
   "execution_count": null,
   "metadata": {},
   "outputs": [],
   "source": [
    "# NO test set right now.\n",
    "# split test set, without labels.\n",
    "if False:\n",
    "    split_test(\n",
    "        data_root='./examples/datasets/DOTA-v2.0',\n",
    "        save_dir='./examples/datasets/DOTA-v2.0-split',\n",
    "        rates=[0.5, 1.0, 1.5],    # multi-scale\n",
    "        gap=500\n",
    "    )"
   ]
  },
  {
   "cell_type": "markdown",
   "metadata": {},
   "source": [
    "### Dev-env notes\n",
    "- Remember pip install wandb\n",
    "- Install ultralytics with `pip -e .`\n",
    "- Create `./scripts/.env` file, put the wandb secret there\n",
    "- If you dont want to log to wandb remember env `WANDB_MODE=offline`\n",
    "- Remember to set `datasets_dirs: (git repo root)/examples/datasets` in ultralytics config at `~/.config/Ultralytics/settings.yaml`\n",
    "\n",
    "\n",
    "### General Notes\n",
    "\n",
    "- Read A.Karpathy notes on training NNs [here](https://karpathy.github.io/2019/04/25/recipe/)\n",
    "- Note on missing labels and how important they are [here](https://docs.ultralytics.com/yolov5/tutorials/tips_for_best_training_results/)"
   ]
  },
  {
   "cell_type": "markdown",
   "metadata": {},
   "source": [
    "### Results\n",
    "\n",
    "![PR Curve](../runs/obb/val5/PR_curve.png)\n",
    "![Image](../runs/obb/val5/val_batch0_pred.jpg)\n"
   ]
  },
  {
   "cell_type": "code",
   "execution_count": null,
   "metadata": {},
   "outputs": [],
   "source": []
  }
 ],
 "metadata": {
  "kernelspec": {
   "display_name": "Python 3",
   "language": "python",
   "name": "python3"
  },
  "language_info": {
   "codemirror_mode": {
    "name": "ipython",
    "version": 3
   },
   "file_extension": ".py",
   "mimetype": "text/x-python",
   "name": "python",
   "nbconvert_exporter": "python",
   "pygments_lexer": "ipython3",
   "version": "3.11.4"
  }
 },
 "nbformat": 4,
 "nbformat_minor": 2
}
