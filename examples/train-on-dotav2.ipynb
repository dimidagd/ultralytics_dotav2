{
 "cells": [
  {
   "cell_type": "code",
   "execution_count": 1,
   "metadata": {},
   "outputs": [
    {
     "name": "stdout",
     "output_type": "stream",
     "text": [
      "/home/vscode/ultralytics/ultralytics\n",
      "Transferred 355/397 items from pretrained weights\n",
      "New https://pypi.org/project/ultralytics/8.1.14 available 😃 Update with 'pip install -U ultralytics'\n",
      "Ultralytics YOLOv8.1.13 🚀 Python-3.11.4 torch-2.1.2+cu121 CUDA:0 (NVIDIA GeForce RTX 2060, 5893MiB)\n",
      "\u001b[34m\u001b[1mengine/trainer: \u001b[0mtask=obb, mode=train, model=yolov8n-obb.yaml, data=DOTAv2.0-patches.yaml, epochs=20, time=None, patience=50, batch=5, imgsz=640, save=True, save_period=-1, cache=False, device=None, workers=8, project=None, name=train38, exist_ok=False, pretrained=True, optimizer=auto, verbose=True, seed=0, deterministic=True, single_cls=False, rect=False, cos_lr=False, close_mosaic=10, resume=False, amp=True, fraction=0.01, profile=False, freeze=None, multi_scale=False, overlap_mask=True, mask_ratio=4, dropout=0.0, val=True, split=val, save_json=False, save_hybrid=False, conf=None, iou=0.7, max_det=300, half=False, dnn=False, plots=True, source=None, vid_stride=1, stream_buffer=False, visualize=False, augment=False, agnostic_nms=False, classes=None, retina_masks=False, embed=None, show=False, save_frames=False, save_txt=False, save_conf=False, save_crop=False, show_labels=True, show_conf=True, show_boxes=True, line_width=None, format=torchscript, keras=False, optimize=False, int8=False, dynamic=False, simplify=False, opset=None, workspace=4, nms=False, lr0=0.01, lrf=0.01, momentum=0.937, weight_decay=0.0005, warmup_epochs=3.0, warmup_momentum=0.8, warmup_bias_lr=0.1, box=7.5, cls=0.5, dfl=1.5, pose=12.0, kobj=1.0, label_smoothing=0.0, nbs=64, hsv_h=0.015, hsv_s=0.7, hsv_v=0.4, degrees=0.0, translate=0.1, scale=0.5, shear=0.0, perspective=0.0, flipud=0.0, fliplr=0.5, mosaic=1.0, mixup=0.0, copy_paste=0.0, auto_augment=randaugment, erasing=0.4, crop_fraction=1.0, cfg=None, tracker=botsort.yaml, save_dir=runs/obb/train38\n",
      "Overriding model.yaml nc=80 with nc=18\n",
      "\n",
      "                   from  n    params  module                                       arguments                     \n",
      "  0                  -1  1       464  ultralytics.nn.modules.conv.Conv             [3, 16, 3, 2]                 \n",
      "  1                  -1  1      4672  ultralytics.nn.modules.conv.Conv             [16, 32, 3, 2]                \n",
      "  2                  -1  1      7360  ultralytics.nn.modules.block.C2f             [32, 32, 1, True]             \n",
      "  3                  -1  1     18560  ultralytics.nn.modules.conv.Conv             [32, 64, 3, 2]                \n",
      "  4                  -1  2     49664  ultralytics.nn.modules.block.C2f             [64, 64, 2, True]             \n",
      "  5                  -1  1     73984  ultralytics.nn.modules.conv.Conv             [64, 128, 3, 2]               \n",
      "  6                  -1  2    197632  ultralytics.nn.modules.block.C2f             [128, 128, 2, True]           \n",
      "  7                  -1  1    295424  ultralytics.nn.modules.conv.Conv             [128, 256, 3, 2]              \n",
      "  8                  -1  1    460288  ultralytics.nn.modules.block.C2f             [256, 256, 1, True]           \n",
      "  9                  -1  1    164608  ultralytics.nn.modules.block.SPPF            [256, 256, 5]                 \n",
      " 10                  -1  1         0  torch.nn.modules.upsampling.Upsample         [None, 2, 'nearest']          \n",
      " 11             [-1, 6]  1         0  ultralytics.nn.modules.conv.Concat           [1]                           \n",
      " 12                  -1  1    148224  ultralytics.nn.modules.block.C2f             [384, 128, 1]                 \n",
      " 13                  -1  1         0  torch.nn.modules.upsampling.Upsample         [None, 2, 'nearest']          \n",
      " 14             [-1, 4]  1         0  ultralytics.nn.modules.conv.Concat           [1]                           \n",
      " 15                  -1  1     37248  ultralytics.nn.modules.block.C2f             [192, 64, 1]                  \n",
      " 16                  -1  1     36992  ultralytics.nn.modules.conv.Conv             [64, 64, 3, 2]                \n",
      " 17            [-1, 12]  1         0  ultralytics.nn.modules.conv.Concat           [1]                           \n",
      " 18                  -1  1    123648  ultralytics.nn.modules.block.C2f             [192, 128, 1]                 \n",
      " 19                  -1  1    147712  ultralytics.nn.modules.conv.Conv             [128, 128, 3, 2]              \n",
      " 20             [-1, 9]  1         0  ultralytics.nn.modules.conv.Concat           [1]                           \n",
      " 21                  -1  1    493056  ultralytics.nn.modules.block.C2f             [384, 256, 1]                 \n",
      " 22        [15, 18, 21]  1    826489  ultralytics.nn.modules.head.OBB              [18, 1, [64, 128, 256]]       \n",
      "YOLOv8n-obb summary: 250 layers, 3086025 parameters, 3086009 gradients, 8.5 GFLOPs\n",
      "\n",
      "Transferred 361/397 items from pretrained weights\n",
      "\u001b[34m\u001b[1mTensorBoard: \u001b[0mStart with 'tensorboard --logdir runs/obb/train38', view at http://localhost:6006/\n"
     ]
    },
    {
     "name": "stderr",
     "output_type": "stream",
     "text": [
      "Failed to detect the name of this notebook, you can set it manually with the WANDB_NOTEBOOK_NAME environment variable to enable code saving.\n",
      "\u001b[34m\u001b[1mwandb\u001b[0m: Currently logged in as: \u001b[33mdimidagd\u001b[0m (\u001b[33mdimidagd_sl\u001b[0m). Use \u001b[1m`wandb login --relogin`\u001b[0m to force relogin\n"
     ]
    },
    {
     "data": {
      "text/html": [
       "Tracking run with wandb version 0.16.3"
      ],
      "text/plain": [
       "<IPython.core.display.HTML object>"
      ]
     },
     "metadata": {},
     "output_type": "display_data"
    },
    {
     "data": {
      "text/html": [
       "Run data is saved locally in <code>/home/vscode/ultralytics/wandb/run-20240216_102617-ox2h43y4</code>"
      ],
      "text/plain": [
       "<IPython.core.display.HTML object>"
      ]
     },
     "metadata": {},
     "output_type": "display_data"
    },
    {
     "data": {
      "text/html": [
       "Syncing run <strong><a href='https://wandb.ai/dimidagd_sl/YOLOv8/runs/ox2h43y4' target=\"_blank\">train38</a></strong> to <a href='https://wandb.ai/dimidagd_sl/YOLOv8' target=\"_blank\">Weights & Biases</a> (<a href='https://wandb.me/run' target=\"_blank\">docs</a>)<br/>"
      ],
      "text/plain": [
       "<IPython.core.display.HTML object>"
      ]
     },
     "metadata": {},
     "output_type": "display_data"
    },
    {
     "data": {
      "text/html": [
       " View project at <a href='https://wandb.ai/dimidagd_sl/YOLOv8' target=\"_blank\">https://wandb.ai/dimidagd_sl/YOLOv8</a>"
      ],
      "text/plain": [
       "<IPython.core.display.HTML object>"
      ]
     },
     "metadata": {},
     "output_type": "display_data"
    },
    {
     "data": {
      "text/html": [
       " View run at <a href='https://wandb.ai/dimidagd_sl/YOLOv8/runs/ox2h43y4' target=\"_blank\">https://wandb.ai/dimidagd_sl/YOLOv8/runs/ox2h43y4</a>"
      ],
      "text/plain": [
       "<IPython.core.display.HTML object>"
      ]
     },
     "metadata": {},
     "output_type": "display_data"
    },
    {
     "name": "stdout",
     "output_type": "stream",
     "text": [
      "Freezing layer 'model.22.dfl.conv.weight'\n",
      "\u001b[34m\u001b[1mAMP: \u001b[0mrunning Automatic Mixed Precision (AMP) checks with YOLOv8n...\n",
      "\u001b[34m\u001b[1mAMP: \u001b[0mchecks passed ✅\n"
     ]
    },
    {
     "name": "stderr",
     "output_type": "stream",
     "text": [
      "\u001b[34m\u001b[1mtrain: \u001b[0mScanning /home/vscode/ultralytics/examples/datasets/DOTA-v2.0-patches/labels/train.cache... 1339 images, 372 backgrounds, 8 corrupt: 100%|██████████| 1711/1711 [00:00<?, ?it/s]"
     ]
    },
    {
     "name": "stdout",
     "output_type": "stream",
     "text": [
      "\u001b[34m\u001b[1mtrain: \u001b[0mWARNING ⚠️ /home/vscode/ultralytics/examples/datasets/DOTA-v2.0-patches/images/train/P0018__682__698___698.jpg: ignoring corrupt image/label: non-normalized or out of bounds coordinates [     1.2889], [[    0.38196     0.55279      1.2889       0.739]], /home/vscode/ultralytics/examples/datasets/DOTA-v2.0-patches/labels/train/P0018__682__698___698.txt [[    0.38196     0.55279      1.2889       0.739]]\n",
      "\u001b[34m\u001b[1mtrain: \u001b[0mWARNING ⚠️ /home/vscode/ultralytics/examples/datasets/DOTA-v2.0-patches/images/train/P0021__682__1745___1745.jpg: ignoring corrupt image/label: non-normalized or out of bounds coordinates [     1.1276], [[    0.39076     0.40323      1.1276     0.70674]], /home/vscode/ultralytics/examples/datasets/DOTA-v2.0-patches/labels/train/P0021__682__1745___1745.txt [[    0.39076     0.40323      1.1276     0.70674]]\n",
      "\u001b[34m\u001b[1mtrain: \u001b[0mWARNING ⚠️ /home/vscode/ultralytics/examples/datasets/DOTA-v2.0-patches/images/train/P0021__682__2094___698.jpg: ignoring corrupt image/label: non-normalized or out of bounds coordinates [      1.346], [[    0.32625     0.42375      0.6349       1.346]], /home/vscode/ultralytics/examples/datasets/DOTA-v2.0-patches/labels/train/P0021__682__2094___698.txt [[    0.32625     0.42375      0.6349       1.346]]\n",
      "\u001b[34m\u001b[1mtrain: \u001b[0mWARNING ⚠️ /home/vscode/ultralytics/examples/datasets/DOTA-v2.0-patches/images/train/P0022__682__1047___1745.jpg: ignoring corrupt image/label: non-normalized or out of bounds coordinates [     1.0367], [[    0.32331     0.56158      1.0367     0.91789]], /home/vscode/ultralytics/examples/datasets/DOTA-v2.0-patches/labels/train/P0022__682__1047___1745.txt [[    0.32331     0.56158      1.0367     0.91789]]\n",
      "\u001b[34m\u001b[1mtrain: \u001b[0mWARNING ⚠️ /home/vscode/ultralytics/examples/datasets/DOTA-v2.0-patches/images/train/P0022__682__698___1745.jpg: ignoring corrupt image/label: non-normalized or out of bounds coordinates [     1.0367], [[    0.83504     0.56158      1.0367     0.91789]], /home/vscode/ultralytics/examples/datasets/DOTA-v2.0-patches/labels/train/P0022__682__698___1745.txt [[    0.83504     0.56158      1.0367     0.91789]]\n",
      "\u001b[34m\u001b[1mtrain: \u001b[0mWARNING ⚠️ /home/vscode/ultralytics/examples/datasets/DOTA-v2.0-patches/images/train/P0029__1024__524___524.jpg: ignoring corrupt image/label: non-normalized or out of bounds coordinates [     1.0127], [[    0.65381     0.65869     0.66699      1.0127]\n",
      " [     0.1084     0.93701    0.095703      0.2041]], /home/vscode/ultralytics/examples/datasets/DOTA-v2.0-patches/labels/train/P0029__1024__524___524.txt [[    0.65381     0.65869     0.66699      1.0127]\n",
      " [     0.1084     0.93701    0.095703      0.2041]]\n",
      "\u001b[34m\u001b[1mtrain: \u001b[0mWARNING ⚠️ /home/vscode/ultralytics/examples/datasets/DOTA-v2.0-patches/images/train/P0030__682__1745___1047.jpg: ignoring corrupt image/label: non-normalized or out of bounds coordinates [     1.4282], [[    0.65103     0.63929     0.66862      1.4282]], /home/vscode/ultralytics/examples/datasets/DOTA-v2.0-patches/labels/train/P0030__682__1745___1047.txt [[    0.65103     0.63929     0.66862      1.4282]]\n",
      "\u001b[34m\u001b[1mtrain: \u001b[0mWARNING ⚠️ /home/vscode/ultralytics/examples/datasets/DOTA-v2.0-patches/images/train/P0030__682__698___1047.jpg: ignoring corrupt image/label: non-normalized or out of bounds coordinates [     1.3108], [[    0.65396     0.45748      1.3108     0.80058]], /home/vscode/ultralytics/examples/datasets/DOTA-v2.0-patches/labels/train/P0030__682__698___1047.txt [[    0.65396     0.45748      1.3108     0.80058]]\n"
     ]
    },
    {
     "name": "stderr",
     "output_type": "stream",
     "text": [
      "\n",
      "\u001b[34m\u001b[1mval: \u001b[0mScanning /home/vscode/ultralytics/examples/datasets/DOTA-v2.0-patches/labels/val... 23137 images, 26856 backgrounds, 192 corrupt: 100%|██████████| 49993/49993 [00:14<00:00, 3522.61it/s]"
     ]
    },
    {
     "name": "stdout",
     "output_type": "stream",
     "text": [
      "\u001b[34m\u001b[1mval: \u001b[0mWARNING ⚠️ /home/vscode/ultralytics/examples/datasets/DOTA-v2.0-patches/images/val/P0259__1024__524___0.jpg: ignoring corrupt image/label: non-normalized or out of bounds coordinates [     1.0859      1.0908]\n",
      "\u001b[34m\u001b[1mval: \u001b[0mWARNING ⚠️ /home/vscode/ultralytics/examples/datasets/DOTA-v2.0-patches/images/val/P0259__1024__524___1048.jpg: ignoring corrupt image/label: non-normalized or out of bounds coordinates [      1.041      1.3105]\n",
      "\u001b[34m\u001b[1mval: \u001b[0mWARNING ⚠️ /home/vscode/ultralytics/examples/datasets/DOTA-v2.0-patches/images/val/P0259__1024__524___1245.jpg: ignoring corrupt image/label: non-normalized or out of bounds coordinates [      1.041      1.3105]\n",
      "\u001b[34m\u001b[1mval: \u001b[0mWARNING ⚠️ /home/vscode/ultralytics/examples/datasets/DOTA-v2.0-patches/images/val/P0259__1024__524___524.jpg: ignoring corrupt image/label: non-normalized or out of bounds coordinates [     1.0859      1.4004      1.0908]\n",
      "\u001b[34m\u001b[1mval: \u001b[0mWARNING ⚠️ /home/vscode/ultralytics/examples/datasets/DOTA-v2.0-patches/images/val/P0259__682__1047___1047.jpg: ignoring corrupt image/label: non-normalized or out of bounds coordinates [     1.1466       1.151      1.1422]\n",
      "\u001b[34m\u001b[1mval: \u001b[0mWARNING ⚠️ /home/vscode/ultralytics/examples/datasets/DOTA-v2.0-patches/images/val/P0259__682__1047___698.jpg: ignoring corrupt image/label: non-normalized or out of bounds coordinates [     1.1466       1.151      1.1422]\n",
      "\u001b[34m\u001b[1mval: \u001b[0mWARNING ⚠️ /home/vscode/ultralytics/examples/datasets/DOTA-v2.0-patches/images/val/P0259__682__1396___0.jpg: ignoring corrupt image/label: non-normalized or out of bounds coordinates [     1.1041]\n",
      "\u001b[34m\u001b[1mval: \u001b[0mWARNING ⚠️ /home/vscode/ultralytics/examples/datasets/DOTA-v2.0-patches/images/val/P0259__682__1396___349.jpg: ignoring corrupt image/label: non-normalized or out of bounds coordinates [     1.1041]\n",
      "\u001b[34m\u001b[1mval: \u001b[0mWARNING ⚠️ /home/vscode/ultralytics/examples/datasets/DOTA-v2.0-patches/images/val/P0259__682__1568___0.jpg: ignoring corrupt image/label: non-normalized or out of bounds coordinates [     1.1041]\n",
      "\u001b[34m\u001b[1mval: \u001b[0mWARNING ⚠️ /home/vscode/ultralytics/examples/datasets/DOTA-v2.0-patches/images/val/P0259__682__1568___349.jpg: ignoring corrupt image/label: non-normalized or out of bounds coordinates [     1.1041]\n",
      "\u001b[34m\u001b[1mval: \u001b[0mWARNING ⚠️ /home/vscode/ultralytics/examples/datasets/DOTA-v2.0-patches/images/val/P0259__682__349___698.jpg: ignoring corrupt image/label: non-normalized or out of bounds coordinates [     1.2097]\n",
      "\u001b[34m\u001b[1mval: \u001b[0mWARNING ⚠️ /home/vscode/ultralytics/examples/datasets/DOTA-v2.0-patches/images/val/P0259__682__698___1396.jpg: ignoring corrupt image/label: non-normalized or out of bounds coordinates [      1.305]\n",
      "\u001b[34m\u001b[1mval: \u001b[0mWARNING ⚠️ /home/vscode/ultralytics/examples/datasets/DOTA-v2.0-patches/images/val/P0259__682__698___1587.jpg: ignoring corrupt image/label: non-normalized or out of bounds coordinates [      1.305]\n",
      "\u001b[34m\u001b[1mval: \u001b[0mWARNING ⚠️ /home/vscode/ultralytics/examples/datasets/DOTA-v2.0-patches/images/val/P0261__1024__0___0.jpg: ignoring corrupt image/label: non-normalized or out of bounds coordinates [     1.1797]\n",
      "\u001b[34m\u001b[1mval: \u001b[0mWARNING ⚠️ /home/vscode/ultralytics/examples/datasets/DOTA-v2.0-patches/images/val/P0261__1024__390___0.jpg: ignoring corrupt image/label: non-normalized or out of bounds coordinates [     1.1797]\n",
      "\u001b[34m\u001b[1mval: \u001b[0mWARNING ⚠️ /home/vscode/ultralytics/examples/datasets/DOTA-v2.0-patches/images/val/P0261__1024__390___74.jpg: ignoring corrupt image/label: non-normalized or out of bounds coordinates [     1.1797]\n",
      "\u001b[34m\u001b[1mval: \u001b[0mWARNING ⚠️ /home/vscode/ultralytics/examples/datasets/DOTA-v2.0-patches/images/val/P0300__682__698___0.jpg: ignoring corrupt image/label: non-normalized or out of bounds coordinates [     1.2449]\n",
      "\u001b[34m\u001b[1mval: \u001b[0mWARNING ⚠️ /home/vscode/ultralytics/examples/datasets/DOTA-v2.0-patches/images/val/P0336__682__0___349.jpg: ignoring corrupt image/label: non-normalized or out of bounds coordinates [     1.0279]\n",
      "\u001b[34m\u001b[1mval: \u001b[0mWARNING ⚠️ /home/vscode/ultralytics/examples/datasets/DOTA-v2.0-patches/images/val/P0336__682__349___349.jpg: ignoring corrupt image/label: non-normalized or out of bounds coordinates [     1.0279]\n",
      "\u001b[34m\u001b[1mval: \u001b[0mWARNING ⚠️ /home/vscode/ultralytics/examples/datasets/DOTA-v2.0-patches/images/val/P0665__682__349___0.jpg: ignoring corrupt image/label: non-normalized or out of bounds coordinates [     1.0176      1.0777]\n",
      "\u001b[34m\u001b[1mval: \u001b[0mWARNING ⚠️ /home/vscode/ultralytics/examples/datasets/DOTA-v2.0-patches/images/val/P0665__682__349___349.jpg: ignoring corrupt image/label: non-normalized or out of bounds coordinates [     1.0176      1.0777]\n",
      "\u001b[34m\u001b[1mval: \u001b[0mWARNING ⚠️ /home/vscode/ultralytics/examples/datasets/DOTA-v2.0-patches/images/val/P0683__682__1047___0.jpg: ignoring corrupt image/label: non-normalized or out of bounds coordinates [     1.1276]\n",
      "\u001b[34m\u001b[1mval: \u001b[0mWARNING ⚠️ /home/vscode/ultralytics/examples/datasets/DOTA-v2.0-patches/images/val/P0683__682__1047___349.jpg: ignoring corrupt image/label: non-normalized or out of bounds coordinates [     1.1276]\n",
      "\u001b[34m\u001b[1mval: \u001b[0mWARNING ⚠️ /home/vscode/ultralytics/examples/datasets/DOTA-v2.0-patches/images/val/P0696__682__349___1396.jpg: ignoring corrupt image/label: non-normalized or out of bounds coordinates [     1.0865]\n",
      "\u001b[34m\u001b[1mval: \u001b[0mWARNING ⚠️ /home/vscode/ultralytics/examples/datasets/DOTA-v2.0-patches/images/val/P0696__682__349___1455.jpg: ignoring corrupt image/label: non-normalized or out of bounds coordinates [     1.0865]\n",
      "\u001b[34m\u001b[1mval: \u001b[0mWARNING ⚠️ /home/vscode/ultralytics/examples/datasets/DOTA-v2.0-patches/images/val/P0704__682__698___698.jpg: ignoring corrupt image/label: non-normalized or out of bounds coordinates [     1.1246]\n",
      "\u001b[34m\u001b[1mval: \u001b[0mWARNING ⚠️ /home/vscode/ultralytics/examples/datasets/DOTA-v2.0-patches/images/val/P0704__682__698___754.jpg: ignoring corrupt image/label: non-normalized or out of bounds coordinates [     1.1246]\n",
      "\u001b[34m\u001b[1mval: \u001b[0mWARNING ⚠️ /home/vscode/ultralytics/examples/datasets/DOTA-v2.0-patches/images/val/P0770__682__698___676.jpg: ignoring corrupt image/label: non-normalized or out of bounds coordinates [     1.1041]\n",
      "\u001b[34m\u001b[1mval: \u001b[0mWARNING ⚠️ /home/vscode/ultralytics/examples/datasets/DOTA-v2.0-patches/images/val/P0770__682__928___676.jpg: ignoring corrupt image/label: non-normalized or out of bounds coordinates [     1.1041]\n",
      "\u001b[34m\u001b[1mval: \u001b[0mWARNING ⚠️ /home/vscode/ultralytics/examples/datasets/DOTA-v2.0-patches/images/val/P0795__682__0___1396.jpg: ignoring corrupt image/label: non-normalized or out of bounds coordinates [     1.1173      1.0938]\n",
      "\u001b[34m\u001b[1mval: \u001b[0mWARNING ⚠️ /home/vscode/ultralytics/examples/datasets/DOTA-v2.0-patches/images/val/P0795__682__0___349.jpg: ignoring corrupt image/label: non-normalized or out of bounds coordinates [     1.0674]\n",
      "\u001b[34m\u001b[1mval: \u001b[0mWARNING ⚠️ /home/vscode/ultralytics/examples/datasets/DOTA-v2.0-patches/images/val/P0795__682__1047___1396.jpg: ignoring corrupt image/label: non-normalized or out of bounds coordinates [     1.1026       1.066]\n",
      "\u001b[34m\u001b[1mval: \u001b[0mWARNING ⚠️ /home/vscode/ultralytics/examples/datasets/DOTA-v2.0-patches/images/val/P0795__682__1047___349.jpg: ignoring corrupt image/label: non-normalized or out of bounds coordinates [     1.1334      1.1085]\n",
      "\u001b[34m\u001b[1mval: \u001b[0mWARNING ⚠️ /home/vscode/ultralytics/examples/datasets/DOTA-v2.0-patches/images/val/P0795__682__1094___1396.jpg: ignoring corrupt image/label: non-normalized or out of bounds coordinates [     1.1026       1.066]\n",
      "\u001b[34m\u001b[1mval: \u001b[0mWARNING ⚠️ /home/vscode/ultralytics/examples/datasets/DOTA-v2.0-patches/images/val/P0795__682__1094___349.jpg: ignoring corrupt image/label: non-normalized or out of bounds coordinates [     1.1334      1.1085]\n",
      "\u001b[34m\u001b[1mval: \u001b[0mWARNING ⚠️ /home/vscode/ultralytics/examples/datasets/DOTA-v2.0-patches/images/val/P0795__682__349___1396.jpg: ignoring corrupt image/label: non-normalized or out of bounds coordinates [     1.0938      1.0865]\n",
      "\u001b[34m\u001b[1mval: \u001b[0mWARNING ⚠️ /home/vscode/ultralytics/examples/datasets/DOTA-v2.0-patches/images/val/P0795__682__349___349.jpg: ignoring corrupt image/label: non-normalized or out of bounds coordinates [     1.0704      1.0674]\n",
      "\u001b[34m\u001b[1mval: \u001b[0mWARNING ⚠️ /home/vscode/ultralytics/examples/datasets/DOTA-v2.0-patches/images/val/P0795__682__698___1396.jpg: ignoring corrupt image/label: non-normalized or out of bounds coordinates [     1.0865       1.066]\n",
      "\u001b[34m\u001b[1mval: \u001b[0mWARNING ⚠️ /home/vscode/ultralytics/examples/datasets/DOTA-v2.0-patches/images/val/P0795__682__698___349.jpg: ignoring corrupt image/label: non-normalized or out of bounds coordinates [     1.0704      1.1334]\n",
      "\u001b[34m\u001b[1mval: \u001b[0mWARNING ⚠️ /home/vscode/ultralytics/examples/datasets/DOTA-v2.0-patches/images/val/P0801__682__0___698.jpg: ignoring corrupt image/label: non-normalized or out of bounds coordinates [     1.4428]\n",
      "\u001b[34m\u001b[1mval: \u001b[0mWARNING ⚠️ /home/vscode/ultralytics/examples/datasets/DOTA-v2.0-patches/images/val/P0801__682__1047___698.jpg: ignoring corrupt image/label: non-normalized or out of bounds coordinates [     1.3475      1.2771]\n",
      "\u001b[34m\u001b[1mval: \u001b[0mWARNING ⚠️ /home/vscode/ultralytics/examples/datasets/DOTA-v2.0-patches/images/val/P0801__682__1396___698.jpg: ignoring corrupt image/label: non-normalized or out of bounds coordinates [     1.2771      1.4062]\n",
      "\u001b[34m\u001b[1mval: \u001b[0mWARNING ⚠️ /home/vscode/ultralytics/examples/datasets/DOTA-v2.0-patches/images/val/P0801__682__1745___698.jpg: ignoring corrupt image/label: non-normalized or out of bounds coordinates [     1.4062      1.3666]\n",
      "\u001b[34m\u001b[1mval: \u001b[0mWARNING ⚠️ /home/vscode/ultralytics/examples/datasets/DOTA-v2.0-patches/images/val/P0801__682__2094___698.jpg: ignoring corrupt image/label: non-normalized or out of bounds coordinates [     1.3666      1.3666]\n",
      "\u001b[34m\u001b[1mval: \u001b[0mWARNING ⚠️ /home/vscode/ultralytics/examples/datasets/DOTA-v2.0-patches/images/val/P0801__682__2443___698.jpg: ignoring corrupt image/label: non-normalized or out of bounds coordinates [     1.3666      1.2874      1.3108]\n",
      "\u001b[34m\u001b[1mval: \u001b[0mWARNING ⚠️ /home/vscode/ultralytics/examples/datasets/DOTA-v2.0-patches/images/val/P0801__682__2742___698.jpg: ignoring corrupt image/label: non-normalized or out of bounds coordinates [     1.3108]\n",
      "\u001b[34m\u001b[1mval: \u001b[0mWARNING ⚠️ /home/vscode/ultralytics/examples/datasets/DOTA-v2.0-patches/images/val/P0801__682__349___698.jpg: ignoring corrupt image/label: non-normalized or out of bounds coordinates [     1.3578]\n",
      "\u001b[34m\u001b[1mval: \u001b[0mWARNING ⚠️ /home/vscode/ultralytics/examples/datasets/DOTA-v2.0-patches/images/val/P0801__682__698___698.jpg: ignoring corrupt image/label: non-normalized or out of bounds coordinates [     1.3578      1.3475]\n",
      "\u001b[34m\u001b[1mval: \u001b[0mWARNING ⚠️ /home/vscode/ultralytics/examples/datasets/DOTA-v2.0-patches/images/val/P0837__1024__0___1048.jpg: ignoring corrupt image/label: non-normalized or out of bounds coordinates [     1.1328      1.1641]\n",
      "\u001b[34m\u001b[1mval: \u001b[0mWARNING ⚠️ /home/vscode/ultralytics/examples/datasets/DOTA-v2.0-patches/images/val/P0837__1024__0___524.jpg: ignoring corrupt image/label: non-normalized or out of bounds coordinates [     1.1641]\n",
      "\u001b[34m\u001b[1mval: \u001b[0mWARNING ⚠️ /home/vscode/ultralytics/examples/datasets/DOTA-v2.0-patches/images/val/P0837__1024__524___1572.jpg: ignoring corrupt image/label: non-normalized or out of bounds coordinates [     1.1309]\n",
      "\u001b[34m\u001b[1mval: \u001b[0mWARNING ⚠️ /home/vscode/ultralytics/examples/datasets/DOTA-v2.0-patches/images/val/P0837__1024__524___1696.jpg: ignoring corrupt image/label: non-normalized or out of bounds coordinates [     1.1309]\n",
      "\u001b[34m\u001b[1mval: \u001b[0mWARNING ⚠️ /home/vscode/ultralytics/examples/datasets/DOTA-v2.0-patches/images/val/P0837__682__1002___2038.jpg: ignoring corrupt image/label: non-normalized or out of bounds coordinates [     1.0689]\n",
      "\u001b[34m\u001b[1mval: \u001b[0mWARNING ⚠️ /home/vscode/ultralytics/examples/datasets/DOTA-v2.0-patches/images/val/P0837__682__349___0.jpg: ignoring corrupt image/label: non-normalized or out of bounds coordinates [     1.4003]\n",
      "\u001b[34m\u001b[1mval: \u001b[0mWARNING ⚠️ /home/vscode/ultralytics/examples/datasets/DOTA-v2.0-patches/images/val/P0837__682__349___349.jpg: ignoring corrupt image/label: non-normalized or out of bounds coordinates [     1.4619      1.4003]\n",
      "\u001b[34m\u001b[1mval: \u001b[0mWARNING ⚠️ /home/vscode/ultralytics/examples/datasets/DOTA-v2.0-patches/images/val/P0837__682__349___698.jpg: ignoring corrupt image/label: non-normalized or out of bounds coordinates [     1.4619]\n",
      "\u001b[34m\u001b[1mval: \u001b[0mWARNING ⚠️ /home/vscode/ultralytics/examples/datasets/DOTA-v2.0-patches/images/val/P0837__682__698___1745.jpg: ignoring corrupt image/label: non-normalized or out of bounds coordinates [     1.0689]\n",
      "\u001b[34m\u001b[1mval: \u001b[0mWARNING ⚠️ /home/vscode/ultralytics/examples/datasets/DOTA-v2.0-patches/images/val/P0837__682__698___2038.jpg: ignoring corrupt image/label: non-normalized or out of bounds coordinates [     1.0689]\n",
      "\u001b[34m\u001b[1mval: \u001b[0mWARNING ⚠️ /home/vscode/ultralytics/examples/datasets/DOTA-v2.0-patches/images/val/P0838__682__349___0.jpg: ignoring corrupt image/label: non-normalized or out of bounds coordinates [     1.3182      1.3387]\n",
      "\u001b[34m\u001b[1mval: \u001b[0mWARNING ⚠️ /home/vscode/ultralytics/examples/datasets/DOTA-v2.0-patches/images/val/P0838__682__349___349.jpg: ignoring corrupt image/label: non-normalized or out of bounds coordinates [      1.283      1.3094      1.3182]\n",
      "\u001b[34m\u001b[1mval: \u001b[0mWARNING ⚠️ /home/vscode/ultralytics/examples/datasets/DOTA-v2.0-patches/images/val/P0838__682__349___698.jpg: ignoring corrupt image/label: non-normalized or out of bounds coordinates [      1.088      1.2595      1.3065       1.283      1.3094]\n",
      "\u001b[34m\u001b[1mval: \u001b[0mWARNING ⚠️ /home/vscode/ultralytics/examples/datasets/DOTA-v2.0-patches/images/val/P0838__682__349___983.jpg: ignoring corrupt image/label: non-normalized or out of bounds coordinates [      1.088      1.2595      1.3065]\n",
      "\u001b[34m\u001b[1mval: \u001b[0mWARNING ⚠️ /home/vscode/ultralytics/examples/datasets/DOTA-v2.0-patches/images/val/P0864__682__1396___0.jpg: ignoring corrupt image/label: non-normalized or out of bounds coordinates [     1.2214      1.1085]\n",
      "\u001b[34m\u001b[1mval: \u001b[0mWARNING ⚠️ /home/vscode/ultralytics/examples/datasets/DOTA-v2.0-patches/images/val/P0864__682__1396___349.jpg: ignoring corrupt image/label: non-normalized or out of bounds coordinates [      1.217      1.2214      1.1085]\n",
      "\u001b[34m\u001b[1mval: \u001b[0mWARNING ⚠️ /home/vscode/ultralytics/examples/datasets/DOTA-v2.0-patches/images/val/P0864__682__1396___698.jpg: ignoring corrupt image/label: non-normalized or out of bounds coordinates [     1.1114       1.217]\n",
      "\u001b[34m\u001b[1mval: \u001b[0mWARNING ⚠️ /home/vscode/ultralytics/examples/datasets/DOTA-v2.0-patches/images/val/P0864__682__2094___1047.jpg: ignoring corrupt image/label: non-normalized or out of bounds coordinates [      1.154]\n",
      "\u001b[34m\u001b[1mval: \u001b[0mWARNING ⚠️ /home/vscode/ultralytics/examples/datasets/DOTA-v2.0-patches/images/val/P0864__682__2094___698.jpg: ignoring corrupt image/label: non-normalized or out of bounds coordinates [      1.154]\n",
      "\u001b[34m\u001b[1mval: \u001b[0mWARNING ⚠️ /home/vscode/ultralytics/examples/datasets/DOTA-v2.0-patches/images/val/P0887__682__349___1745.jpg: ignoring corrupt image/label: non-normalized or out of bounds coordinates [     1.2566]\n",
      "\u001b[34m\u001b[1mval: \u001b[0mWARNING ⚠️ /home/vscode/ultralytics/examples/datasets/DOTA-v2.0-patches/images/val/P0887__682__349___2082.jpg: ignoring corrupt image/label: non-normalized or out of bounds coordinates [     1.0323]\n",
      "\u001b[34m\u001b[1mval: \u001b[0mWARNING ⚠️ /home/vscode/ultralytics/examples/datasets/DOTA-v2.0-patches/images/val/P0897__682__1396___1745.jpg: ignoring corrupt image/label: non-normalized or out of bounds coordinates [     1.0103      1.0132]\n",
      "\u001b[34m\u001b[1mval: \u001b[0mWARNING ⚠️ /home/vscode/ultralytics/examples/datasets/DOTA-v2.0-patches/images/val/P0897__682__1396___2094.jpg: ignoring corrupt image/label: non-normalized or out of bounds coordinates [     1.0103]\n",
      "\u001b[34m\u001b[1mval: \u001b[0mWARNING ⚠️ /home/vscode/ultralytics/examples/datasets/DOTA-v2.0-patches/images/val/P0897__682__349___3141.jpg: ignoring corrupt image/label: non-normalized or out of bounds coordinates [      1.327]\n",
      "\u001b[34m\u001b[1mval: \u001b[0mWARNING ⚠️ /home/vscode/ultralytics/examples/datasets/DOTA-v2.0-patches/images/val/P0897__682__349___3490.jpg: ignoring corrupt image/label: non-normalized or out of bounds coordinates [     1.4238       1.327]\n",
      "\u001b[34m\u001b[1mval: \u001b[0mWARNING ⚠️ /home/vscode/ultralytics/examples/datasets/DOTA-v2.0-patches/images/val/P0897__682__349___3839.jpg: ignoring corrupt image/label: non-normalized or out of bounds coordinates [     1.2962       1.437]\n",
      "\u001b[34m\u001b[1mval: \u001b[0mWARNING ⚠️ /home/vscode/ultralytics/examples/datasets/DOTA-v2.0-patches/images/val/P0897__682__698___3141.jpg: ignoring corrupt image/label: non-normalized or out of bounds coordinates [       1.11]\n",
      "\u001b[34m\u001b[1mval: \u001b[0mWARNING ⚠️ /home/vscode/ultralytics/examples/datasets/DOTA-v2.0-patches/images/val/P0964__682__1047___349.jpg: ignoring corrupt image/label: non-normalized or out of bounds coordinates [     1.0264]\n",
      "\u001b[34m\u001b[1mval: \u001b[0mWARNING ⚠️ /home/vscode/ultralytics/examples/datasets/DOTA-v2.0-patches/images/val/P0964__682__1047___469.jpg: ignoring corrupt image/label: non-normalized or out of bounds coordinates [     1.0264]\n",
      "\u001b[34m\u001b[1mval: \u001b[0mWARNING ⚠️ /home/vscode/ultralytics/examples/datasets/DOTA-v2.0-patches/images/val/P0964__682__1396___0.jpg: ignoring corrupt image/label: non-normalized or out of bounds coordinates [      1.044]\n",
      "\u001b[34m\u001b[1mval: \u001b[0mWARNING ⚠️ /home/vscode/ultralytics/examples/datasets/DOTA-v2.0-patches/images/val/P0964__682__1745___0.jpg: ignoring corrupt image/label: non-normalized or out of bounds coordinates [     1.0264       1.044]\n",
      "\u001b[34m\u001b[1mval: \u001b[0mWARNING ⚠️ /home/vscode/ultralytics/examples/datasets/DOTA-v2.0-patches/images/val/P0964__682__2094___0.jpg: ignoring corrupt image/label: non-normalized or out of bounds coordinates [     1.0264]\n",
      "\u001b[34m\u001b[1mval: \u001b[0mWARNING ⚠️ /home/vscode/ultralytics/examples/datasets/DOTA-v2.0-patches/images/val/P0964__682__698___349.jpg: ignoring corrupt image/label: non-normalized or out of bounds coordinates [     1.0264]\n",
      "\u001b[34m\u001b[1mval: \u001b[0mWARNING ⚠️ /home/vscode/ultralytics/examples/datasets/DOTA-v2.0-patches/images/val/P0964__682__698___469.jpg: ignoring corrupt image/label: non-normalized or out of bounds coordinates [     1.0264]\n",
      "\u001b[34m\u001b[1mval: \u001b[0mWARNING ⚠️ /home/vscode/ultralytics/examples/datasets/DOTA-v2.0-patches/images/val/P10442__682__0___342.jpg: ignoring corrupt image/label: non-normalized or out of bounds coordinates [     1.3666]\n",
      "\u001b[34m\u001b[1mval: \u001b[0mWARNING ⚠️ /home/vscode/ultralytics/examples/datasets/DOTA-v2.0-patches/images/val/P1122__682__4886___1047.jpg: ignoring corrupt image/label: non-normalized or out of bounds coordinates [     1.1657]\n",
      "\u001b[34m\u001b[1mval: \u001b[0mWARNING ⚠️ /home/vscode/ultralytics/examples/datasets/DOTA-v2.0-patches/images/val/P1122__682__5584___698.jpg: ignoring corrupt image/label: non-normalized or out of bounds coordinates [     1.2463]\n",
      "\u001b[34m\u001b[1mval: \u001b[0mWARNING ⚠️ /home/vscode/ultralytics/examples/datasets/DOTA-v2.0-patches/images/val/P1122__682__5933___698.jpg: ignoring corrupt image/label: non-normalized or out of bounds coordinates [     1.2463]\n",
      "\u001b[34m\u001b[1mval: \u001b[0mWARNING ⚠️ /home/vscode/ultralytics/examples/datasets/DOTA-v2.0-patches/images/val/P1128__682__349___0.jpg: ignoring corrupt image/label: non-normalized or out of bounds coordinates [     1.1012]\n",
      "\u001b[34m\u001b[1mval: \u001b[0mWARNING ⚠️ /home/vscode/ultralytics/examples/datasets/DOTA-v2.0-patches/images/val/P1128__682__349___349.jpg: ignoring corrupt image/label: non-normalized or out of bounds coordinates [     1.1012]\n",
      "\u001b[34m\u001b[1mval: \u001b[0mWARNING ⚠️ /home/vscode/ultralytics/examples/datasets/DOTA-v2.0-patches/images/val/P1128__682__698___349.jpg: ignoring corrupt image/label: non-normalized or out of bounds coordinates [     1.1012]\n",
      "\u001b[34m\u001b[1mval: \u001b[0mWARNING ⚠️ /home/vscode/ultralytics/examples/datasets/DOTA-v2.0-patches/images/val/P1147__682__349___2094.jpg: ignoring corrupt image/label: non-normalized or out of bounds coordinates [     1.1686      1.1085]\n",
      "\u001b[34m\u001b[1mval: \u001b[0mWARNING ⚠️ /home/vscode/ultralytics/examples/datasets/DOTA-v2.0-patches/images/val/P1234__682__3141___2443.jpg: ignoring corrupt image/label: non-normalized or out of bounds coordinates [     1.2229]\n",
      "\u001b[34m\u001b[1mval: \u001b[0mWARNING ⚠️ /home/vscode/ultralytics/examples/datasets/DOTA-v2.0-patches/images/val/P1234__682__3141___2792.jpg: ignoring corrupt image/label: non-normalized or out of bounds coordinates [     1.2229]\n",
      "\u001b[34m\u001b[1mval: \u001b[0mWARNING ⚠️ /home/vscode/ultralytics/examples/datasets/DOTA-v2.0-patches/images/val/P1234__682__3318___2443.jpg: ignoring corrupt image/label: non-normalized or out of bounds coordinates [     1.2229]\n",
      "\u001b[34m\u001b[1mval: \u001b[0mWARNING ⚠️ /home/vscode/ultralytics/examples/datasets/DOTA-v2.0-patches/images/val/P1234__682__3318___2792.jpg: ignoring corrupt image/label: non-normalized or out of bounds coordinates [     1.2229]\n",
      "\u001b[34m\u001b[1mval: \u001b[0mWARNING ⚠️ /home/vscode/ultralytics/examples/datasets/DOTA-v2.0-patches/images/val/P1268__682__0___1745.jpg: ignoring corrupt image/label: non-normalized or out of bounds coordinates [     1.1496]\n",
      "\u001b[34m\u001b[1mval: \u001b[0mWARNING ⚠️ /home/vscode/ultralytics/examples/datasets/DOTA-v2.0-patches/images/val/P1268__682__349___1745.jpg: ignoring corrupt image/label: non-normalized or out of bounds coordinates [     1.1496]\n",
      "\u001b[34m\u001b[1mval: \u001b[0mWARNING ⚠️ /home/vscode/ultralytics/examples/datasets/DOTA-v2.0-patches/images/val/P1398__682__3141___4188.jpg: ignoring corrupt image/label: non-normalized or out of bounds coordinates [     1.1012      1.0411]\n",
      "\u001b[34m\u001b[1mval: \u001b[0mWARNING ⚠️ /home/vscode/ultralytics/examples/datasets/DOTA-v2.0-patches/images/val/P1398__682__3141___4537.jpg: ignoring corrupt image/label: non-normalized or out of bounds coordinates [     1.1012      1.0411]\n",
      "\u001b[34m\u001b[1mval: \u001b[0mWARNING ⚠️ /home/vscode/ultralytics/examples/datasets/DOTA-v2.0-patches/images/val/P1398__682__3372___4188.jpg: ignoring corrupt image/label: non-normalized or out of bounds coordinates [     1.1012      1.0411]\n",
      "\u001b[34m\u001b[1mval: \u001b[0mWARNING ⚠️ /home/vscode/ultralytics/examples/datasets/DOTA-v2.0-patches/images/val/P1429__1024__524___0.jpg: ignoring corrupt image/label: non-normalized or out of bounds coordinates [     1.1064      1.0391]\n",
      "\u001b[34m\u001b[1mval: \u001b[0mWARNING ⚠️ /home/vscode/ultralytics/examples/datasets/DOTA-v2.0-patches/images/val/P1429__1024__524___524.jpg: ignoring corrupt image/label: non-normalized or out of bounds coordinates [     1.1064      1.0391]\n",
      "\u001b[34m\u001b[1mval: \u001b[0mWARNING ⚠️ /home/vscode/ultralytics/examples/datasets/DOTA-v2.0-patches/images/val/P1429__682__2094___1745.jpg: ignoring corrupt image/label: non-normalized or out of bounds coordinates [     1.1554]\n",
      "\u001b[34m\u001b[1mval: \u001b[0mWARNING ⚠️ /home/vscode/ultralytics/examples/datasets/DOTA-v2.0-patches/images/val/P1429__682__2443___1745.jpg: ignoring corrupt image/label: non-normalized or out of bounds coordinates [     1.1554]\n",
      "\u001b[34m\u001b[1mval: \u001b[0mWARNING ⚠️ /home/vscode/ultralytics/examples/datasets/DOTA-v2.0-patches/images/val/P1429__682__2483___1745.jpg: ignoring corrupt image/label: non-normalized or out of bounds coordinates [     1.1554]\n",
      "\u001b[34m\u001b[1mval: \u001b[0mWARNING ⚠️ /home/vscode/ultralytics/examples/datasets/DOTA-v2.0-patches/images/val/P1440__1024__950___0.jpg: ignoring corrupt image/label: non-normalized or out of bounds coordinates [     1.0332]\n",
      "\u001b[34m\u001b[1mval: \u001b[0mWARNING ⚠️ /home/vscode/ultralytics/examples/datasets/DOTA-v2.0-patches/images/val/P1440__1024__950___524.jpg: ignoring corrupt image/label: non-normalized or out of bounds coordinates [     1.0332]\n",
      "\u001b[34m\u001b[1mval: \u001b[0mWARNING ⚠️ /home/vscode/ultralytics/examples/datasets/DOTA-v2.0-patches/images/val/P1440__682__1047___349.jpg: ignoring corrupt image/label: non-normalized or out of bounds coordinates [     1.0176      1.2757      1.5513]\n",
      "\u001b[34m\u001b[1mval: \u001b[0mWARNING ⚠️ /home/vscode/ultralytics/examples/datasets/DOTA-v2.0-patches/images/val/P1440__682__1292___349.jpg: ignoring corrupt image/label: non-normalized or out of bounds coordinates [     1.0176]\n",
      "\u001b[34m\u001b[1mval: \u001b[0mWARNING ⚠️ /home/vscode/ultralytics/examples/datasets/DOTA-v2.0-patches/images/val/P1456__1024__2096___1048.jpg: ignoring corrupt image/label: non-normalized or out of bounds coordinates [     1.2598]\n",
      "\u001b[34m\u001b[1mval: \u001b[0mWARNING ⚠️ /home/vscode/ultralytics/examples/datasets/DOTA-v2.0-patches/images/val/P1456__1024__2470___1048.jpg: ignoring corrupt image/label: non-normalized or out of bounds coordinates [     1.2598]\n",
      "\u001b[34m\u001b[1mval: \u001b[0mWARNING ⚠️ /home/vscode/ultralytics/examples/datasets/DOTA-v2.0-patches/images/val/P1456__682__2443___1047.jpg: ignoring corrupt image/label: non-normalized or out of bounds coordinates [     1.1041]\n",
      "\u001b[34m\u001b[1mval: \u001b[0mWARNING ⚠️ /home/vscode/ultralytics/examples/datasets/DOTA-v2.0-patches/images/val/P1456__682__349___698.jpg: ignoring corrupt image/label: non-normalized or out of bounds coordinates [      1.107]\n",
      "\u001b[34m\u001b[1mval: \u001b[0mWARNING ⚠️ /home/vscode/ultralytics/examples/datasets/DOTA-v2.0-patches/images/val/P1463__1024__1048___1048.jpg: ignoring corrupt image/label: non-normalized or out of bounds coordinates [     1.1387       1.417]\n",
      "\u001b[34m\u001b[1mval: \u001b[0mWARNING ⚠️ /home/vscode/ultralytics/examples/datasets/DOTA-v2.0-patches/images/val/P1463__1024__2096___1572.jpg: ignoring corrupt image/label: non-normalized or out of bounds coordinates [     1.0908      1.2813]\n",
      "\u001b[34m\u001b[1mval: \u001b[0mWARNING ⚠️ /home/vscode/ultralytics/examples/datasets/DOTA-v2.0-patches/images/val/P1463__682__1047___1047.jpg: ignoring corrupt image/label: non-normalized or out of bounds coordinates [     1.0777      1.2375]\n",
      "\u001b[34m\u001b[1mval: \u001b[0mWARNING ⚠️ /home/vscode/ultralytics/examples/datasets/DOTA-v2.0-patches/images/val/P1463__682__1047___1396.jpg: ignoring corrupt image/label: non-normalized or out of bounds coordinates [     1.0777      1.2375]\n",
      "\u001b[34m\u001b[1mval: \u001b[0mWARNING ⚠️ /home/vscode/ultralytics/examples/datasets/DOTA-v2.0-patches/images/val/P1471__682__349___2094.jpg: ignoring corrupt image/label: non-normalized or out of bounds coordinates [     1.3461]\n",
      "\u001b[34m\u001b[1mval: \u001b[0mWARNING ⚠️ /home/vscode/ultralytics/examples/datasets/DOTA-v2.0-patches/images/val/P1786__682__1047___698.jpg: ignoring corrupt image/label: non-normalized or out of bounds coordinates [     1.1994      1.2302]\n",
      "\u001b[34m\u001b[1mval: \u001b[0mWARNING ⚠️ /home/vscode/ultralytics/examples/datasets/DOTA-v2.0-patches/images/val/P1903__682__349___0.jpg: ignoring corrupt image/label: non-normalized or out of bounds coordinates [     1.1114]\n",
      "\u001b[34m\u001b[1mval: \u001b[0mWARNING ⚠️ /home/vscode/ultralytics/examples/datasets/DOTA-v2.0-patches/images/val/P2121__682__0___349.jpg: ignoring corrupt image/label: non-normalized or out of bounds coordinates [     1.0425]\n",
      "\u001b[34m\u001b[1mval: \u001b[0mWARNING ⚠️ /home/vscode/ultralytics/examples/datasets/DOTA-v2.0-patches/images/val/P2121__682__0___433.jpg: ignoring corrupt image/label: non-normalized or out of bounds coordinates [     1.0425]\n",
      "\u001b[34m\u001b[1mval: \u001b[0mWARNING ⚠️ /home/vscode/ultralytics/examples/datasets/DOTA-v2.0-patches/images/val/P2121__682__158___349.jpg: ignoring corrupt image/label: non-normalized or out of bounds coordinates [     1.0425]\n",
      "\u001b[34m\u001b[1mval: \u001b[0mWARNING ⚠️ /home/vscode/ultralytics/examples/datasets/DOTA-v2.0-patches/images/val/P2121__682__158___433.jpg: ignoring corrupt image/label: non-normalized or out of bounds coordinates [     1.0425]\n",
      "\u001b[34m\u001b[1mval: \u001b[0mWARNING ⚠️ /home/vscode/ultralytics/examples/datasets/DOTA-v2.0-patches/images/val/P2286__682__1047___1047.jpg: ignoring corrupt image/label: non-normalized or out of bounds coordinates [     1.2361]\n",
      "\u001b[34m\u001b[1mval: \u001b[0mWARNING ⚠️ /home/vscode/ultralytics/examples/datasets/DOTA-v2.0-patches/images/val/P2286__682__1047___1384.jpg: ignoring corrupt image/label: non-normalized or out of bounds coordinates [     1.2361]\n",
      "\u001b[34m\u001b[1mval: \u001b[0mWARNING ⚠️ /home/vscode/ultralytics/examples/datasets/DOTA-v2.0-patches/images/val/P2365__1024__0___1048.jpg: ignoring corrupt image/label: non-normalized or out of bounds coordinates [     1.1533]\n",
      "\u001b[34m\u001b[1mval: \u001b[0mWARNING ⚠️ /home/vscode/ultralytics/examples/datasets/DOTA-v2.0-patches/images/val/P2365__1024__1048___1048.jpg: ignoring corrupt image/label: non-normalized or out of bounds coordinates [     1.1123]\n",
      "\u001b[34m\u001b[1mval: \u001b[0mWARNING ⚠️ /home/vscode/ultralytics/examples/datasets/DOTA-v2.0-patches/images/val/P2365__1024__1048___1303.jpg: ignoring corrupt image/label: non-normalized or out of bounds coordinates [     1.1123]\n",
      "\u001b[34m\u001b[1mval: \u001b[0mWARNING ⚠️ /home/vscode/ultralytics/examples/datasets/DOTA-v2.0-patches/images/val/P2365__1024__524___1048.jpg: ignoring corrupt image/label: non-normalized or out of bounds coordinates [     1.1533      1.1123]\n",
      "\u001b[34m\u001b[1mval: \u001b[0mWARNING ⚠️ /home/vscode/ultralytics/examples/datasets/DOTA-v2.0-patches/images/val/P2365__1024__524___1303.jpg: ignoring corrupt image/label: non-normalized or out of bounds coordinates [     1.1533]\n",
      "\u001b[34m\u001b[1mval: \u001b[0mWARNING ⚠️ /home/vscode/ultralytics/examples/datasets/DOTA-v2.0-patches/images/val/P2365__682__1745___349.jpg: ignoring corrupt image/label: non-normalized or out of bounds coordinates [     1.0484]\n",
      "\u001b[34m\u001b[1mval: \u001b[0mWARNING ⚠️ /home/vscode/ultralytics/examples/datasets/DOTA-v2.0-patches/images/val/P2365__682__2094___349.jpg: ignoring corrupt image/label: non-normalized or out of bounds coordinates [     1.0484]\n",
      "\u001b[34m\u001b[1mval: \u001b[0mWARNING ⚠️ /home/vscode/ultralytics/examples/datasets/DOTA-v2.0-patches/images/val/P2393__1024__1048___0.jpg: ignoring corrupt image/label: non-normalized or out of bounds coordinates [     1.0732]\n",
      "\u001b[34m\u001b[1mval: \u001b[0mWARNING ⚠️ /home/vscode/ultralytics/examples/datasets/DOTA-v2.0-patches/images/val/P2393__1024__1048___524.jpg: ignoring corrupt image/label: non-normalized or out of bounds coordinates [     1.0732]\n",
      "\u001b[34m\u001b[1mval: \u001b[0mWARNING ⚠️ /home/vscode/ultralytics/examples/datasets/DOTA-v2.0-patches/images/val/P2393__1024__1077___0.jpg: ignoring corrupt image/label: non-normalized or out of bounds coordinates [     1.0732]\n",
      "\u001b[34m\u001b[1mval: \u001b[0mWARNING ⚠️ /home/vscode/ultralytics/examples/datasets/DOTA-v2.0-patches/images/val/P2393__1024__1077___524.jpg: ignoring corrupt image/label: non-normalized or out of bounds coordinates [     1.0732]\n",
      "\u001b[34m\u001b[1mval: \u001b[0mWARNING ⚠️ /home/vscode/ultralytics/examples/datasets/DOTA-v2.0-patches/images/val/P2393__1024__524___524.jpg: ignoring corrupt image/label: non-normalized or out of bounds coordinates [     1.1709]\n",
      "\u001b[34m\u001b[1mval: \u001b[0mWARNING ⚠️ /home/vscode/ultralytics/examples/datasets/DOTA-v2.0-patches/images/val/P2393__1024__524___727.jpg: ignoring corrupt image/label: non-normalized or out of bounds coordinates [     1.1709]\n",
      "\u001b[34m\u001b[1mval: \u001b[0mWARNING ⚠️ /home/vscode/ultralytics/examples/datasets/DOTA-v2.0-patches/images/val/P2563__682__349___349.jpg: ignoring corrupt image/label: non-normalized or out of bounds coordinates [     1.2845]\n",
      "\u001b[34m\u001b[1mval: \u001b[0mWARNING ⚠️ /home/vscode/ultralytics/examples/datasets/DOTA-v2.0-patches/images/val/P2570__682__0___0.jpg: ignoring corrupt image/label: non-normalized or out of bounds coordinates [     1.1628]\n",
      "\u001b[34m\u001b[1mval: \u001b[0mWARNING ⚠️ /home/vscode/ultralytics/examples/datasets/DOTA-v2.0-patches/images/val/P2580__682__0___0.jpg: ignoring corrupt image/label: non-normalized or out of bounds coordinates [     1.0762]\n",
      "\u001b[34m\u001b[1mval: \u001b[0mWARNING ⚠️ /home/vscode/ultralytics/examples/datasets/DOTA-v2.0-patches/images/val/P2580__682__231___0.jpg: ignoring corrupt image/label: non-normalized or out of bounds coordinates [     1.0762]\n",
      "\u001b[34m\u001b[1mval: \u001b[0mWARNING ⚠️ /home/vscode/ultralytics/examples/datasets/DOTA-v2.0-patches/images/val/P2587__1024__0___0.jpg: ignoring corrupt image/label: non-normalized or out of bounds coordinates [     1.0371]\n",
      "\u001b[34m\u001b[1mval: \u001b[0mWARNING ⚠️ /home/vscode/ultralytics/examples/datasets/DOTA-v2.0-patches/images/val/P2587__1024__0___524.jpg: ignoring corrupt image/label: non-normalized or out of bounds coordinates [     1.0049      1.0371]\n",
      "\u001b[34m\u001b[1mval: \u001b[0mWARNING ⚠️ /home/vscode/ultralytics/examples/datasets/DOTA-v2.0-patches/images/val/P2587__1024__524___524.jpg: ignoring corrupt image/label: non-normalized or out of bounds coordinates [     1.0049]\n",
      "\u001b[34m\u001b[1mval: \u001b[0mWARNING ⚠️ /home/vscode/ultralytics/examples/datasets/DOTA-v2.0-patches/images/val/P2592__682__698___349.jpg: ignoring corrupt image/label: non-normalized or out of bounds coordinates [      1.063      1.2449]\n",
      "\u001b[34m\u001b[1mval: \u001b[0mWARNING ⚠️ /home/vscode/ultralytics/examples/datasets/DOTA-v2.0-patches/images/val/P2593__682__0___349.jpg: ignoring corrupt image/label: non-normalized or out of bounds coordinates [     1.1012]\n",
      "\u001b[34m\u001b[1mval: \u001b[0mWARNING ⚠️ /home/vscode/ultralytics/examples/datasets/DOTA-v2.0-patches/images/val/P2595__682__286___349.jpg: ignoring corrupt image/label: non-normalized or out of bounds coordinates [     1.0455]\n",
      "\u001b[34m\u001b[1mval: \u001b[0mWARNING ⚠️ /home/vscode/ultralytics/examples/datasets/DOTA-v2.0-patches/images/val/P2598__682__1396___698.jpg: ignoring corrupt image/label: non-normalized or out of bounds coordinates [     1.0073      1.4179]\n",
      "\u001b[34m\u001b[1mval: \u001b[0mWARNING ⚠️ /home/vscode/ultralytics/examples/datasets/DOTA-v2.0-patches/images/val/P2598__682__698___349.jpg: ignoring corrupt image/label: non-normalized or out of bounds coordinates [     1.0015]\n",
      "\u001b[34m\u001b[1mval: \u001b[0mWARNING ⚠️ /home/vscode/ultralytics/examples/datasets/DOTA-v2.0-patches/images/val/P2726__682__1396___698.jpg: ignoring corrupt image/label: non-normalized or out of bounds coordinates [     1.0616      1.1833]\n",
      "\u001b[34m\u001b[1mval: \u001b[0mWARNING ⚠️ /home/vscode/ultralytics/examples/datasets/DOTA-v2.0-patches/images/val/P2733__682__1745___349.jpg: ignoring corrupt image/label: non-normalized or out of bounds coordinates [     1.2185]\n",
      "\u001b[34m\u001b[1mval: \u001b[0mWARNING ⚠️ /home/vscode/ultralytics/examples/datasets/DOTA-v2.0-patches/images/val/P2733__682__1745___698.jpg: ignoring corrupt image/label: non-normalized or out of bounds coordinates [     1.2185]\n",
      "\u001b[34m\u001b[1mval: \u001b[0mWARNING ⚠️ /home/vscode/ultralytics/examples/datasets/DOTA-v2.0-patches/images/val/P2754__682__1047___349.jpg: ignoring corrupt image/label: non-normalized or out of bounds coordinates [     1.0132]\n",
      "\u001b[34m\u001b[1mval: \u001b[0mWARNING ⚠️ /home/vscode/ultralytics/examples/datasets/DOTA-v2.0-patches/images/val/P2781__1024__2531___524.jpg: ignoring corrupt image/label: non-normalized or out of bounds coordinates [     1.0801]\n",
      "\u001b[34m\u001b[1mval: \u001b[0mWARNING ⚠️ /home/vscode/ultralytics/examples/datasets/DOTA-v2.0-patches/images/val/P2789__1024__524___2620.jpg: ignoring corrupt image/label: non-normalized or out of bounds coordinates [     1.1787       1.085]\n",
      "\u001b[34m\u001b[1mval: \u001b[0mWARNING ⚠️ /home/vscode/ultralytics/examples/datasets/DOTA-v2.0-patches/images/val/P2789__1024__524___3144.jpg: ignoring corrupt image/label: non-normalized or out of bounds coordinates [     1.1787       1.085]\n",
      "\u001b[34m\u001b[1mval: \u001b[0mWARNING ⚠️ /home/vscode/ultralytics/examples/datasets/DOTA-v2.0-patches/images/val/P2789__1024__524___3473.jpg: ignoring corrupt image/label: non-normalized or out of bounds coordinates [      1.085]\n",
      "\u001b[34m\u001b[1mval: \u001b[0mWARNING ⚠️ /home/vscode/ultralytics/examples/datasets/DOTA-v2.0-patches/images/val/P2789__2048__2096___0.jpg: ignoring corrupt image/label: non-normalized or out of bounds coordinates [     1.0361]\n",
      "\u001b[34m\u001b[1mval: \u001b[0mWARNING ⚠️ /home/vscode/ultralytics/examples/datasets/DOTA-v2.0-patches/images/val/P2789__2048__2096___1048.jpg: ignoring corrupt image/label: non-normalized or out of bounds coordinates [     1.1729      1.0361]\n",
      "\u001b[34m\u001b[1mval: \u001b[0mWARNING ⚠️ /home/vscode/ultralytics/examples/datasets/DOTA-v2.0-patches/images/val/P2794__1024__1048___524.jpg: ignoring corrupt image/label: non-normalized or out of bounds coordinates [     1.0264]\n",
      "\u001b[34m\u001b[1mval: \u001b[0mWARNING ⚠️ /home/vscode/ultralytics/examples/datasets/DOTA-v2.0-patches/images/val/P2956__682__342___0.jpg: ignoring corrupt image/label: non-normalized or out of bounds coordinates [     1.0953      1.0132]\n",
      "\u001b[34m\u001b[1mval: \u001b[0mWARNING ⚠️ /home/vscode/ultralytics/examples/datasets/DOTA-v2.0-patches/images/val/P3032__1024__0___0.jpg: ignoring corrupt image/label: non-normalized or out of bounds coordinates [          1]\n",
      "\u001b[34m\u001b[1mval: \u001b[0mWARNING ⚠️ /home/vscode/ultralytics/examples/datasets/DOTA-v2.0-patches/images/val/P3106__682__0___342.jpg: ignoring corrupt image/label: non-normalized or out of bounds coordinates [     1.0777]\n",
      "\u001b[34m\u001b[1mval: \u001b[0mWARNING ⚠️ /home/vscode/ultralytics/examples/datasets/DOTA-v2.0-patches/images/val/P3106__682__342___342.jpg: ignoring corrupt image/label: non-normalized or out of bounds coordinates [     1.0777]\n",
      "\u001b[34m\u001b[1mval: \u001b[0mWARNING ⚠️ /home/vscode/ultralytics/examples/datasets/DOTA-v2.0-patches/images/val/P3367__1024__0___0.jpg: ignoring corrupt image/label: non-normalized or out of bounds coordinates [      1.001]\n",
      "\u001b[34m\u001b[1mval: \u001b[0mWARNING ⚠️ /home/vscode/ultralytics/examples/datasets/DOTA-v2.0-patches/images/val/P4083__682__342___0.jpg: ignoring corrupt image/label: non-normalized or out of bounds coordinates [     1.0924]\n",
      "\u001b[34m\u001b[1mval: \u001b[0mWARNING ⚠️ /home/vscode/ultralytics/examples/datasets/DOTA-v2.0-patches/images/val/P4083__682__342___342.jpg: ignoring corrupt image/label: non-normalized or out of bounds coordinates [     1.0924]\n",
      "\u001b[34m\u001b[1mval: \u001b[0mWARNING ⚠️ /home/vscode/ultralytics/examples/datasets/DOTA-v2.0-patches/images/val/P4151__1024__1048___0.jpg: ignoring corrupt image/label: non-normalized or out of bounds coordinates [     1.3135]\n",
      "\u001b[34m\u001b[1mval: \u001b[0mWARNING ⚠️ /home/vscode/ultralytics/examples/datasets/DOTA-v2.0-patches/images/val/P4526__682__0___0.jpg: ignoring corrupt image/label: non-normalized or out of bounds coordinates [     1.0836]\n",
      "\u001b[34m\u001b[1mval: \u001b[0mWARNING ⚠️ /home/vscode/ultralytics/examples/datasets/DOTA-v2.0-patches/images/val/P4526__682__0___342.jpg: ignoring corrupt image/label: non-normalized or out of bounds coordinates [     1.0836]\n",
      "\u001b[34m\u001b[1mval: \u001b[0mWARNING ⚠️ /home/vscode/ultralytics/examples/datasets/DOTA-v2.0-patches/images/val/P4526__682__342___0.jpg: ignoring corrupt image/label: non-normalized or out of bounds coordinates [     1.0836]\n",
      "\u001b[34m\u001b[1mval: \u001b[0mWARNING ⚠️ /home/vscode/ultralytics/examples/datasets/DOTA-v2.0-patches/images/val/P4526__682__342___342.jpg: ignoring corrupt image/label: non-normalized or out of bounds coordinates [     1.0836]\n",
      "\u001b[34m\u001b[1mval: \u001b[0mWARNING ⚠️ /home/vscode/ultralytics/examples/datasets/DOTA-v2.0-patches/images/val/P4772__682__0___0.jpg: ignoring corrupt image/label: non-normalized or out of bounds coordinates [     1.1144]\n",
      "\u001b[34m\u001b[1mval: \u001b[0mWARNING ⚠️ /home/vscode/ultralytics/examples/datasets/DOTA-v2.0-patches/images/val/P4772__682__0___342.jpg: ignoring corrupt image/label: non-normalized or out of bounds coordinates [     1.1144]\n",
      "\u001b[34m\u001b[1mval: \u001b[0mWARNING ⚠️ /home/vscode/ultralytics/examples/datasets/DOTA-v2.0-patches/images/val/P4962__682__0___0.jpg: ignoring corrupt image/label: non-normalized or out of bounds coordinates [     1.2375]\n",
      "\u001b[34m\u001b[1mval: \u001b[0mWARNING ⚠️ /home/vscode/ultralytics/examples/datasets/DOTA-v2.0-patches/images/val/P4962__682__0___342.jpg: ignoring corrupt image/label: non-normalized or out of bounds coordinates [     1.2375]\n",
      "\u001b[34m\u001b[1mval: \u001b[0mWARNING ⚠️ /home/vscode/ultralytics/examples/datasets/DOTA-v2.0-patches/images/val/P5691__682__0___0.jpg: ignoring corrupt image/label: non-normalized or out of bounds coordinates [     1.0586]\n",
      "\u001b[34m\u001b[1mval: \u001b[0mWARNING ⚠️ /home/vscode/ultralytics/examples/datasets/DOTA-v2.0-patches/images/val/P5728__682__0___342.jpg: ignoring corrupt image/label: non-normalized or out of bounds coordinates [     1.0968]\n",
      "\u001b[34m\u001b[1mval: \u001b[0mWARNING ⚠️ /home/vscode/ultralytics/examples/datasets/DOTA-v2.0-patches/images/val/P5728__682__342___342.jpg: ignoring corrupt image/label: non-normalized or out of bounds coordinates [     1.0968]\n",
      "\u001b[34m\u001b[1mval: \u001b[0mWARNING ⚠️ /home/vscode/ultralytics/examples/datasets/DOTA-v2.0-patches/images/val/P6418__682__342___0.jpg: ignoring corrupt image/label: non-normalized or out of bounds coordinates [     1.1305]\n",
      "\u001b[34m\u001b[1mval: \u001b[0mWARNING ⚠️ /home/vscode/ultralytics/examples/datasets/DOTA-v2.0-patches/images/val/P6418__682__342___342.jpg: ignoring corrupt image/label: non-normalized or out of bounds coordinates [     1.1305]\n",
      "\u001b[34m\u001b[1mval: \u001b[0mWARNING ⚠️ /home/vscode/ultralytics/examples/datasets/DOTA-v2.0-patches/images/val/P6769__1024__0___3144.jpg: ignoring corrupt image/label: non-normalized or out of bounds coordinates [     1.2764]\n",
      "\u001b[34m\u001b[1mval: \u001b[0mWARNING ⚠️ /home/vscode/ultralytics/examples/datasets/DOTA-v2.0-patches/images/val/P7431__1024__3072___1572.jpg: ignoring corrupt image/label: non-normalized or out of bounds coordinates [     1.4922]\n",
      "\u001b[34m\u001b[1mval: \u001b[0mWARNING ⚠️ /home/vscode/ultralytics/examples/datasets/DOTA-v2.0-patches/images/val/P7431__682__3141___2792.jpg: ignoring corrupt image/label: non-normalized or out of bounds coordinates [     1.2581]\n",
      "\u001b[34m\u001b[1mval: \u001b[0mWARNING ⚠️ /home/vscode/ultralytics/examples/datasets/DOTA-v2.0-patches/images/val/P7800__682__0___342.jpg: ignoring corrupt image/label: non-normalized or out of bounds coordinates [     1.0455]\n",
      "\u001b[34m\u001b[1mval: \u001b[0mWARNING ⚠️ /home/vscode/ultralytics/examples/datasets/DOTA-v2.0-patches/images/val/P7800__682__342___342.jpg: ignoring corrupt image/label: non-normalized or out of bounds coordinates [     1.0455]\n",
      "\u001b[34m\u001b[1mval: \u001b[0mWARNING ⚠️ /home/vscode/ultralytics/examples/datasets/DOTA-v2.0-patches/images/val/P8081__682__0___0.jpg: ignoring corrupt image/label: non-normalized or out of bounds coordinates [     1.3446]\n",
      "\u001b[34m\u001b[1mval: \u001b[0mWARNING ⚠️ /home/vscode/ultralytics/examples/datasets/DOTA-v2.0-patches/images/val/P8081__682__0___342.jpg: ignoring corrupt image/label: non-normalized or out of bounds coordinates [     1.3446]\n",
      "\u001b[34m\u001b[1mval: \u001b[0mWARNING ⚠️ /home/vscode/ultralytics/examples/datasets/DOTA-v2.0-patches/images/val/P9594__682__2094___2094.jpg: ignoring corrupt image/label: non-normalized or out of bounds coordinates [     1.2859]\n",
      "\u001b[34m\u001b[1mval: \u001b[0mWARNING ⚠️ /home/vscode/ultralytics/examples/datasets/DOTA-v2.0-patches/images/val/P9735__682__0___342.jpg: ignoring corrupt image/label: non-normalized or out of bounds coordinates [     1.1657]\n",
      "\u001b[34m\u001b[1mval: \u001b[0mWARNING ⚠️ /home/vscode/ultralytics/examples/datasets/DOTA-v2.0-patches/images/val/P9735__682__342___342.jpg: ignoring corrupt image/label: non-normalized or out of bounds coordinates [     1.1657]\n"
     ]
    },
    {
     "name": "stderr",
     "output_type": "stream",
     "text": [
      "\n"
     ]
    },
    {
     "name": "stdout",
     "output_type": "stream",
     "text": [
      "\u001b[34m\u001b[1mval: \u001b[0mNew cache created: /home/vscode/ultralytics/examples/datasets/DOTA-v2.0-patches/labels/val.cache\n",
      "Plotting labels to runs/obb/train38/labels.jpg... \n",
      "\u001b[34m\u001b[1moptimizer:\u001b[0m 'optimizer=auto' found, ignoring 'lr0=0.01' and 'momentum=0.937' and determining best 'optimizer', 'lr0' and 'momentum' automatically... \n",
      "\u001b[34m\u001b[1moptimizer:\u001b[0m AdamW(lr=0.000455, momentum=0.9) with parameter groups 63 weight(decay=0.0), 73 weight(decay=0.0005078125), 72 bias(decay=0.0)\n",
      "\u001b[34m\u001b[1mTensorBoard: \u001b[0mmodel graph visualization added ✅\n",
      "Image sizes 640 train, 640 val\n",
      "Using 8 dataloader workers\n",
      "Logging results to \u001b[1mruns/obb/train38\u001b[0m\n",
      "Starting training for 20 epochs...\n",
      "\n",
      "      Epoch    GPU_mem   box_loss   cls_loss   dfl_loss  Instances       Size\n"
     ]
    },
    {
     "name": "stderr",
     "output_type": "stream",
     "text": [
      "       1/20      2.13G      2.619      3.411      2.074        101        640: 100%|██████████| 341/341 [00:28<00:00, 11.85it/s]\n",
      "                 Class     Images  Instances      Box(P          R      mAP50  mAP50-95):   5%|▍         | 466/9961 [00:55<19:00,  8.33it/s]  \n"
     ]
    },
    {
     "ename": "OutOfMemoryError",
     "evalue": "CUDA out of memory. Tried to allocate 608.00 MiB. GPU 0 has a total capacty of 5.76 GiB of which 220.06 MiB is free. Process 2041898 has 5.29 GiB memory in use. Of the allocated memory 3.10 GiB is allocated by PyTorch, and 1.12 GiB is reserved by PyTorch but unallocated. If reserved but unallocated memory is large try setting max_split_size_mb to avoid fragmentation.  See documentation for Memory Management and PYTORCH_CUDA_ALLOC_CONF",
     "output_type": "error",
     "traceback": [
      "\u001b[0;31m---------------------------------------------------------------------------\u001b[0m",
      "\u001b[0;31mOutOfMemoryError\u001b[0m                          Traceback (most recent call last)",
      "Cell \u001b[0;32mIn[1], line 21\u001b[0m\n\u001b[1;32m     18\u001b[0m model \u001b[38;5;241m=\u001b[39m YOLO(\u001b[38;5;124m'\u001b[39m\u001b[38;5;124myolov8n-obb.yaml\u001b[39m\u001b[38;5;124m'\u001b[39m)\u001b[38;5;241m.\u001b[39mload(\u001b[38;5;124m'\u001b[39m\u001b[38;5;124myolov8n.pt\u001b[39m\u001b[38;5;124m'\u001b[39m)  \u001b[38;5;66;03m# build from YAML and transfer weights\u001b[39;00m\n\u001b[1;32m     20\u001b[0m \u001b[38;5;66;03m# Train the model\u001b[39;00m\n\u001b[0;32m---> 21\u001b[0m results \u001b[38;5;241m=\u001b[39m \u001b[43mmodel\u001b[49m\u001b[38;5;241;43m.\u001b[39;49m\u001b[43mtrain\u001b[49m\u001b[43m(\u001b[49m\u001b[43mdata\u001b[49m\u001b[38;5;241;43m=\u001b[39;49m\u001b[38;5;124;43m'\u001b[39;49m\u001b[38;5;124;43mDOTAv2.0-patches.yaml\u001b[39;49m\u001b[38;5;124;43m'\u001b[39;49m\u001b[43m,\u001b[49m\u001b[43m \u001b[49m\u001b[43mepochs\u001b[49m\u001b[38;5;241;43m=\u001b[39;49m\u001b[38;5;241;43m20\u001b[39;49m\u001b[43m,\u001b[49m\u001b[43m \u001b[49m\u001b[43mimgsz\u001b[49m\u001b[38;5;241;43m=\u001b[39;49m\u001b[38;5;241;43m640\u001b[39;49m\u001b[43m,\u001b[49m\u001b[43m \u001b[49m\u001b[43mfraction\u001b[49m\u001b[38;5;241;43m=\u001b[39;49m\u001b[38;5;241;43m.01\u001b[39;49m\u001b[43m,\u001b[49m\u001b[43m \u001b[49m\u001b[43mbatch\u001b[49m\u001b[38;5;241;43m=\u001b[39;49m\u001b[38;5;241;43m5\u001b[39;49m\u001b[43m)\u001b[49m\t \u001b[38;5;66;03m# data='dota8.yaml' multi_scale=True,mixup=1.0, \u001b[39;00m\n",
      "File \u001b[0;32m~/ultralytics/ultralytics/engine/model.py:601\u001b[0m, in \u001b[0;36mModel.train\u001b[0;34m(self, trainer, **kwargs)\u001b[0m\n\u001b[1;32m    598\u001b[0m             \u001b[38;5;28;01mpass\u001b[39;00m\n\u001b[1;32m    600\u001b[0m \u001b[38;5;28mself\u001b[39m\u001b[38;5;241m.\u001b[39mtrainer\u001b[38;5;241m.\u001b[39mhub_session \u001b[38;5;241m=\u001b[39m \u001b[38;5;28mself\u001b[39m\u001b[38;5;241m.\u001b[39msession  \u001b[38;5;66;03m# attach optional HUB session\u001b[39;00m\n\u001b[0;32m--> 601\u001b[0m \u001b[38;5;28;43mself\u001b[39;49m\u001b[38;5;241;43m.\u001b[39;49m\u001b[43mtrainer\u001b[49m\u001b[38;5;241;43m.\u001b[39;49m\u001b[43mtrain\u001b[49m\u001b[43m(\u001b[49m\u001b[43m)\u001b[49m\n\u001b[1;32m    602\u001b[0m \u001b[38;5;66;03m# Update model and cfg after training\u001b[39;00m\n\u001b[1;32m    603\u001b[0m \u001b[38;5;28;01mif\u001b[39;00m RANK \u001b[38;5;129;01min\u001b[39;00m (\u001b[38;5;241m-\u001b[39m\u001b[38;5;241m1\u001b[39m, \u001b[38;5;241m0\u001b[39m):\n",
      "File \u001b[0;32m~/ultralytics/ultralytics/engine/trainer.py:208\u001b[0m, in \u001b[0;36mBaseTrainer.train\u001b[0;34m(self)\u001b[0m\n\u001b[1;32m    205\u001b[0m         ddp_cleanup(\u001b[38;5;28mself\u001b[39m, \u001b[38;5;28mstr\u001b[39m(file))\n\u001b[1;32m    207\u001b[0m \u001b[38;5;28;01melse\u001b[39;00m:\n\u001b[0;32m--> 208\u001b[0m     \u001b[38;5;28;43mself\u001b[39;49m\u001b[38;5;241;43m.\u001b[39;49m\u001b[43m_do_train\u001b[49m\u001b[43m(\u001b[49m\u001b[43mworld_size\u001b[49m\u001b[43m)\u001b[49m\n",
      "File \u001b[0;32m~/ultralytics/ultralytics/engine/trainer.py:424\u001b[0m, in \u001b[0;36mBaseTrainer._do_train\u001b[0;34m(self, world_size)\u001b[0m\n\u001b[1;32m    422\u001b[0m \u001b[38;5;66;03m# Validation\u001b[39;00m\n\u001b[1;32m    423\u001b[0m \u001b[38;5;28;01mif\u001b[39;00m \u001b[38;5;28mself\u001b[39m\u001b[38;5;241m.\u001b[39margs\u001b[38;5;241m.\u001b[39mval \u001b[38;5;129;01mor\u001b[39;00m final_epoch \u001b[38;5;129;01mor\u001b[39;00m \u001b[38;5;28mself\u001b[39m\u001b[38;5;241m.\u001b[39mstopper\u001b[38;5;241m.\u001b[39mpossible_stop \u001b[38;5;129;01mor\u001b[39;00m \u001b[38;5;28mself\u001b[39m\u001b[38;5;241m.\u001b[39mstop:\n\u001b[0;32m--> 424\u001b[0m     \u001b[38;5;28mself\u001b[39m\u001b[38;5;241m.\u001b[39mmetrics, \u001b[38;5;28mself\u001b[39m\u001b[38;5;241m.\u001b[39mfitness \u001b[38;5;241m=\u001b[39m \u001b[38;5;28;43mself\u001b[39;49m\u001b[38;5;241;43m.\u001b[39;49m\u001b[43mvalidate\u001b[49m\u001b[43m(\u001b[49m\u001b[43m)\u001b[49m\n\u001b[1;32m    425\u001b[0m \u001b[38;5;28mself\u001b[39m\u001b[38;5;241m.\u001b[39msave_metrics(metrics\u001b[38;5;241m=\u001b[39m{\u001b[38;5;241m*\u001b[39m\u001b[38;5;241m*\u001b[39m\u001b[38;5;28mself\u001b[39m\u001b[38;5;241m.\u001b[39mlabel_loss_items(\u001b[38;5;28mself\u001b[39m\u001b[38;5;241m.\u001b[39mtloss), \u001b[38;5;241m*\u001b[39m\u001b[38;5;241m*\u001b[39m\u001b[38;5;28mself\u001b[39m\u001b[38;5;241m.\u001b[39mmetrics, \u001b[38;5;241m*\u001b[39m\u001b[38;5;241m*\u001b[39m\u001b[38;5;28mself\u001b[39m\u001b[38;5;241m.\u001b[39mlr})\n\u001b[1;32m    426\u001b[0m \u001b[38;5;28mself\u001b[39m\u001b[38;5;241m.\u001b[39mstop \u001b[38;5;241m|\u001b[39m\u001b[38;5;241m=\u001b[39m \u001b[38;5;28mself\u001b[39m\u001b[38;5;241m.\u001b[39mstopper(epoch \u001b[38;5;241m+\u001b[39m \u001b[38;5;241m1\u001b[39m, \u001b[38;5;28mself\u001b[39m\u001b[38;5;241m.\u001b[39mfitness) \u001b[38;5;129;01mor\u001b[39;00m final_epoch\n",
      "File \u001b[0;32m~/ultralytics/ultralytics/engine/trainer.py:544\u001b[0m, in \u001b[0;36mBaseTrainer.validate\u001b[0;34m(self)\u001b[0m\n\u001b[1;32m    538\u001b[0m \u001b[38;5;28;01mdef\u001b[39;00m \u001b[38;5;21mvalidate\u001b[39m(\u001b[38;5;28mself\u001b[39m):\n\u001b[1;32m    539\u001b[0m \u001b[38;5;250m    \u001b[39m\u001b[38;5;124;03m\"\"\"\u001b[39;00m\n\u001b[1;32m    540\u001b[0m \u001b[38;5;124;03m    Runs validation on test set using self.validator.\u001b[39;00m\n\u001b[1;32m    541\u001b[0m \n\u001b[1;32m    542\u001b[0m \u001b[38;5;124;03m    The returned dict is expected to contain \"fitness\" key.\u001b[39;00m\n\u001b[1;32m    543\u001b[0m \u001b[38;5;124;03m    \"\"\"\u001b[39;00m\n\u001b[0;32m--> 544\u001b[0m     metrics \u001b[38;5;241m=\u001b[39m \u001b[38;5;28;43mself\u001b[39;49m\u001b[38;5;241;43m.\u001b[39;49m\u001b[43mvalidator\u001b[49m\u001b[43m(\u001b[49m\u001b[38;5;28;43mself\u001b[39;49m\u001b[43m)\u001b[49m\n\u001b[1;32m    545\u001b[0m     fitness \u001b[38;5;241m=\u001b[39m metrics\u001b[38;5;241m.\u001b[39mpop(\u001b[38;5;124m\"\u001b[39m\u001b[38;5;124mfitness\u001b[39m\u001b[38;5;124m\"\u001b[39m, \u001b[38;5;241m-\u001b[39m\u001b[38;5;28mself\u001b[39m\u001b[38;5;241m.\u001b[39mloss\u001b[38;5;241m.\u001b[39mdetach()\u001b[38;5;241m.\u001b[39mcpu()\u001b[38;5;241m.\u001b[39mnumpy())  \u001b[38;5;66;03m# use loss as fitness measure if not found\u001b[39;00m\n\u001b[1;32m    546\u001b[0m     \u001b[38;5;28;01mif\u001b[39;00m \u001b[38;5;129;01mnot\u001b[39;00m \u001b[38;5;28mself\u001b[39m\u001b[38;5;241m.\u001b[39mbest_fitness \u001b[38;5;129;01mor\u001b[39;00m \u001b[38;5;28mself\u001b[39m\u001b[38;5;241m.\u001b[39mbest_fitness \u001b[38;5;241m<\u001b[39m fitness:\n",
      "File \u001b[0;32m/usr/local/lib/python3.11/dist-packages/torch/utils/_contextlib.py:115\u001b[0m, in \u001b[0;36mcontext_decorator.<locals>.decorate_context\u001b[0;34m(*args, **kwargs)\u001b[0m\n\u001b[1;32m    112\u001b[0m \u001b[38;5;129m@functools\u001b[39m\u001b[38;5;241m.\u001b[39mwraps(func)\n\u001b[1;32m    113\u001b[0m \u001b[38;5;28;01mdef\u001b[39;00m \u001b[38;5;21mdecorate_context\u001b[39m(\u001b[38;5;241m*\u001b[39margs, \u001b[38;5;241m*\u001b[39m\u001b[38;5;241m*\u001b[39mkwargs):\n\u001b[1;32m    114\u001b[0m     \u001b[38;5;28;01mwith\u001b[39;00m ctx_factory():\n\u001b[0;32m--> 115\u001b[0m         \u001b[38;5;28;01mreturn\u001b[39;00m \u001b[43mfunc\u001b[49m\u001b[43m(\u001b[49m\u001b[38;5;241;43m*\u001b[39;49m\u001b[43margs\u001b[49m\u001b[43m,\u001b[49m\u001b[43m \u001b[49m\u001b[38;5;241;43m*\u001b[39;49m\u001b[38;5;241;43m*\u001b[39;49m\u001b[43mkwargs\u001b[49m\u001b[43m)\u001b[49m\n",
      "File \u001b[0;32m~/ultralytics/ultralytics/engine/validator.py:185\u001b[0m, in \u001b[0;36mBaseValidator.__call__\u001b[0;34m(self, trainer, model)\u001b[0m\n\u001b[1;32m    183\u001b[0m \u001b[38;5;66;03m# Postprocess\u001b[39;00m\n\u001b[1;32m    184\u001b[0m \u001b[38;5;28;01mwith\u001b[39;00m dt[\u001b[38;5;241m3\u001b[39m]:\n\u001b[0;32m--> 185\u001b[0m     preds \u001b[38;5;241m=\u001b[39m \u001b[38;5;28;43mself\u001b[39;49m\u001b[38;5;241;43m.\u001b[39;49m\u001b[43mpostprocess\u001b[49m\u001b[43m(\u001b[49m\u001b[43mpreds\u001b[49m\u001b[43m)\u001b[49m\n\u001b[1;32m    187\u001b[0m \u001b[38;5;28mself\u001b[39m\u001b[38;5;241m.\u001b[39mupdate_metrics(preds, batch)\n\u001b[1;32m    188\u001b[0m \u001b[38;5;28;01mif\u001b[39;00m \u001b[38;5;28mself\u001b[39m\u001b[38;5;241m.\u001b[39margs\u001b[38;5;241m.\u001b[39mplots \u001b[38;5;129;01mand\u001b[39;00m batch_i \u001b[38;5;241m<\u001b[39m \u001b[38;5;241m3\u001b[39m:\n",
      "File \u001b[0;32m~/ultralytics/ultralytics/models/yolo/obb/val.py:41\u001b[0m, in \u001b[0;36mOBBValidator.postprocess\u001b[0;34m(self, preds)\u001b[0m\n\u001b[1;32m     39\u001b[0m \u001b[38;5;28;01mdef\u001b[39;00m \u001b[38;5;21mpostprocess\u001b[39m(\u001b[38;5;28mself\u001b[39m, preds):\n\u001b[1;32m     40\u001b[0m \u001b[38;5;250m    \u001b[39m\u001b[38;5;124;03m\"\"\"Apply Non-maximum suppression to prediction outputs.\"\"\"\u001b[39;00m\n\u001b[0;32m---> 41\u001b[0m     \u001b[38;5;28;01mreturn\u001b[39;00m \u001b[43mops\u001b[49m\u001b[38;5;241;43m.\u001b[39;49m\u001b[43mnon_max_suppression\u001b[49m\u001b[43m(\u001b[49m\n\u001b[1;32m     42\u001b[0m \u001b[43m        \u001b[49m\u001b[43mpreds\u001b[49m\u001b[43m,\u001b[49m\n\u001b[1;32m     43\u001b[0m \u001b[43m        \u001b[49m\u001b[38;5;28;43mself\u001b[39;49m\u001b[38;5;241;43m.\u001b[39;49m\u001b[43margs\u001b[49m\u001b[38;5;241;43m.\u001b[39;49m\u001b[43mconf\u001b[49m\u001b[43m,\u001b[49m\n\u001b[1;32m     44\u001b[0m \u001b[43m        \u001b[49m\u001b[38;5;28;43mself\u001b[39;49m\u001b[38;5;241;43m.\u001b[39;49m\u001b[43margs\u001b[49m\u001b[38;5;241;43m.\u001b[39;49m\u001b[43miou\u001b[49m\u001b[43m,\u001b[49m\n\u001b[1;32m     45\u001b[0m \u001b[43m        \u001b[49m\u001b[43mlabels\u001b[49m\u001b[38;5;241;43m=\u001b[39;49m\u001b[38;5;28;43mself\u001b[39;49m\u001b[38;5;241;43m.\u001b[39;49m\u001b[43mlb\u001b[49m\u001b[43m,\u001b[49m\n\u001b[1;32m     46\u001b[0m \u001b[43m        \u001b[49m\u001b[43mnc\u001b[49m\u001b[38;5;241;43m=\u001b[39;49m\u001b[38;5;28;43mself\u001b[39;49m\u001b[38;5;241;43m.\u001b[39;49m\u001b[43mnc\u001b[49m\u001b[43m,\u001b[49m\n\u001b[1;32m     47\u001b[0m \u001b[43m        \u001b[49m\u001b[43mmulti_label\u001b[49m\u001b[38;5;241;43m=\u001b[39;49m\u001b[38;5;28;43;01mTrue\u001b[39;49;00m\u001b[43m,\u001b[49m\n\u001b[1;32m     48\u001b[0m \u001b[43m        \u001b[49m\u001b[43magnostic\u001b[49m\u001b[38;5;241;43m=\u001b[39;49m\u001b[38;5;28;43mself\u001b[39;49m\u001b[38;5;241;43m.\u001b[39;49m\u001b[43margs\u001b[49m\u001b[38;5;241;43m.\u001b[39;49m\u001b[43msingle_cls\u001b[49m\u001b[43m,\u001b[49m\n\u001b[1;32m     49\u001b[0m \u001b[43m        \u001b[49m\u001b[43mmax_det\u001b[49m\u001b[38;5;241;43m=\u001b[39;49m\u001b[38;5;28;43mself\u001b[39;49m\u001b[38;5;241;43m.\u001b[39;49m\u001b[43margs\u001b[49m\u001b[38;5;241;43m.\u001b[39;49m\u001b[43mmax_det\u001b[49m\u001b[43m,\u001b[49m\n\u001b[1;32m     50\u001b[0m \u001b[43m        \u001b[49m\u001b[43mrotated\u001b[49m\u001b[38;5;241;43m=\u001b[39;49m\u001b[38;5;28;43;01mTrue\u001b[39;49;00m\u001b[43m,\u001b[49m\n\u001b[1;32m     51\u001b[0m \u001b[43m    \u001b[49m\u001b[43m)\u001b[49m\n",
      "File \u001b[0;32m~/ultralytics/ultralytics/utils/ops.py:274\u001b[0m, in \u001b[0;36mnon_max_suppression\u001b[0;34m(prediction, conf_thres, iou_thres, classes, agnostic, multi_label, labels, max_det, nc, max_time_img, max_nms, max_wh, rotated)\u001b[0m\n\u001b[1;32m    272\u001b[0m \u001b[38;5;28;01mif\u001b[39;00m rotated:\n\u001b[1;32m    273\u001b[0m     boxes \u001b[38;5;241m=\u001b[39m torch\u001b[38;5;241m.\u001b[39mcat((x[:, :\u001b[38;5;241m2\u001b[39m] \u001b[38;5;241m+\u001b[39m c, x[:, \u001b[38;5;241m2\u001b[39m:\u001b[38;5;241m4\u001b[39m], x[:, \u001b[38;5;241m-\u001b[39m\u001b[38;5;241m1\u001b[39m:]), dim\u001b[38;5;241m=\u001b[39m\u001b[38;5;241m-\u001b[39m\u001b[38;5;241m1\u001b[39m)  \u001b[38;5;66;03m# xywhr\u001b[39;00m\n\u001b[0;32m--> 274\u001b[0m     i \u001b[38;5;241m=\u001b[39m \u001b[43mnms_rotated\u001b[49m\u001b[43m(\u001b[49m\u001b[43mboxes\u001b[49m\u001b[43m,\u001b[49m\u001b[43m \u001b[49m\u001b[43mscores\u001b[49m\u001b[43m,\u001b[49m\u001b[43m \u001b[49m\u001b[43miou_thres\u001b[49m\u001b[43m)\u001b[49m\n\u001b[1;32m    275\u001b[0m \u001b[38;5;28;01melse\u001b[39;00m:\n\u001b[1;32m    276\u001b[0m     boxes \u001b[38;5;241m=\u001b[39m x[:, :\u001b[38;5;241m4\u001b[39m] \u001b[38;5;241m+\u001b[39m c  \u001b[38;5;66;03m# boxes (offset by class)\u001b[39;00m\n",
      "File \u001b[0;32m~/ultralytics/ultralytics/utils/ops.py:158\u001b[0m, in \u001b[0;36mnms_rotated\u001b[0;34m(boxes, scores, threshold)\u001b[0m\n\u001b[1;32m    156\u001b[0m sorted_idx \u001b[38;5;241m=\u001b[39m torch\u001b[38;5;241m.\u001b[39margsort(scores, descending\u001b[38;5;241m=\u001b[39m\u001b[38;5;28;01mTrue\u001b[39;00m)\n\u001b[1;32m    157\u001b[0m boxes \u001b[38;5;241m=\u001b[39m boxes[sorted_idx]\n\u001b[0;32m--> 158\u001b[0m ious \u001b[38;5;241m=\u001b[39m \u001b[43mbatch_probiou\u001b[49m\u001b[43m(\u001b[49m\u001b[43mboxes\u001b[49m\u001b[43m,\u001b[49m\u001b[43m \u001b[49m\u001b[43mboxes\u001b[49m\u001b[43m)\u001b[49m\u001b[38;5;241m.\u001b[39mtriu_(diagonal\u001b[38;5;241m=\u001b[39m\u001b[38;5;241m1\u001b[39m)\n\u001b[1;32m    159\u001b[0m pick \u001b[38;5;241m=\u001b[39m torch\u001b[38;5;241m.\u001b[39mnonzero(ious\u001b[38;5;241m.\u001b[39mmax(dim\u001b[38;5;241m=\u001b[39m\u001b[38;5;241m0\u001b[39m)[\u001b[38;5;241m0\u001b[39m] \u001b[38;5;241m<\u001b[39m threshold)\u001b[38;5;241m.\u001b[39msqueeze_(\u001b[38;5;241m-\u001b[39m\u001b[38;5;241m1\u001b[39m)\n\u001b[1;32m    160\u001b[0m \u001b[38;5;28;01mreturn\u001b[39;00m sorted_idx[pick]\n",
      "File \u001b[0;32m~/ultralytics/ultralytics/utils/metrics.py:272\u001b[0m, in \u001b[0;36mbatch_probiou\u001b[0;34m(obb1, obb2, eps)\u001b[0m\n\u001b[1;32m    270\u001b[0m bd \u001b[38;5;241m=\u001b[39m t1 \u001b[38;5;241m+\u001b[39m t2 \u001b[38;5;241m+\u001b[39m t3\n\u001b[1;32m    271\u001b[0m bd \u001b[38;5;241m=\u001b[39m torch\u001b[38;5;241m.\u001b[39mclamp(bd, eps, \u001b[38;5;241m100.0\u001b[39m)\n\u001b[0;32m--> 272\u001b[0m hd \u001b[38;5;241m=\u001b[39m torch\u001b[38;5;241m.\u001b[39msqrt(\u001b[38;5;241m1.0\u001b[39m \u001b[38;5;241m-\u001b[39m \u001b[43mtorch\u001b[49m\u001b[38;5;241;43m.\u001b[39;49m\u001b[43mexp\u001b[49m\u001b[43m(\u001b[49m\u001b[38;5;241;43m-\u001b[39;49m\u001b[43mbd\u001b[49m\u001b[43m)\u001b[49m \u001b[38;5;241m+\u001b[39m eps)\n\u001b[1;32m    273\u001b[0m \u001b[38;5;28;01mreturn\u001b[39;00m \u001b[38;5;241m1\u001b[39m \u001b[38;5;241m-\u001b[39m hd\n",
      "\u001b[0;31mOutOfMemoryError\u001b[0m: CUDA out of memory. Tried to allocate 608.00 MiB. GPU 0 has a total capacty of 5.76 GiB of which 220.06 MiB is free. Process 2041898 has 5.29 GiB memory in use. Of the allocated memory 3.10 GiB is allocated by PyTorch, and 1.12 GiB is reserved by PyTorch but unallocated. If reserved but unallocated memory is large try setting max_split_size_mb to avoid fragmentation.  See documentation for Memory Management and PYTORCH_CUDA_ALLOC_CONF"
     ]
    }
   ],
   "source": [
    "import os\n",
    "import sys\n",
    "\n",
    "import subprocess\n",
    "git_root = subprocess.check_output(['git', 'rev-parse', '--show-toplevel']).decode().strip()\n",
    "%load_ext autoreload\n",
    "%autoreload 2\n",
    "os.chdir(git_root)\n",
    "import ultralytics\n",
    "print(os.path.dirname(ultralytics.__file__))\n",
    "# https://docs.ultralytics.com/tasks/obb/#__tabbed_1_1\n",
    "# https://docs.ultralytics.com/datasets/obb/ OBB Format\n",
    "from ultralytics import YOLO\n",
    "# Load a model\n",
    "model = YOLO('yolov8n-obb.yaml')  # build a new model from YAML\n",
    "model = YOLO('yolov8n-obb.pt')  # load a pretrained model (recommended for training)\n",
    "model = YOLO('yolov8n-obb.yaml').load('yolov8n.pt')  # build from YAML and transfer weights\n",
    "\n",
    "# Train the model\n",
    "results = model.train(data='DOTAv2.0-patches.yaml', epochs=20, imgsz=640, fraction=.01, batch=5)\t # data='dota8.yaml' multi_scale=True,mixup=1.0, \n"
   ]
  },
  {
   "cell_type": "code",
   "execution_count": null,
   "metadata": {},
   "outputs": [],
   "source": [
    "%%bash\n",
    "# This script takes v1.0 and v2.0 original datasets and merges into ./examples/datasets/DOTA-v2.0 (DOTA format)\n",
    "DATA_DIR=/home/vscode/datasets\n",
    "echo $PWD\n",
    "# Remove all previously exported files if they exist.\n",
    "rm -rf $DATA_DIR/dota && mkdir -p $DATA_DIR/dota\n",
    "# Remove DOTA-v2.0 dataset if exists.\n",
    "rm -rf ./examples/datasets/DOTA-v2.0/ && mkdir -p ./examples/datasets/DOTA-v2.0/\n",
    "\n",
    "rm -rf  $DATA_DIR/dota/v1.0 $DATA_DIR/dota/v2.0 && mkdir -p $DATA_DIR/dota/v1.0 $DATA_DIR/dota/v2.0\n",
    "unzip -o -q -d $DATA_DIR/dota/v1.0 $DATA_DIR/dota-v1.0.zip\n",
    "unzip -o -q -d $DATA_DIR/dota/v2.0 $DATA_DIR/dota-v2.0.zip\n",
    "# Create directory structure for DOTA-v2.0 dataset according to ultralytics/yolov8\n",
    "mkdir -p ./examples/datasets/DOTA-v2.0/{images,labels}/{train,val}\n",
    "\n",
    "# Move files from v1.0 validation set to v2.0 validation set\n",
    "for split in val train; do\n",
    "    # Move data from v1.0,v2.0 to DOTA-v2.0/images\n",
    "    find $DATA_DIR/dota/{v1.0,v2.0}/$split/images -name '*.png' -exec mv {} ./examples/datasets/DOTA-v2.0/images/$split \\;\n",
    "    # Move labels only from v2.0 to DOTA-v2.0/labels\n",
    "    find $DATA_DIR/dota/v2.0/$split/labels -name '*.txt' -exec mv {} ./examples/datasets/DOTA-v2.0/labels/$split \\;\n",
    "done"
   ]
  },
  {
   "cell_type": "code",
   "execution_count": null,
   "metadata": {},
   "outputs": [],
   "source": [
    "# Takes the original labels and converts them from DOTA to YOLO format\n",
    "\n",
    "# Need to move them to an original directory to prepare for DOTA->YOLO conversion\n",
    "!mv ./examples/datasets/DOTA-v2.0/labels/train ./examples/datasets/DOTA-v2.0/labels/train_original \n",
    "!mv ./examples/datasets/DOTA-v2.0/labels/val ./examples/datasets/DOTA-v2.0/labels/val_original\n",
    "# Then the DOTA format needs to be converted to YOLO-OBB\n",
    "from ultralytics.data.converter import convert_dota_to_yolo_obb\n",
    "convert_dota_to_yolo_obb('./examples/datasets/DOTA-v2.0')\n"
   ]
  },
  {
   "cell_type": "markdown",
   "metadata": {},
   "source": [
    "| Data Format                | Description                                                                 | New Column                          |\n",
    "|---------------------------|-----------------------------------------------------------------------------|-------------------------------------|\n",
    "| DOTA                      | `x1, y1, x2, y2, x3, y3, x4, y4, category, difficult`                        | OG DOTA format                      |\n",
    "| YOLO-OBB                  | `class_index, x1, y1, x2, y2, x3, y3, x4, y4`                                | YOLO-OBB expected input format      |\n",
    "| YOLO-OBB-internal         | `x,y,w,h, r`                                                               | YOLO-OBB internal format             |\n",
    "\n",
    "### Data formatting in DOTA\n",
    "\n",
    "There are three data formats:\n",
    "\n",
    "- An image corresponds to a text file with the annotations i.e, **N** samples : `.png <--> .txt`\n",
    "\n",
    "- Convert DOTA to `YOLO-OBB` using         \n",
    "\n",
    "```python\n",
    "from ultralytics.data.converter import convert_dota_to_yolo_obb\n",
    "\n",
    "convert_dota_to_yolo_obb('path/to/DOTA')\n",
    "```"
   ]
  },
  {
   "cell_type": "code",
   "execution_count": 2,
   "metadata": {},
   "outputs": [
    {
     "name": "stderr",
     "output_type": "stream",
     "text": [
      "train:   0%|          | 0/1830 [00:00<?, ?it/s]"
     ]
    },
    {
     "name": "stdout",
     "output_type": "stream",
     "text": [
      "1830\n"
     ]
    },
    {
     "name": "stderr",
     "output_type": "stream",
     "text": [
      "train:  16%|█▌        | 288/1830 [01:06<07:25,  3.46it/s]"
     ]
    }
   ],
   "source": [
    "# Creates a split where smalled images are cropped from large ones.\n",
    "\n",
    "! rm -rf ./examples/datasets/DOTA-v2.0-split\n",
    "from ultralytics.data.split_dota import split_trainval, split_test\n",
    "from PIL import Image\n",
    "Image.MAX_IMAGE_PIXELS = None # There is a security issue related to this.\n",
    "# split train and val set, with labels.\n",
    "split_trainval(\n",
    "    data_root='./examples/datasets/DOTA-v2.0',\n",
    "    save_dir='./examples/datasets/DOTA-v2.0-patches',\n",
    "    rates=[0.5, 1.0, 1.5],    # multi-scale\n",
    "    gap=500\n",
    ")\n"
   ]
  },
  {
   "cell_type": "code",
   "execution_count": null,
   "metadata": {},
   "outputs": [],
   "source": [
    "# NO test set right now.\n",
    "# split test set, without labels.\n",
    "if False:\n",
    "    split_test(\n",
    "        data_root='./examples/datasets/DOTA-v2.0',\n",
    "        save_dir='./examples/datasets/DOTA-v2.0-split',\n",
    "        rates=[0.5, 1.0, 1.5],    # multi-scale\n",
    "        gap=500\n",
    "    )"
   ]
  },
  {
   "cell_type": "code",
   "execution_count": 2,
   "metadata": {},
   "outputs": [
    {
     "name": "stdout",
     "output_type": "stream",
     "text": [
      "Transferred 355/397 items from pretrained weights\n",
      "New https://pypi.org/project/ultralytics/8.1.14 available 😃 Update with 'pip install -U ultralytics'\n",
      "Ultralytics YOLOv8.1.13 🚀 Python-3.11.4 torch-2.1.2+cu121 CUDA:0 (NVIDIA GeForce RTX 2060, 5893MiB)\n",
      "\u001b[34m\u001b[1mengine/trainer: \u001b[0mtask=obb, mode=train, model=yolov8n-obb.yaml, data=DOTAv2.0-patches.yaml, epochs=2, time=None, patience=50, batch=10, imgsz=640, save=True, save_period=-1, cache=False, device=None, workers=8, project=None, name=train18, exist_ok=False, pretrained=True, optimizer=auto, verbose=True, seed=0, deterministic=True, single_cls=False, rect=False, cos_lr=False, close_mosaic=10, resume=False, amp=True, fraction=0.1, profile=False, freeze=None, multi_scale=False, overlap_mask=True, mask_ratio=4, dropout=0.0, val=True, split=val, save_json=False, save_hybrid=False, conf=None, iou=0.7, max_det=300, half=False, dnn=False, plots=True, source=None, vid_stride=1, stream_buffer=False, visualize=False, augment=False, agnostic_nms=False, classes=None, retina_masks=False, embed=None, show=False, save_frames=False, save_txt=False, save_conf=False, save_crop=False, show_labels=True, show_conf=True, show_boxes=True, line_width=None, format=torchscript, keras=False, optimize=False, int8=False, dynamic=False, simplify=False, opset=None, workspace=4, nms=False, lr0=0.01, lrf=0.01, momentum=0.937, weight_decay=0.0005, warmup_epochs=3.0, warmup_momentum=0.8, warmup_bias_lr=0.1, box=7.5, cls=0.5, dfl=1.5, pose=12.0, kobj=1.0, label_smoothing=0.0, nbs=64, hsv_h=0.015, hsv_s=0.7, hsv_v=0.4, degrees=0.0, translate=0.1, scale=0.5, shear=0.0, perspective=0.0, flipud=0.0, fliplr=0.5, mosaic=1.0, mixup=0.0, copy_paste=0.0, auto_augment=randaugment, erasing=0.4, crop_fraction=1.0, cfg=None, tracker=botsort.yaml, save_dir=runs/obb/train18\n",
      "Overriding model.yaml nc=80 with nc=18\n",
      "\n",
      "                   from  n    params  module                                       arguments                     \n",
      "  0                  -1  1       464  ultralytics.nn.modules.conv.Conv             [3, 16, 3, 2]                 \n",
      "  1                  -1  1      4672  ultralytics.nn.modules.conv.Conv             [16, 32, 3, 2]                \n",
      "  2                  -1  1      7360  ultralytics.nn.modules.block.C2f             [32, 32, 1, True]             \n",
      "  3                  -1  1     18560  ultralytics.nn.modules.conv.Conv             [32, 64, 3, 2]                \n",
      "  4                  -1  2     49664  ultralytics.nn.modules.block.C2f             [64, 64, 2, True]             \n",
      "  5                  -1  1     73984  ultralytics.nn.modules.conv.Conv             [64, 128, 3, 2]               \n",
      "  6                  -1  2    197632  ultralytics.nn.modules.block.C2f             [128, 128, 2, True]           \n",
      "  7                  -1  1    295424  ultralytics.nn.modules.conv.Conv             [128, 256, 3, 2]              \n",
      "  8                  -1  1    460288  ultralytics.nn.modules.block.C2f             [256, 256, 1, True]           \n",
      "  9                  -1  1    164608  ultralytics.nn.modules.block.SPPF            [256, 256, 5]                 \n",
      " 10                  -1  1         0  torch.nn.modules.upsampling.Upsample         [None, 2, 'nearest']          \n",
      " 11             [-1, 6]  1         0  ultralytics.nn.modules.conv.Concat           [1]                           \n",
      " 12                  -1  1    148224  ultralytics.nn.modules.block.C2f             [384, 128, 1]                 \n",
      " 13                  -1  1         0  torch.nn.modules.upsampling.Upsample         [None, 2, 'nearest']          \n",
      " 14             [-1, 4]  1         0  ultralytics.nn.modules.conv.Concat           [1]                           \n",
      " 15                  -1  1     37248  ultralytics.nn.modules.block.C2f             [192, 64, 1]                  \n",
      " 16                  -1  1     36992  ultralytics.nn.modules.conv.Conv             [64, 64, 3, 2]                \n",
      " 17            [-1, 12]  1         0  ultralytics.nn.modules.conv.Concat           [1]                           \n",
      " 18                  -1  1    123648  ultralytics.nn.modules.block.C2f             [192, 128, 1]                 \n",
      " 19                  -1  1    147712  ultralytics.nn.modules.conv.Conv             [128, 128, 3, 2]              \n",
      " 20             [-1, 9]  1         0  ultralytics.nn.modules.conv.Concat           [1]                           \n",
      " 21                  -1  1    493056  ultralytics.nn.modules.block.C2f             [384, 256, 1]                 \n",
      " 22        [15, 18, 21]  1    826489  ultralytics.nn.modules.head.OBB              [18, 1, [64, 128, 256]]       \n",
      "YOLOv8n-obb summary: 250 layers, 3086025 parameters, 3086009 gradients, 8.5 GFLOPs\n",
      "\n",
      "Transferred 361/397 items from pretrained weights\n",
      "\u001b[34m\u001b[1mTensorBoard: \u001b[0mStart with 'tensorboard --logdir runs/obb/train18', view at http://localhost:6006/\n"
     ]
    },
    {
     "name": "stderr",
     "output_type": "stream",
     "text": [
      "Failed to detect the name of this notebook, you can set it manually with the WANDB_NOTEBOOK_NAME environment variable to enable code saving.\n",
      "\u001b[34m\u001b[1mwandb\u001b[0m: Currently logged in as: \u001b[33mdimidagd\u001b[0m (\u001b[33mdimidagd_sl\u001b[0m). Use \u001b[1m`wandb login --relogin`\u001b[0m to force relogin\n"
     ]
    },
    {
     "data": {
      "text/html": [
       "Tracking run with wandb version 0.16.3"
      ],
      "text/plain": [
       "<IPython.core.display.HTML object>"
      ]
     },
     "metadata": {},
     "output_type": "display_data"
    },
    {
     "data": {
      "text/html": [
       "Run data is saved locally in <code>/home/vscode/ultralytics/wandb/run-20240214_145916-t92vjh64</code>"
      ],
      "text/plain": [
       "<IPython.core.display.HTML object>"
      ]
     },
     "metadata": {},
     "output_type": "display_data"
    },
    {
     "data": {
      "text/html": [
       "Syncing run <strong><a href='https://wandb.ai/dimidagd_sl/YOLOv8/runs/t92vjh64' target=\"_blank\">train18</a></strong> to <a href='https://wandb.ai/dimidagd_sl/YOLOv8' target=\"_blank\">Weights & Biases</a> (<a href='https://wandb.me/run' target=\"_blank\">docs</a>)<br/>"
      ],
      "text/plain": [
       "<IPython.core.display.HTML object>"
      ]
     },
     "metadata": {},
     "output_type": "display_data"
    },
    {
     "data": {
      "text/html": [
       " View project at <a href='https://wandb.ai/dimidagd_sl/YOLOv8' target=\"_blank\">https://wandb.ai/dimidagd_sl/YOLOv8</a>"
      ],
      "text/plain": [
       "<IPython.core.display.HTML object>"
      ]
     },
     "metadata": {},
     "output_type": "display_data"
    },
    {
     "data": {
      "text/html": [
       " View run at <a href='https://wandb.ai/dimidagd_sl/YOLOv8/runs/t92vjh64' target=\"_blank\">https://wandb.ai/dimidagd_sl/YOLOv8/runs/t92vjh64</a>"
      ],
      "text/plain": [
       "<IPython.core.display.HTML object>"
      ]
     },
     "metadata": {},
     "output_type": "display_data"
    },
    {
     "name": "stdout",
     "output_type": "stream",
     "text": [
      "Freezing layer 'model.22.dfl.conv.weight'\n",
      "\u001b[34m\u001b[1mAMP: \u001b[0mrunning Automatic Mixed Precision (AMP) checks with YOLOv8n...\n",
      "\u001b[34m\u001b[1mAMP: \u001b[0mchecks passed ✅\n"
     ]
    },
    {
     "name": "stderr",
     "output_type": "stream",
     "text": [
      "\u001b[34m\u001b[1mtrain: \u001b[0mScanning /home/vscode/ultralytics/examples/datasets/DOTA-v2.0-patches/labels/train.cache... 14901 images, 2205 backgrounds, 143 corrupt: 100%|██████████| 17106/17106 [00:00<?, ?it/s]"
     ]
    },
    {
     "name": "stdout",
     "output_type": "stream",
     "text": [
      "\u001b[34m\u001b[1mtrain: \u001b[0mWARNING ⚠️ /home/vscode/ultralytics/examples/datasets/DOTA-v2.0-patches/images/train/P0018__682__698___698.jpg: ignoring corrupt image/label: non-normalized or out of bounds coordinates [     1.2889]\n",
      "\u001b[34m\u001b[1mtrain: \u001b[0mWARNING ⚠️ /home/vscode/ultralytics/examples/datasets/DOTA-v2.0-patches/images/train/P0021__682__1745___1745.jpg: ignoring corrupt image/label: non-normalized or out of bounds coordinates [     1.1276]\n",
      "\u001b[34m\u001b[1mtrain: \u001b[0mWARNING ⚠️ /home/vscode/ultralytics/examples/datasets/DOTA-v2.0-patches/images/train/P0021__682__2094___698.jpg: ignoring corrupt image/label: non-normalized or out of bounds coordinates [      1.346]\n",
      "\u001b[34m\u001b[1mtrain: \u001b[0mWARNING ⚠️ /home/vscode/ultralytics/examples/datasets/DOTA-v2.0-patches/images/train/P0022__682__1047___1745.jpg: ignoring corrupt image/label: non-normalized or out of bounds coordinates [     1.0367]\n",
      "\u001b[34m\u001b[1mtrain: \u001b[0mWARNING ⚠️ /home/vscode/ultralytics/examples/datasets/DOTA-v2.0-patches/images/train/P0022__682__698___1745.jpg: ignoring corrupt image/label: non-normalized or out of bounds coordinates [     1.0367]\n",
      "\u001b[34m\u001b[1mtrain: \u001b[0mWARNING ⚠️ /home/vscode/ultralytics/examples/datasets/DOTA-v2.0-patches/images/train/P0029__1024__524___524.jpg: ignoring corrupt image/label: non-normalized or out of bounds coordinates [     1.0127]\n",
      "\u001b[34m\u001b[1mtrain: \u001b[0mWARNING ⚠️ /home/vscode/ultralytics/examples/datasets/DOTA-v2.0-patches/images/train/P0030__682__1745___1047.jpg: ignoring corrupt image/label: non-normalized or out of bounds coordinates [     1.4282]\n",
      "\u001b[34m\u001b[1mtrain: \u001b[0mWARNING ⚠️ /home/vscode/ultralytics/examples/datasets/DOTA-v2.0-patches/images/train/P0030__682__698___1047.jpg: ignoring corrupt image/label: non-normalized or out of bounds coordinates [     1.3108]\n",
      "\u001b[34m\u001b[1mtrain: \u001b[0mWARNING ⚠️ /home/vscode/ultralytics/examples/datasets/DOTA-v2.0-patches/images/train/P0044__682__966___698.jpg: ignoring corrupt image/label: non-normalized or out of bounds coordinates [     1.0279]\n",
      "\u001b[34m\u001b[1mtrain: \u001b[0mWARNING ⚠️ /home/vscode/ultralytics/examples/datasets/DOTA-v2.0-patches/images/train/P0050__682__1396___1745.jpg: ignoring corrupt image/label: non-normalized or out of bounds coordinates [     1.0499      1.0733]\n",
      "\u001b[34m\u001b[1mtrain: \u001b[0mWARNING ⚠️ /home/vscode/ultralytics/examples/datasets/DOTA-v2.0-patches/images/train/P0050__682__1745___1745.jpg: ignoring corrupt image/label: non-normalized or out of bounds coordinates [     1.0499      1.0733]\n",
      "\u001b[34m\u001b[1mtrain: \u001b[0mWARNING ⚠️ /home/vscode/ultralytics/examples/datasets/DOTA-v2.0-patches/images/train/P0082__682__1047___698.jpg: ignoring corrupt image/label: non-normalized or out of bounds coordinates [     1.1114]\n",
      "\u001b[34m\u001b[1mtrain: \u001b[0mWARNING ⚠️ /home/vscode/ultralytics/examples/datasets/DOTA-v2.0-patches/images/train/P0082__682__698___698.jpg: ignoring corrupt image/label: non-normalized or out of bounds coordinates [     1.1114]\n",
      "\u001b[34m\u001b[1mtrain: \u001b[0mWARNING ⚠️ /home/vscode/ultralytics/examples/datasets/DOTA-v2.0-patches/images/train/P0087__682__2094___2094.jpg: ignoring corrupt image/label: non-normalized or out of bounds coordinates [     1.1525      1.1906]\n",
      "\u001b[34m\u001b[1mtrain: \u001b[0mWARNING ⚠️ /home/vscode/ultralytics/examples/datasets/DOTA-v2.0-patches/images/train/P0111__682__1047___1047.jpg: ignoring corrupt image/label: non-normalized or out of bounds coordinates [     1.0147]\n",
      "\u001b[34m\u001b[1mtrain: \u001b[0mWARNING ⚠️ /home/vscode/ultralytics/examples/datasets/DOTA-v2.0-patches/images/train/P0111__682__1047___1062.jpg: ignoring corrupt image/label: non-normalized or out of bounds coordinates [     1.0147]\n",
      "\u001b[34m\u001b[1mtrain: \u001b[0mWARNING ⚠️ /home/vscode/ultralytics/examples/datasets/DOTA-v2.0-patches/images/train/P0111__682__1280___1047.jpg: ignoring corrupt image/label: non-normalized or out of bounds coordinates [     1.0147]\n",
      "\u001b[34m\u001b[1mtrain: \u001b[0mWARNING ⚠️ /home/vscode/ultralytics/examples/datasets/DOTA-v2.0-patches/images/train/P0111__682__1280___1062.jpg: ignoring corrupt image/label: non-normalized or out of bounds coordinates [     1.0147]\n",
      "\u001b[34m\u001b[1mtrain: \u001b[0mWARNING ⚠️ /home/vscode/ultralytics/examples/datasets/DOTA-v2.0-patches/images/train/P0122__682__349___349.jpg: ignoring corrupt image/label: non-normalized or out of bounds coordinates [     1.4516      1.1979]\n",
      "\u001b[34m\u001b[1mtrain: \u001b[0mWARNING ⚠️ /home/vscode/ultralytics/examples/datasets/DOTA-v2.0-patches/images/train/P0141__682__2443___349.jpg: ignoring corrupt image/label: non-normalized or out of bounds coordinates [     1.0587]\n",
      "\u001b[34m\u001b[1mtrain: \u001b[0mWARNING ⚠️ /home/vscode/ultralytics/examples/datasets/DOTA-v2.0-patches/images/train/P0296__682__349___0.jpg: ignoring corrupt image/label: non-normalized or out of bounds coordinates [     1.1804      1.1833]\n",
      "\u001b[34m\u001b[1mtrain: \u001b[0mWARNING ⚠️ /home/vscode/ultralytics/examples/datasets/DOTA-v2.0-patches/images/train/P0296__682__349___349.jpg: ignoring corrupt image/label: non-normalized or out of bounds coordinates [     1.1833]\n",
      "\u001b[34m\u001b[1mtrain: \u001b[0mWARNING ⚠️ /home/vscode/ultralytics/examples/datasets/DOTA-v2.0-patches/images/train/P0296__682__349___420.jpg: ignoring corrupt image/label: non-normalized or out of bounds coordinates [     1.1833      1.0674]\n",
      "\u001b[34m\u001b[1mtrain: \u001b[0mWARNING ⚠️ /home/vscode/ultralytics/examples/datasets/DOTA-v2.0-patches/images/train/P0296__682__425___0.jpg: ignoring corrupt image/label: non-normalized or out of bounds coordinates [     1.1804      1.1833]\n",
      "\u001b[34m\u001b[1mtrain: \u001b[0mWARNING ⚠️ /home/vscode/ultralytics/examples/datasets/DOTA-v2.0-patches/images/train/P0296__682__425___349.jpg: ignoring corrupt image/label: non-normalized or out of bounds coordinates [     1.1833]\n",
      "\u001b[34m\u001b[1mtrain: \u001b[0mWARNING ⚠️ /home/vscode/ultralytics/examples/datasets/DOTA-v2.0-patches/images/train/P0296__682__425___420.jpg: ignoring corrupt image/label: non-normalized or out of bounds coordinates [     1.1833      1.0674]\n",
      "\u001b[34m\u001b[1mtrain: \u001b[0mWARNING ⚠️ /home/vscode/ultralytics/examples/datasets/DOTA-v2.0-patches/images/train/P0299__682__349___0.jpg: ignoring corrupt image/label: non-normalized or out of bounds coordinates [      1.195      1.1789]\n",
      "\u001b[34m\u001b[1mtrain: \u001b[0mWARNING ⚠️ /home/vscode/ultralytics/examples/datasets/DOTA-v2.0-patches/images/train/P0299__682__349___155.jpg: ignoring corrupt image/label: non-normalized or out of bounds coordinates [      1.195]\n",
      "\u001b[34m\u001b[1mtrain: \u001b[0mWARNING ⚠️ /home/vscode/ultralytics/examples/datasets/DOTA-v2.0-patches/images/train/P0299__682__471___0.jpg: ignoring corrupt image/label: non-normalized or out of bounds coordinates [     1.1789]\n",
      "\u001b[34m\u001b[1mtrain: \u001b[0mWARNING ⚠️ /home/vscode/ultralytics/examples/datasets/DOTA-v2.0-patches/images/train/P0301__682__0___0.jpg: ignoring corrupt image/label: non-normalized or out of bounds coordinates [     1.1246      1.0117]\n",
      "\u001b[34m\u001b[1mtrain: \u001b[0mWARNING ⚠️ /home/vscode/ultralytics/examples/datasets/DOTA-v2.0-patches/images/train/P0301__682__0___147.jpg: ignoring corrupt image/label: non-normalized or out of bounds coordinates [     1.1246      1.0117]\n",
      "\u001b[34m\u001b[1mtrain: \u001b[0mWARNING ⚠️ /home/vscode/ultralytics/examples/datasets/DOTA-v2.0-patches/images/train/P0301__682__212___0.jpg: ignoring corrupt image/label: non-normalized or out of bounds coordinates [     1.1246      1.0117]\n",
      "\u001b[34m\u001b[1mtrain: \u001b[0mWARNING ⚠️ /home/vscode/ultralytics/examples/datasets/DOTA-v2.0-patches/images/train/P0301__682__212___147.jpg: ignoring corrupt image/label: non-normalized or out of bounds coordinates [     1.1246      1.0117]\n",
      "\u001b[34m\u001b[1mtrain: \u001b[0mWARNING ⚠️ /home/vscode/ultralytics/examples/datasets/DOTA-v2.0-patches/images/train/P0308__682__349___690.jpg: ignoring corrupt image/label: non-normalized or out of bounds coordinates [     1.1965]\n",
      "\u001b[34m\u001b[1mtrain: \u001b[0mWARNING ⚠️ /home/vscode/ultralytics/examples/datasets/DOTA-v2.0-patches/images/train/P0327__682__1047___0.jpg: ignoring corrupt image/label: non-normalized or out of bounds coordinates [      1.044      1.0396]\n",
      "\u001b[34m\u001b[1mtrain: \u001b[0mWARNING ⚠️ /home/vscode/ultralytics/examples/datasets/DOTA-v2.0-patches/images/train/P0327__682__1047___349.jpg: ignoring corrupt image/label: non-normalized or out of bounds coordinates [     1.0381       1.044]\n",
      "\u001b[34m\u001b[1mtrain: \u001b[0mWARNING ⚠️ /home/vscode/ultralytics/examples/datasets/DOTA-v2.0-patches/images/train/P0327__682__1047___698.jpg: ignoring corrupt image/label: non-normalized or out of bounds coordinates [     1.0381]\n",
      "\u001b[34m\u001b[1mtrain: \u001b[0mWARNING ⚠️ /home/vscode/ultralytics/examples/datasets/DOTA-v2.0-patches/images/train/P0327__682__1067___0.jpg: ignoring corrupt image/label: non-normalized or out of bounds coordinates [      1.044      1.0396]\n",
      "\u001b[34m\u001b[1mtrain: \u001b[0mWARNING ⚠️ /home/vscode/ultralytics/examples/datasets/DOTA-v2.0-patches/images/train/P0327__682__1067___349.jpg: ignoring corrupt image/label: non-normalized or out of bounds coordinates [     1.0381       1.044]\n",
      "\u001b[34m\u001b[1mtrain: \u001b[0mWARNING ⚠️ /home/vscode/ultralytics/examples/datasets/DOTA-v2.0-patches/images/train/P0327__682__1067___698.jpg: ignoring corrupt image/label: non-normalized or out of bounds coordinates [     1.0381]\n",
      "\u001b[34m\u001b[1mtrain: \u001b[0mWARNING ⚠️ /home/vscode/ultralytics/examples/datasets/DOTA-v2.0-patches/images/train/P0332__682__1396___1269.jpg: ignoring corrupt image/label: non-normalized or out of bounds coordinates [     1.0073]\n",
      "\u001b[34m\u001b[1mtrain: \u001b[0mWARNING ⚠️ /home/vscode/ultralytics/examples/datasets/DOTA-v2.0-patches/images/train/P0332__682__1583___1269.jpg: ignoring corrupt image/label: non-normalized or out of bounds coordinates [     1.0073]\n",
      "\u001b[34m\u001b[1mtrain: \u001b[0mWARNING ⚠️ /home/vscode/ultralytics/examples/datasets/DOTA-v2.0-patches/images/train/P0334__2048__0___0.jpg: ignoring corrupt image/label: non-normalized or out of bounds coordinates [     1.0565      1.0583]\n",
      "\u001b[34m\u001b[1mtrain: \u001b[0mWARNING ⚠️ /home/vscode/ultralytics/examples/datasets/DOTA-v2.0-patches/images/train/P0346__682__2094___349.jpg: ignoring corrupt image/label: non-normalized or out of bounds coordinates [     1.0044]\n",
      "\u001b[34m\u001b[1mtrain: \u001b[0mWARNING ⚠️ /home/vscode/ultralytics/examples/datasets/DOTA-v2.0-patches/images/train/P0346__682__2094___698.jpg: ignoring corrupt image/label: non-normalized or out of bounds coordinates [     1.0044]\n",
      "\u001b[34m\u001b[1mtrain: \u001b[0mWARNING ⚠️ /home/vscode/ultralytics/examples/datasets/DOTA-v2.0-patches/images/train/P0346__682__2443___349.jpg: ignoring corrupt image/label: non-normalized or out of bounds coordinates [     1.0044]\n",
      "\u001b[34m\u001b[1mtrain: \u001b[0mWARNING ⚠️ /home/vscode/ultralytics/examples/datasets/DOTA-v2.0-patches/images/train/P0346__682__2443___698.jpg: ignoring corrupt image/label: non-normalized or out of bounds coordinates [     1.0044]\n",
      "\u001b[34m\u001b[1mtrain: \u001b[0mWARNING ⚠️ /home/vscode/ultralytics/examples/datasets/DOTA-v2.0-patches/images/train/P0349__682__1047___1745.jpg: ignoring corrupt image/label: non-normalized or out of bounds coordinates [     1.0748]\n",
      "\u001b[34m\u001b[1mtrain: \u001b[0mWARNING ⚠️ /home/vscode/ultralytics/examples/datasets/DOTA-v2.0-patches/images/train/P0349__682__1047___2094.jpg: ignoring corrupt image/label: non-normalized or out of bounds coordinates [     1.0748]\n",
      "\u001b[34m\u001b[1mtrain: \u001b[0mWARNING ⚠️ /home/vscode/ultralytics/examples/datasets/DOTA-v2.0-patches/images/train/P0581__682__698___349.jpg: ignoring corrupt image/label: non-normalized or out of bounds coordinates [     1.1334]\n",
      "\u001b[34m\u001b[1mtrain: \u001b[0mWARNING ⚠️ /home/vscode/ultralytics/examples/datasets/DOTA-v2.0-patches/images/train/P0610__682__349___1241.jpg: ignoring corrupt image/label: non-normalized or out of bounds coordinates [     1.1129]\n",
      "\u001b[34m\u001b[1mtrain: \u001b[0mWARNING ⚠️ /home/vscode/ultralytics/examples/datasets/DOTA-v2.0-patches/images/train/P0610__682__615___1241.jpg: ignoring corrupt image/label: non-normalized or out of bounds coordinates [     1.1129]\n",
      "\u001b[34m\u001b[1mtrain: \u001b[0mWARNING ⚠️ /home/vscode/ultralytics/examples/datasets/DOTA-v2.0-patches/images/train/P0703__1024__0___524.jpg: ignoring corrupt image/label: non-normalized or out of bounds coordinates [     1.1621]\n",
      "\u001b[34m\u001b[1mtrain: \u001b[0mWARNING ⚠️ /home/vscode/ultralytics/examples/datasets/DOTA-v2.0-patches/images/train/P0790__682__1047___349.jpg: ignoring corrupt image/label: non-normalized or out of bounds coordinates [     1.0235]\n",
      "\u001b[34m\u001b[1mtrain: \u001b[0mWARNING ⚠️ /home/vscode/ultralytics/examples/datasets/DOTA-v2.0-patches/images/train/P0790__682__698___349.jpg: ignoring corrupt image/label: non-normalized or out of bounds coordinates [     1.0235]\n",
      "\u001b[34m\u001b[1mtrain: \u001b[0mWARNING ⚠️ /home/vscode/ultralytics/examples/datasets/DOTA-v2.0-patches/images/train/P0790__682__698___698.jpg: ignoring corrupt image/label: non-normalized or out of bounds coordinates [     1.0235]\n",
      "\u001b[34m\u001b[1mtrain: \u001b[0mWARNING ⚠️ /home/vscode/ultralytics/examples/datasets/DOTA-v2.0-patches/images/train/P0835__1024__524___0.jpg: ignoring corrupt image/label: non-normalized or out of bounds coordinates [     1.0693]\n",
      "\u001b[34m\u001b[1mtrain: \u001b[0mWARNING ⚠️ /home/vscode/ultralytics/examples/datasets/DOTA-v2.0-patches/images/train/P0835__1024__524___444.jpg: ignoring corrupt image/label: non-normalized or out of bounds coordinates [     1.4072      1.0693]\n",
      "\u001b[34m\u001b[1mtrain: \u001b[0mWARNING ⚠️ /home/vscode/ultralytics/examples/datasets/DOTA-v2.0-patches/images/train/P0861__682__1047___1396.jpg: ignoring corrupt image/label: non-normalized or out of bounds coordinates [     1.0484]\n",
      "\u001b[34m\u001b[1mtrain: \u001b[0mWARNING ⚠️ /home/vscode/ultralytics/examples/datasets/DOTA-v2.0-patches/images/train/P0861__682__1047___1745.jpg: ignoring corrupt image/label: non-normalized or out of bounds coordinates [     1.0484]\n",
      "\u001b[34m\u001b[1mtrain: \u001b[0mWARNING ⚠️ /home/vscode/ultralytics/examples/datasets/DOTA-v2.0-patches/images/train/P0861__682__698___1396.jpg: ignoring corrupt image/label: non-normalized or out of bounds coordinates [     1.0381      1.0484]\n",
      "\u001b[34m\u001b[1mtrain: \u001b[0mWARNING ⚠️ /home/vscode/ultralytics/examples/datasets/DOTA-v2.0-patches/images/train/P0861__682__698___1745.jpg: ignoring corrupt image/label: non-normalized or out of bounds coordinates [     1.0381      1.0484]\n",
      "\u001b[34m\u001b[1mtrain: \u001b[0mWARNING ⚠️ /home/vscode/ultralytics/examples/datasets/DOTA-v2.0-patches/images/train/P0871__682__0___349.jpg: ignoring corrupt image/label: non-normalized or out of bounds coordinates [     1.1408]\n",
      "\u001b[34m\u001b[1mtrain: \u001b[0mWARNING ⚠️ /home/vscode/ultralytics/examples/datasets/DOTA-v2.0-patches/images/train/P0872__682__1047___349.jpg: ignoring corrupt image/label: non-normalized or out of bounds coordinates [     1.0381      1.1891]\n",
      "\u001b[34m\u001b[1mtrain: \u001b[0mWARNING ⚠️ /home/vscode/ultralytics/examples/datasets/DOTA-v2.0-patches/images/train/P0872__682__1047___494.jpg: ignoring corrupt image/label: non-normalized or out of bounds coordinates [     1.0381]\n",
      "\u001b[34m\u001b[1mtrain: \u001b[0mWARNING ⚠️ /home/vscode/ultralytics/examples/datasets/DOTA-v2.0-patches/images/train/P0872__682__1396___349.jpg: ignoring corrupt image/label: non-normalized or out of bounds coordinates [     1.0381      1.1891]\n",
      "\u001b[34m\u001b[1mtrain: \u001b[0mWARNING ⚠️ /home/vscode/ultralytics/examples/datasets/DOTA-v2.0-patches/images/train/P0872__682__1396___494.jpg: ignoring corrupt image/label: non-normalized or out of bounds coordinates [     1.0381]\n",
      "\u001b[34m\u001b[1mtrain: \u001b[0mWARNING ⚠️ /home/vscode/ultralytics/examples/datasets/DOTA-v2.0-patches/images/train/P0874__1024__0___1048.jpg: ignoring corrupt image/label: non-normalized or out of bounds coordinates [     1.0889]\n",
      "\u001b[34m\u001b[1mtrain: \u001b[0mWARNING ⚠️ /home/vscode/ultralytics/examples/datasets/DOTA-v2.0-patches/images/train/P0874__1024__438___1048.jpg: ignoring corrupt image/label: non-normalized or out of bounds coordinates [     1.0918]\n",
      "\u001b[34m\u001b[1mtrain: \u001b[0mWARNING ⚠️ /home/vscode/ultralytics/examples/datasets/DOTA-v2.0-patches/images/train/P0888__682__0___349.jpg: ignoring corrupt image/label: non-normalized or out of bounds coordinates [     1.1862]\n",
      "\u001b[34m\u001b[1mtrain: \u001b[0mWARNING ⚠️ /home/vscode/ultralytics/examples/datasets/DOTA-v2.0-patches/images/train/P0888__682__1396___349.jpg: ignoring corrupt image/label: non-normalized or out of bounds coordinates [     1.2361]\n",
      "\u001b[34m\u001b[1mtrain: \u001b[0mWARNING ⚠️ /home/vscode/ultralytics/examples/datasets/DOTA-v2.0-patches/images/train/P0888__682__1745___349.jpg: ignoring corrupt image/label: non-normalized or out of bounds coordinates [     1.1056]\n",
      "\u001b[34m\u001b[1mtrain: \u001b[0mWARNING ⚠️ /home/vscode/ultralytics/examples/datasets/DOTA-v2.0-patches/images/train/P0888__682__2094___349.jpg: ignoring corrupt image/label: non-normalized or out of bounds coordinates [     1.1056]\n",
      "\u001b[34m\u001b[1mtrain: \u001b[0mWARNING ⚠️ /home/vscode/ultralytics/examples/datasets/DOTA-v2.0-patches/images/train/P0888__682__2443___349.jpg: ignoring corrupt image/label: non-normalized or out of bounds coordinates [     1.2258]\n",
      "\u001b[34m\u001b[1mtrain: \u001b[0mWARNING ⚠️ /home/vscode/ultralytics/examples/datasets/DOTA-v2.0-patches/images/train/P0888__682__2792___349.jpg: ignoring corrupt image/label: non-normalized or out of bounds coordinates [     1.2258]\n",
      "\u001b[34m\u001b[1mtrain: \u001b[0mWARNING ⚠️ /home/vscode/ultralytics/examples/datasets/DOTA-v2.0-patches/images/train/P0888__682__3141___349.jpg: ignoring corrupt image/label: non-normalized or out of bounds coordinates [     1.2199]\n",
      "\u001b[34m\u001b[1mtrain: \u001b[0mWARNING ⚠️ /home/vscode/ultralytics/examples/datasets/DOTA-v2.0-patches/images/train/P0888__682__3490___349.jpg: ignoring corrupt image/label: non-normalized or out of bounds coordinates [     1.2214]\n",
      "\u001b[34m\u001b[1mtrain: \u001b[0mWARNING ⚠️ /home/vscode/ultralytics/examples/datasets/DOTA-v2.0-patches/images/train/P0888__682__349___349.jpg: ignoring corrupt image/label: non-normalized or out of bounds coordinates [     1.0953]\n",
      "\u001b[34m\u001b[1mtrain: \u001b[0mWARNING ⚠️ /home/vscode/ultralytics/examples/datasets/DOTA-v2.0-patches/images/train/P0888__682__3839___349.jpg: ignoring corrupt image/label: non-normalized or out of bounds coordinates [     1.2214]\n",
      "\u001b[34m\u001b[1mtrain: \u001b[0mWARNING ⚠️ /home/vscode/ultralytics/examples/datasets/DOTA-v2.0-patches/images/train/P0888__682__4188___349.jpg: ignoring corrupt image/label: non-normalized or out of bounds coordinates [     1.3284]\n",
      "\u001b[34m\u001b[1mtrain: \u001b[0mWARNING ⚠️ /home/vscode/ultralytics/examples/datasets/DOTA-v2.0-patches/images/train/P0888__682__4537___0.jpg: ignoring corrupt image/label: non-normalized or out of bounds coordinates [      1.371]\n",
      "\u001b[34m\u001b[1mtrain: \u001b[0mWARNING ⚠️ /home/vscode/ultralytics/examples/datasets/DOTA-v2.0-patches/images/train/P0888__682__4886___0.jpg: ignoring corrupt image/label: non-normalized or out of bounds coordinates [     1.2507]\n",
      "\u001b[34m\u001b[1mtrain: \u001b[0mWARNING ⚠️ /home/vscode/ultralytics/examples/datasets/DOTA-v2.0-patches/images/train/P0888__682__5235___0.jpg: ignoring corrupt image/label: non-normalized or out of bounds coordinates [     1.2507]\n",
      "\u001b[34m\u001b[1mtrain: \u001b[0mWARNING ⚠️ /home/vscode/ultralytics/examples/datasets/DOTA-v2.0-patches/images/train/P0888__682__698___349.jpg: ignoring corrupt image/label: non-normalized or out of bounds coordinates [     1.0953]\n",
      "\u001b[34m\u001b[1mtrain: \u001b[0mWARNING ⚠️ /home/vscode/ultralytics/examples/datasets/DOTA-v2.0-patches/images/train/P0892__1024__524___1048.jpg: ignoring corrupt image/label: non-normalized or out of bounds coordinates [     1.1572]\n",
      "\u001b[34m\u001b[1mtrain: \u001b[0mWARNING ⚠️ /home/vscode/ultralytics/examples/datasets/DOTA-v2.0-patches/images/train/P0892__1024__524___1185.jpg: ignoring corrupt image/label: non-normalized or out of bounds coordinates [     1.1572]\n",
      "\u001b[34m\u001b[1mtrain: \u001b[0mWARNING ⚠️ /home/vscode/ultralytics/examples/datasets/DOTA-v2.0-patches/images/train/P0896__1024__1012___1048.jpg: ignoring corrupt image/label: non-normalized or out of bounds coordinates [     1.0029]\n",
      "\u001b[34m\u001b[1mtrain: \u001b[0mWARNING ⚠️ /home/vscode/ultralytics/examples/datasets/DOTA-v2.0-patches/images/train/P0896__1024__1012___1414.jpg: ignoring corrupt image/label: non-normalized or out of bounds coordinates [     1.0029]\n",
      "\u001b[34m\u001b[1mtrain: \u001b[0mWARNING ⚠️ /home/vscode/ultralytics/examples/datasets/DOTA-v2.0-patches/images/train/P0896__1024__524___1048.jpg: ignoring corrupt image/label: non-normalized or out of bounds coordinates [     1.0029]\n",
      "\u001b[34m\u001b[1mtrain: \u001b[0mWARNING ⚠️ /home/vscode/ultralytics/examples/datasets/DOTA-v2.0-patches/images/train/P0896__1024__524___1414.jpg: ignoring corrupt image/label: non-normalized or out of bounds coordinates [     1.0029]\n",
      "\u001b[34m\u001b[1mtrain: \u001b[0mWARNING ⚠️ /home/vscode/ultralytics/examples/datasets/DOTA-v2.0-patches/images/train/P0896__682__0___1396.jpg: ignoring corrupt image/label: non-normalized or out of bounds coordinates [     1.1525      1.1584]\n",
      "\u001b[34m\u001b[1mtrain: \u001b[0mWARNING ⚠️ /home/vscode/ultralytics/examples/datasets/DOTA-v2.0-patches/images/train/P0896__682__1047___1396.jpg: ignoring corrupt image/label: non-normalized or out of bounds coordinates [     1.4076]\n",
      "\u001b[34m\u001b[1mtrain: \u001b[0mWARNING ⚠️ /home/vscode/ultralytics/examples/datasets/DOTA-v2.0-patches/images/train/P0896__682__1354___1396.jpg: ignoring corrupt image/label: non-normalized or out of bounds coordinates [     1.0601]\n",
      "\u001b[34m\u001b[1mtrain: \u001b[0mWARNING ⚠️ /home/vscode/ultralytics/examples/datasets/DOTA-v2.0-patches/images/train/P0896__682__349___1396.jpg: ignoring corrupt image/label: non-normalized or out of bounds coordinates [     1.1554      1.2302      1.1525]\n",
      "\u001b[34m\u001b[1mtrain: \u001b[0mWARNING ⚠️ /home/vscode/ultralytics/examples/datasets/DOTA-v2.0-patches/images/train/P0896__682__698___1396.jpg: ignoring corrupt image/label: non-normalized or out of bounds coordinates [     1.4076      1.1554]\n",
      "\u001b[34m\u001b[1mtrain: \u001b[0mWARNING ⚠️ /home/vscode/ultralytics/examples/datasets/DOTA-v2.0-patches/images/train/P0898__1024__0___0.jpg: ignoring corrupt image/label: non-normalized or out of bounds coordinates [     1.0693]\n",
      "\u001b[34m\u001b[1mtrain: \u001b[0mWARNING ⚠️ /home/vscode/ultralytics/examples/datasets/DOTA-v2.0-patches/images/train/P0898__1024__0___524.jpg: ignoring corrupt image/label: non-normalized or out of bounds coordinates [     1.0693]\n",
      "\u001b[34m\u001b[1mtrain: \u001b[0mWARNING ⚠️ /home/vscode/ultralytics/examples/datasets/DOTA-v2.0-patches/images/train/P0898__682__0___2792.jpg: ignoring corrupt image/label: non-normalized or out of bounds coordinates [     1.0938      1.0938      1.0953]\n",
      "\u001b[34m\u001b[1mtrain: \u001b[0mWARNING ⚠️ /home/vscode/ultralytics/examples/datasets/DOTA-v2.0-patches/images/train/P0898__682__0___3141.jpg: ignoring corrupt image/label: non-normalized or out of bounds coordinates [     1.0938      1.0938      1.0953]\n",
      "\u001b[34m\u001b[1mtrain: \u001b[0mWARNING ⚠️ /home/vscode/ultralytics/examples/datasets/DOTA-v2.0-patches/images/train/P0898__682__1047___3141.jpg: ignoring corrupt image/label: non-normalized or out of bounds coordinates [     1.1598      1.0924      1.0982]\n",
      "\u001b[34m\u001b[1mtrain: \u001b[0mWARNING ⚠️ /home/vscode/ultralytics/examples/datasets/DOTA-v2.0-patches/images/train/P0898__682__1047___3197.jpg: ignoring corrupt image/label: non-normalized or out of bounds coordinates [     1.1598]\n",
      "\u001b[34m\u001b[1mtrain: \u001b[0mWARNING ⚠️ /home/vscode/ultralytics/examples/datasets/DOTA-v2.0-patches/images/train/P0898__682__349___2792.jpg: ignoring corrupt image/label: non-normalized or out of bounds coordinates [     1.0938      1.0953      1.0924      1.0997]\n",
      "\u001b[34m\u001b[1mtrain: \u001b[0mWARNING ⚠️ /home/vscode/ultralytics/examples/datasets/DOTA-v2.0-patches/images/train/P0898__682__349___3141.jpg: ignoring corrupt image/label: non-normalized or out of bounds coordinates [     1.0938      1.0953      1.0924      1.0997      1.0968]\n",
      "\u001b[34m\u001b[1mtrain: \u001b[0mWARNING ⚠️ /home/vscode/ultralytics/examples/datasets/DOTA-v2.0-patches/images/train/P0898__682__698___2792.jpg: ignoring corrupt image/label: non-normalized or out of bounds coordinates [     1.0997]\n",
      "\u001b[34m\u001b[1mtrain: \u001b[0mWARNING ⚠️ /home/vscode/ultralytics/examples/datasets/DOTA-v2.0-patches/images/train/P0898__682__698___3141.jpg: ignoring corrupt image/label: non-normalized or out of bounds coordinates [     1.0924      1.0982      1.0997      1.0968]\n",
      "\u001b[34m\u001b[1mtrain: \u001b[0mWARNING ⚠️ /home/vscode/ultralytics/examples/datasets/DOTA-v2.0-patches/images/train/P0900__682__1047___349.jpg: ignoring corrupt image/label: non-normalized or out of bounds coordinates [     1.4223]\n",
      "\u001b[34m\u001b[1mtrain: \u001b[0mWARNING ⚠️ /home/vscode/ultralytics/examples/datasets/DOTA-v2.0-patches/images/train/P0900__682__1047___698.jpg: ignoring corrupt image/label: non-normalized or out of bounds coordinates [     1.3387]\n",
      "\u001b[34m\u001b[1mtrain: \u001b[0mWARNING ⚠️ /home/vscode/ultralytics/examples/datasets/DOTA-v2.0-patches/images/train/P0900__682__1390___349.jpg: ignoring corrupt image/label: non-normalized or out of bounds coordinates [     1.4223]\n",
      "\u001b[34m\u001b[1mtrain: \u001b[0mWARNING ⚠️ /home/vscode/ultralytics/examples/datasets/DOTA-v2.0-patches/images/train/P0900__682__1390___698.jpg: ignoring corrupt image/label: non-normalized or out of bounds coordinates [     1.3387]\n",
      "\u001b[34m\u001b[1mtrain: \u001b[0mWARNING ⚠️ /home/vscode/ultralytics/examples/datasets/DOTA-v2.0-patches/images/train/P0900__682__349___1047.jpg: ignoring corrupt image/label: non-normalized or out of bounds coordinates [     1.3592      1.3739]\n",
      "\u001b[34m\u001b[1mtrain: \u001b[0mWARNING ⚠️ /home/vscode/ultralytics/examples/datasets/DOTA-v2.0-patches/images/train/P0900__682__349___1396.jpg: ignoring corrupt image/label: non-normalized or out of bounds coordinates [     1.3959      1.3592]\n",
      "\u001b[34m\u001b[1mtrain: \u001b[0mWARNING ⚠️ /home/vscode/ultralytics/examples/datasets/DOTA-v2.0-patches/images/train/P0900__682__349___1508.jpg: ignoring corrupt image/label: non-normalized or out of bounds coordinates [     1.3959]\n",
      "\u001b[34m\u001b[1mtrain: \u001b[0mWARNING ⚠️ /home/vscode/ultralytics/examples/datasets/DOTA-v2.0-patches/images/train/P0900__682__349___698.jpg: ignoring corrupt image/label: non-normalized or out of bounds coordinates [     1.3739      1.3827]\n",
      "\u001b[34m\u001b[1mtrain: \u001b[0mWARNING ⚠️ /home/vscode/ultralytics/examples/datasets/DOTA-v2.0-patches/images/train/P0906__682__1047___349.jpg: ignoring corrupt image/label: non-normalized or out of bounds coordinates [     1.2361      1.1496]\n",
      "\u001b[34m\u001b[1mtrain: \u001b[0mWARNING ⚠️ /home/vscode/ultralytics/examples/datasets/DOTA-v2.0-patches/images/train/P0906__682__1047___698.jpg: ignoring corrupt image/label: non-normalized or out of bounds coordinates [     1.3856]\n",
      "\u001b[34m\u001b[1mtrain: \u001b[0mWARNING ⚠️ /home/vscode/ultralytics/examples/datasets/DOTA-v2.0-patches/images/train/P0920__682__0___0.jpg: ignoring corrupt image/label: non-normalized or out of bounds coordinates [     1.0088]\n",
      "\u001b[34m\u001b[1mtrain: \u001b[0mWARNING ⚠️ /home/vscode/ultralytics/examples/datasets/DOTA-v2.0-patches/images/train/P0920__682__0___349.jpg: ignoring corrupt image/label: non-normalized or out of bounds coordinates [     1.0088]\n",
      "\u001b[34m\u001b[1mtrain: \u001b[0mWARNING ⚠️ /home/vscode/ultralytics/examples/datasets/DOTA-v2.0-patches/images/train/P0947__1024__4192___524.jpg: ignoring corrupt image/label: non-normalized or out of bounds coordinates [      1.002]\n",
      "\u001b[34m\u001b[1mtrain: \u001b[0mWARNING ⚠️ /home/vscode/ultralytics/examples/datasets/DOTA-v2.0-patches/images/train/P0947__1024__4226___524.jpg: ignoring corrupt image/label: non-normalized or out of bounds coordinates [      1.002]\n",
      "\u001b[34m\u001b[1mtrain: \u001b[0mWARNING ⚠️ /home/vscode/ultralytics/examples/datasets/DOTA-v2.0-patches/images/train/P0947__682__0___349.jpg: ignoring corrupt image/label: non-normalized or out of bounds coordinates [     1.1906]\n",
      "\u001b[34m\u001b[1mtrain: \u001b[0mWARNING ⚠️ /home/vscode/ultralytics/examples/datasets/DOTA-v2.0-patches/images/train/P0947__682__1047___0.jpg: ignoring corrupt image/label: non-normalized or out of bounds coordinates [     1.1848]\n",
      "\u001b[34m\u001b[1mtrain: \u001b[0mWARNING ⚠️ /home/vscode/ultralytics/examples/datasets/DOTA-v2.0-patches/images/train/P0947__682__3141___0.jpg: ignoring corrupt image/label: non-normalized or out of bounds coordinates [     1.2053]\n",
      "\u001b[34m\u001b[1mtrain: \u001b[0mWARNING ⚠️ /home/vscode/ultralytics/examples/datasets/DOTA-v2.0-patches/images/train/P0947__682__3490___0.jpg: ignoring corrupt image/label: non-normalized or out of bounds coordinates [     1.2053]\n",
      "\u001b[34m\u001b[1mtrain: \u001b[0mWARNING ⚠️ /home/vscode/ultralytics/examples/datasets/DOTA-v2.0-patches/images/train/P0947__682__349___0.jpg: ignoring corrupt image/label: non-normalized or out of bounds coordinates [     1.2199]\n",
      "\u001b[34m\u001b[1mtrain: \u001b[0mWARNING ⚠️ /home/vscode/ultralytics/examples/datasets/DOTA-v2.0-patches/images/train/P0947__682__3839___349.jpg: ignoring corrupt image/label: non-normalized or out of bounds coordinates [     1.1202]\n",
      "\u001b[34m\u001b[1mtrain: \u001b[0mWARNING ⚠️ /home/vscode/ultralytics/examples/datasets/DOTA-v2.0-patches/images/train/P0947__682__4188___349.jpg: ignoring corrupt image/label: non-normalized or out of bounds coordinates [     1.1202]\n",
      "\u001b[34m\u001b[1mtrain: \u001b[0mWARNING ⚠️ /home/vscode/ultralytics/examples/datasets/DOTA-v2.0-patches/images/train/P0947__682__698___0.jpg: ignoring corrupt image/label: non-normalized or out of bounds coordinates [     1.1848      1.2199]\n",
      "\u001b[34m\u001b[1mtrain: \u001b[0mWARNING ⚠️ /home/vscode/ultralytics/examples/datasets/DOTA-v2.0-patches/images/train/P10084__682__342___0.jpg: ignoring corrupt image/label: non-normalized or out of bounds coordinates [     1.0938]\n",
      "\u001b[34m\u001b[1mtrain: \u001b[0mWARNING ⚠️ /home/vscode/ultralytics/examples/datasets/DOTA-v2.0-patches/images/train/P10084__682__342___342.jpg: ignoring corrupt image/label: non-normalized or out of bounds coordinates [     1.0938]\n",
      "\u001b[34m\u001b[1mtrain: \u001b[0mWARNING ⚠️ /home/vscode/ultralytics/examples/datasets/DOTA-v2.0-patches/images/train/P10347__682__0___0.jpg: ignoring corrupt image/label: non-normalized or out of bounds coordinates [     1.1393]\n",
      "\u001b[34m\u001b[1mtrain: \u001b[0mWARNING ⚠️ /home/vscode/ultralytics/examples/datasets/DOTA-v2.0-patches/images/train/P10347__682__0___342.jpg: ignoring corrupt image/label: non-normalized or out of bounds coordinates [     1.1393]\n",
      "\u001b[34m\u001b[1mtrain: \u001b[0mWARNING ⚠️ /home/vscode/ultralytics/examples/datasets/DOTA-v2.0-patches/images/train/P10347__682__342___0.jpg: ignoring corrupt image/label: non-normalized or out of bounds coordinates [     1.1393]\n",
      "\u001b[34m\u001b[1mtrain: \u001b[0mWARNING ⚠️ /home/vscode/ultralytics/examples/datasets/DOTA-v2.0-patches/images/train/P10347__682__342___342.jpg: ignoring corrupt image/label: non-normalized or out of bounds coordinates [     1.1393]\n",
      "\u001b[34m\u001b[1mtrain: \u001b[0mWARNING ⚠️ /home/vscode/ultralytics/examples/datasets/DOTA-v2.0-patches/images/train/P10408__682__0___0.jpg: ignoring corrupt image/label: non-normalized or out of bounds coordinates [     1.1114]\n",
      "\u001b[34m\u001b[1mtrain: \u001b[0mWARNING ⚠️ /home/vscode/ultralytics/examples/datasets/DOTA-v2.0-patches/images/train/P10408__682__0___342.jpg: ignoring corrupt image/label: non-normalized or out of bounds coordinates [     1.1114]\n",
      "\u001b[34m\u001b[1mtrain: \u001b[0mWARNING ⚠️ /home/vscode/ultralytics/examples/datasets/DOTA-v2.0-patches/images/train/P10408__682__342___0.jpg: ignoring corrupt image/label: non-normalized or out of bounds coordinates [     1.1114]\n",
      "\u001b[34m\u001b[1mtrain: \u001b[0mWARNING ⚠️ /home/vscode/ultralytics/examples/datasets/DOTA-v2.0-patches/images/train/P10408__682__342___342.jpg: ignoring corrupt image/label: non-normalized or out of bounds coordinates [     1.1114]\n",
      "\u001b[34m\u001b[1mtrain: \u001b[0mWARNING ⚠️ /home/vscode/ultralytics/examples/datasets/DOTA-v2.0-patches/images/train/P10467__682__0___0.jpg: ignoring corrupt image/label: non-normalized or out of bounds coordinates [      1.022]\n",
      "\u001b[34m\u001b[1mtrain: \u001b[0mWARNING ⚠️ /home/vscode/ultralytics/examples/datasets/DOTA-v2.0-patches/images/train/P10467__682__342___0.jpg: ignoring corrupt image/label: non-normalized or out of bounds coordinates [      1.022]\n",
      "\u001b[34m\u001b[1mtrain: \u001b[0mWARNING ⚠️ /home/vscode/ultralytics/examples/datasets/DOTA-v2.0-patches/images/train/P10550__682__0___0.jpg: ignoring corrupt image/label: non-normalized or out of bounds coordinates [     1.0381]\n",
      "\u001b[34m\u001b[1mtrain: \u001b[0mWARNING ⚠️ /home/vscode/ultralytics/examples/datasets/DOTA-v2.0-patches/images/train/P10550__682__0___342.jpg: ignoring corrupt image/label: non-normalized or out of bounds coordinates [     1.0381]\n",
      "\u001b[34m\u001b[1mtrain: \u001b[0mWARNING ⚠️ /home/vscode/ultralytics/examples/datasets/DOTA-v2.0-patches/images/train/P10550__682__342___0.jpg: ignoring corrupt image/label: non-normalized or out of bounds coordinates [     1.0381]\n",
      "\u001b[34m\u001b[1mtrain: \u001b[0mWARNING ⚠️ /home/vscode/ultralytics/examples/datasets/DOTA-v2.0-patches/images/train/P10550__682__342___342.jpg: ignoring corrupt image/label: non-normalized or out of bounds coordinates [     1.0381]\n"
     ]
    },
    {
     "name": "stderr",
     "output_type": "stream",
     "text": [
      "\n",
      "\u001b[34m\u001b[1mval: \u001b[0mScanning /home/vscode/ultralytics/examples/datasets/DOTA-v2.0-patches/labels/val.cache... 23137 images, 26856 backgrounds, 192 corrupt: 100%|██████████| 49993/49993 [00:00<?, ?it/s]"
     ]
    },
    {
     "name": "stdout",
     "output_type": "stream",
     "text": [
      "\u001b[34m\u001b[1mval: \u001b[0mWARNING ⚠️ /home/vscode/ultralytics/examples/datasets/DOTA-v2.0-patches/images/val/P0259__1024__524___0.jpg: ignoring corrupt image/label: non-normalized or out of bounds coordinates [     1.0859      1.0908]\n",
      "\u001b[34m\u001b[1mval: \u001b[0mWARNING ⚠️ /home/vscode/ultralytics/examples/datasets/DOTA-v2.0-patches/images/val/P0259__1024__524___1048.jpg: ignoring corrupt image/label: non-normalized or out of bounds coordinates [      1.041      1.3105]\n",
      "\u001b[34m\u001b[1mval: \u001b[0mWARNING ⚠️ /home/vscode/ultralytics/examples/datasets/DOTA-v2.0-patches/images/val/P0259__1024__524___1245.jpg: ignoring corrupt image/label: non-normalized or out of bounds coordinates [      1.041      1.3105]\n",
      "\u001b[34m\u001b[1mval: \u001b[0mWARNING ⚠️ /home/vscode/ultralytics/examples/datasets/DOTA-v2.0-patches/images/val/P0259__1024__524___524.jpg: ignoring corrupt image/label: non-normalized or out of bounds coordinates [     1.0859      1.4004      1.0908]\n",
      "\u001b[34m\u001b[1mval: \u001b[0mWARNING ⚠️ /home/vscode/ultralytics/examples/datasets/DOTA-v2.0-patches/images/val/P0259__682__1047___1047.jpg: ignoring corrupt image/label: non-normalized or out of bounds coordinates [     1.1466       1.151      1.1422]\n",
      "\u001b[34m\u001b[1mval: \u001b[0mWARNING ⚠️ /home/vscode/ultralytics/examples/datasets/DOTA-v2.0-patches/images/val/P0259__682__1047___698.jpg: ignoring corrupt image/label: non-normalized or out of bounds coordinates [     1.1466       1.151      1.1422]\n",
      "\u001b[34m\u001b[1mval: \u001b[0mWARNING ⚠️ /home/vscode/ultralytics/examples/datasets/DOTA-v2.0-patches/images/val/P0259__682__1396___0.jpg: ignoring corrupt image/label: non-normalized or out of bounds coordinates [     1.1041]\n",
      "\u001b[34m\u001b[1mval: \u001b[0mWARNING ⚠️ /home/vscode/ultralytics/examples/datasets/DOTA-v2.0-patches/images/val/P0259__682__1396___349.jpg: ignoring corrupt image/label: non-normalized or out of bounds coordinates [     1.1041]\n",
      "\u001b[34m\u001b[1mval: \u001b[0mWARNING ⚠️ /home/vscode/ultralytics/examples/datasets/DOTA-v2.0-patches/images/val/P0259__682__1568___0.jpg: ignoring corrupt image/label: non-normalized or out of bounds coordinates [     1.1041]\n",
      "\u001b[34m\u001b[1mval: \u001b[0mWARNING ⚠️ /home/vscode/ultralytics/examples/datasets/DOTA-v2.0-patches/images/val/P0259__682__1568___349.jpg: ignoring corrupt image/label: non-normalized or out of bounds coordinates [     1.1041]\n",
      "\u001b[34m\u001b[1mval: \u001b[0mWARNING ⚠️ /home/vscode/ultralytics/examples/datasets/DOTA-v2.0-patches/images/val/P0259__682__349___698.jpg: ignoring corrupt image/label: non-normalized or out of bounds coordinates [     1.2097]\n",
      "\u001b[34m\u001b[1mval: \u001b[0mWARNING ⚠️ /home/vscode/ultralytics/examples/datasets/DOTA-v2.0-patches/images/val/P0259__682__698___1396.jpg: ignoring corrupt image/label: non-normalized or out of bounds coordinates [      1.305]\n",
      "\u001b[34m\u001b[1mval: \u001b[0mWARNING ⚠️ /home/vscode/ultralytics/examples/datasets/DOTA-v2.0-patches/images/val/P0259__682__698___1587.jpg: ignoring corrupt image/label: non-normalized or out of bounds coordinates [      1.305]\n",
      "\u001b[34m\u001b[1mval: \u001b[0mWARNING ⚠️ /home/vscode/ultralytics/examples/datasets/DOTA-v2.0-patches/images/val/P0261__1024__0___0.jpg: ignoring corrupt image/label: non-normalized or out of bounds coordinates [     1.1797]\n",
      "\u001b[34m\u001b[1mval: \u001b[0mWARNING ⚠️ /home/vscode/ultralytics/examples/datasets/DOTA-v2.0-patches/images/val/P0261__1024__390___0.jpg: ignoring corrupt image/label: non-normalized or out of bounds coordinates [     1.1797]\n",
      "\u001b[34m\u001b[1mval: \u001b[0mWARNING ⚠️ /home/vscode/ultralytics/examples/datasets/DOTA-v2.0-patches/images/val/P0261__1024__390___74.jpg: ignoring corrupt image/label: non-normalized or out of bounds coordinates [     1.1797]\n",
      "\u001b[34m\u001b[1mval: \u001b[0mWARNING ⚠️ /home/vscode/ultralytics/examples/datasets/DOTA-v2.0-patches/images/val/P0300__682__698___0.jpg: ignoring corrupt image/label: non-normalized or out of bounds coordinates [     1.2449]\n",
      "\u001b[34m\u001b[1mval: \u001b[0mWARNING ⚠️ /home/vscode/ultralytics/examples/datasets/DOTA-v2.0-patches/images/val/P0336__682__0___349.jpg: ignoring corrupt image/label: non-normalized or out of bounds coordinates [     1.0279]\n",
      "\u001b[34m\u001b[1mval: \u001b[0mWARNING ⚠️ /home/vscode/ultralytics/examples/datasets/DOTA-v2.0-patches/images/val/P0336__682__349___349.jpg: ignoring corrupt image/label: non-normalized or out of bounds coordinates [     1.0279]\n",
      "\u001b[34m\u001b[1mval: \u001b[0mWARNING ⚠️ /home/vscode/ultralytics/examples/datasets/DOTA-v2.0-patches/images/val/P0665__682__349___0.jpg: ignoring corrupt image/label: non-normalized or out of bounds coordinates [     1.0176      1.0777]\n",
      "\u001b[34m\u001b[1mval: \u001b[0mWARNING ⚠️ /home/vscode/ultralytics/examples/datasets/DOTA-v2.0-patches/images/val/P0665__682__349___349.jpg: ignoring corrupt image/label: non-normalized or out of bounds coordinates [     1.0176      1.0777]\n",
      "\u001b[34m\u001b[1mval: \u001b[0mWARNING ⚠️ /home/vscode/ultralytics/examples/datasets/DOTA-v2.0-patches/images/val/P0683__682__1047___0.jpg: ignoring corrupt image/label: non-normalized or out of bounds coordinates [     1.1276]\n",
      "\u001b[34m\u001b[1mval: \u001b[0mWARNING ⚠️ /home/vscode/ultralytics/examples/datasets/DOTA-v2.0-patches/images/val/P0683__682__1047___349.jpg: ignoring corrupt image/label: non-normalized or out of bounds coordinates [     1.1276]\n",
      "\u001b[34m\u001b[1mval: \u001b[0mWARNING ⚠️ /home/vscode/ultralytics/examples/datasets/DOTA-v2.0-patches/images/val/P0696__682__349___1396.jpg: ignoring corrupt image/label: non-normalized or out of bounds coordinates [     1.0865]\n",
      "\u001b[34m\u001b[1mval: \u001b[0mWARNING ⚠️ /home/vscode/ultralytics/examples/datasets/DOTA-v2.0-patches/images/val/P0696__682__349___1455.jpg: ignoring corrupt image/label: non-normalized or out of bounds coordinates [     1.0865]\n",
      "\u001b[34m\u001b[1mval: \u001b[0mWARNING ⚠️ /home/vscode/ultralytics/examples/datasets/DOTA-v2.0-patches/images/val/P0704__682__698___698.jpg: ignoring corrupt image/label: non-normalized or out of bounds coordinates [     1.1246]\n",
      "\u001b[34m\u001b[1mval: \u001b[0mWARNING ⚠️ /home/vscode/ultralytics/examples/datasets/DOTA-v2.0-patches/images/val/P0704__682__698___754.jpg: ignoring corrupt image/label: non-normalized or out of bounds coordinates [     1.1246]\n",
      "\u001b[34m\u001b[1mval: \u001b[0mWARNING ⚠️ /home/vscode/ultralytics/examples/datasets/DOTA-v2.0-patches/images/val/P0770__682__698___676.jpg: ignoring corrupt image/label: non-normalized or out of bounds coordinates [     1.1041]\n",
      "\u001b[34m\u001b[1mval: \u001b[0mWARNING ⚠️ /home/vscode/ultralytics/examples/datasets/DOTA-v2.0-patches/images/val/P0770__682__928___676.jpg: ignoring corrupt image/label: non-normalized or out of bounds coordinates [     1.1041]\n",
      "\u001b[34m\u001b[1mval: \u001b[0mWARNING ⚠️ /home/vscode/ultralytics/examples/datasets/DOTA-v2.0-patches/images/val/P0795__682__0___1396.jpg: ignoring corrupt image/label: non-normalized or out of bounds coordinates [     1.1173      1.0938]\n",
      "\u001b[34m\u001b[1mval: \u001b[0mWARNING ⚠️ /home/vscode/ultralytics/examples/datasets/DOTA-v2.0-patches/images/val/P0795__682__0___349.jpg: ignoring corrupt image/label: non-normalized or out of bounds coordinates [     1.0674]\n",
      "\u001b[34m\u001b[1mval: \u001b[0mWARNING ⚠️ /home/vscode/ultralytics/examples/datasets/DOTA-v2.0-patches/images/val/P0795__682__1047___1396.jpg: ignoring corrupt image/label: non-normalized or out of bounds coordinates [     1.1026       1.066]\n",
      "\u001b[34m\u001b[1mval: \u001b[0mWARNING ⚠️ /home/vscode/ultralytics/examples/datasets/DOTA-v2.0-patches/images/val/P0795__682__1047___349.jpg: ignoring corrupt image/label: non-normalized or out of bounds coordinates [     1.1334      1.1085]\n",
      "\u001b[34m\u001b[1mval: \u001b[0mWARNING ⚠️ /home/vscode/ultralytics/examples/datasets/DOTA-v2.0-patches/images/val/P0795__682__1094___1396.jpg: ignoring corrupt image/label: non-normalized or out of bounds coordinates [     1.1026       1.066]\n",
      "\u001b[34m\u001b[1mval: \u001b[0mWARNING ⚠️ /home/vscode/ultralytics/examples/datasets/DOTA-v2.0-patches/images/val/P0795__682__1094___349.jpg: ignoring corrupt image/label: non-normalized or out of bounds coordinates [     1.1334      1.1085]\n",
      "\u001b[34m\u001b[1mval: \u001b[0mWARNING ⚠️ /home/vscode/ultralytics/examples/datasets/DOTA-v2.0-patches/images/val/P0795__682__349___1396.jpg: ignoring corrupt image/label: non-normalized or out of bounds coordinates [     1.0938      1.0865]\n",
      "\u001b[34m\u001b[1mval: \u001b[0mWARNING ⚠️ /home/vscode/ultralytics/examples/datasets/DOTA-v2.0-patches/images/val/P0795__682__349___349.jpg: ignoring corrupt image/label: non-normalized or out of bounds coordinates [     1.0704      1.0674]\n",
      "\u001b[34m\u001b[1mval: \u001b[0mWARNING ⚠️ /home/vscode/ultralytics/examples/datasets/DOTA-v2.0-patches/images/val/P0795__682__698___1396.jpg: ignoring corrupt image/label: non-normalized or out of bounds coordinates [     1.0865       1.066]\n",
      "\u001b[34m\u001b[1mval: \u001b[0mWARNING ⚠️ /home/vscode/ultralytics/examples/datasets/DOTA-v2.0-patches/images/val/P0795__682__698___349.jpg: ignoring corrupt image/label: non-normalized or out of bounds coordinates [     1.0704      1.1334]\n",
      "\u001b[34m\u001b[1mval: \u001b[0mWARNING ⚠️ /home/vscode/ultralytics/examples/datasets/DOTA-v2.0-patches/images/val/P0801__682__0___698.jpg: ignoring corrupt image/label: non-normalized or out of bounds coordinates [     1.4428]\n",
      "\u001b[34m\u001b[1mval: \u001b[0mWARNING ⚠️ /home/vscode/ultralytics/examples/datasets/DOTA-v2.0-patches/images/val/P0801__682__1047___698.jpg: ignoring corrupt image/label: non-normalized or out of bounds coordinates [     1.3475      1.2771]\n",
      "\u001b[34m\u001b[1mval: \u001b[0mWARNING ⚠️ /home/vscode/ultralytics/examples/datasets/DOTA-v2.0-patches/images/val/P0801__682__1396___698.jpg: ignoring corrupt image/label: non-normalized or out of bounds coordinates [     1.2771      1.4062]\n",
      "\u001b[34m\u001b[1mval: \u001b[0mWARNING ⚠️ /home/vscode/ultralytics/examples/datasets/DOTA-v2.0-patches/images/val/P0801__682__1745___698.jpg: ignoring corrupt image/label: non-normalized or out of bounds coordinates [     1.4062      1.3666]\n",
      "\u001b[34m\u001b[1mval: \u001b[0mWARNING ⚠️ /home/vscode/ultralytics/examples/datasets/DOTA-v2.0-patches/images/val/P0801__682__2094___698.jpg: ignoring corrupt image/label: non-normalized or out of bounds coordinates [     1.3666      1.3666]\n",
      "\u001b[34m\u001b[1mval: \u001b[0mWARNING ⚠️ /home/vscode/ultralytics/examples/datasets/DOTA-v2.0-patches/images/val/P0801__682__2443___698.jpg: ignoring corrupt image/label: non-normalized or out of bounds coordinates [     1.3666      1.2874      1.3108]\n",
      "\u001b[34m\u001b[1mval: \u001b[0mWARNING ⚠️ /home/vscode/ultralytics/examples/datasets/DOTA-v2.0-patches/images/val/P0801__682__2742___698.jpg: ignoring corrupt image/label: non-normalized or out of bounds coordinates [     1.3108]\n",
      "\u001b[34m\u001b[1mval: \u001b[0mWARNING ⚠️ /home/vscode/ultralytics/examples/datasets/DOTA-v2.0-patches/images/val/P0801__682__349___698.jpg: ignoring corrupt image/label: non-normalized or out of bounds coordinates [     1.3578]\n",
      "\u001b[34m\u001b[1mval: \u001b[0mWARNING ⚠️ /home/vscode/ultralytics/examples/datasets/DOTA-v2.0-patches/images/val/P0801__682__698___698.jpg: ignoring corrupt image/label: non-normalized or out of bounds coordinates [     1.3578      1.3475]\n",
      "\u001b[34m\u001b[1mval: \u001b[0mWARNING ⚠️ /home/vscode/ultralytics/examples/datasets/DOTA-v2.0-patches/images/val/P0837__1024__0___1048.jpg: ignoring corrupt image/label: non-normalized or out of bounds coordinates [     1.1328      1.1641]\n",
      "\u001b[34m\u001b[1mval: \u001b[0mWARNING ⚠️ /home/vscode/ultralytics/examples/datasets/DOTA-v2.0-patches/images/val/P0837__1024__0___524.jpg: ignoring corrupt image/label: non-normalized or out of bounds coordinates [     1.1641]\n",
      "\u001b[34m\u001b[1mval: \u001b[0mWARNING ⚠️ /home/vscode/ultralytics/examples/datasets/DOTA-v2.0-patches/images/val/P0837__1024__524___1572.jpg: ignoring corrupt image/label: non-normalized or out of bounds coordinates [     1.1309]\n",
      "\u001b[34m\u001b[1mval: \u001b[0mWARNING ⚠️ /home/vscode/ultralytics/examples/datasets/DOTA-v2.0-patches/images/val/P0837__1024__524___1696.jpg: ignoring corrupt image/label: non-normalized or out of bounds coordinates [     1.1309]\n",
      "\u001b[34m\u001b[1mval: \u001b[0mWARNING ⚠️ /home/vscode/ultralytics/examples/datasets/DOTA-v2.0-patches/images/val/P0837__682__1002___2038.jpg: ignoring corrupt image/label: non-normalized or out of bounds coordinates [     1.0689]\n",
      "\u001b[34m\u001b[1mval: \u001b[0mWARNING ⚠️ /home/vscode/ultralytics/examples/datasets/DOTA-v2.0-patches/images/val/P0837__682__349___0.jpg: ignoring corrupt image/label: non-normalized or out of bounds coordinates [     1.4003]\n",
      "\u001b[34m\u001b[1mval: \u001b[0mWARNING ⚠️ /home/vscode/ultralytics/examples/datasets/DOTA-v2.0-patches/images/val/P0837__682__349___349.jpg: ignoring corrupt image/label: non-normalized or out of bounds coordinates [     1.4619      1.4003]\n",
      "\u001b[34m\u001b[1mval: \u001b[0mWARNING ⚠️ /home/vscode/ultralytics/examples/datasets/DOTA-v2.0-patches/images/val/P0837__682__349___698.jpg: ignoring corrupt image/label: non-normalized or out of bounds coordinates [     1.4619]\n",
      "\u001b[34m\u001b[1mval: \u001b[0mWARNING ⚠️ /home/vscode/ultralytics/examples/datasets/DOTA-v2.0-patches/images/val/P0837__682__698___1745.jpg: ignoring corrupt image/label: non-normalized or out of bounds coordinates [     1.0689]\n",
      "\u001b[34m\u001b[1mval: \u001b[0mWARNING ⚠️ /home/vscode/ultralytics/examples/datasets/DOTA-v2.0-patches/images/val/P0837__682__698___2038.jpg: ignoring corrupt image/label: non-normalized or out of bounds coordinates [     1.0689]\n",
      "\u001b[34m\u001b[1mval: \u001b[0mWARNING ⚠️ /home/vscode/ultralytics/examples/datasets/DOTA-v2.0-patches/images/val/P0838__682__349___0.jpg: ignoring corrupt image/label: non-normalized or out of bounds coordinates [     1.3182      1.3387]\n",
      "\u001b[34m\u001b[1mval: \u001b[0mWARNING ⚠️ /home/vscode/ultralytics/examples/datasets/DOTA-v2.0-patches/images/val/P0838__682__349___349.jpg: ignoring corrupt image/label: non-normalized or out of bounds coordinates [      1.283      1.3094      1.3182]\n",
      "\u001b[34m\u001b[1mval: \u001b[0mWARNING ⚠️ /home/vscode/ultralytics/examples/datasets/DOTA-v2.0-patches/images/val/P0838__682__349___698.jpg: ignoring corrupt image/label: non-normalized or out of bounds coordinates [      1.088      1.2595      1.3065       1.283      1.3094]\n",
      "\u001b[34m\u001b[1mval: \u001b[0mWARNING ⚠️ /home/vscode/ultralytics/examples/datasets/DOTA-v2.0-patches/images/val/P0838__682__349___983.jpg: ignoring corrupt image/label: non-normalized or out of bounds coordinates [      1.088      1.2595      1.3065]\n",
      "\u001b[34m\u001b[1mval: \u001b[0mWARNING ⚠️ /home/vscode/ultralytics/examples/datasets/DOTA-v2.0-patches/images/val/P0864__682__1396___0.jpg: ignoring corrupt image/label: non-normalized or out of bounds coordinates [     1.2214      1.1085]\n",
      "\u001b[34m\u001b[1mval: \u001b[0mWARNING ⚠️ /home/vscode/ultralytics/examples/datasets/DOTA-v2.0-patches/images/val/P0864__682__1396___349.jpg: ignoring corrupt image/label: non-normalized or out of bounds coordinates [      1.217      1.2214      1.1085]\n",
      "\u001b[34m\u001b[1mval: \u001b[0mWARNING ⚠️ /home/vscode/ultralytics/examples/datasets/DOTA-v2.0-patches/images/val/P0864__682__1396___698.jpg: ignoring corrupt image/label: non-normalized or out of bounds coordinates [     1.1114       1.217]\n",
      "\u001b[34m\u001b[1mval: \u001b[0mWARNING ⚠️ /home/vscode/ultralytics/examples/datasets/DOTA-v2.0-patches/images/val/P0864__682__2094___1047.jpg: ignoring corrupt image/label: non-normalized or out of bounds coordinates [      1.154]\n",
      "\u001b[34m\u001b[1mval: \u001b[0mWARNING ⚠️ /home/vscode/ultralytics/examples/datasets/DOTA-v2.0-patches/images/val/P0864__682__2094___698.jpg: ignoring corrupt image/label: non-normalized or out of bounds coordinates [      1.154]\n",
      "\u001b[34m\u001b[1mval: \u001b[0mWARNING ⚠️ /home/vscode/ultralytics/examples/datasets/DOTA-v2.0-patches/images/val/P0887__682__349___1745.jpg: ignoring corrupt image/label: non-normalized or out of bounds coordinates [     1.2566]\n",
      "\u001b[34m\u001b[1mval: \u001b[0mWARNING ⚠️ /home/vscode/ultralytics/examples/datasets/DOTA-v2.0-patches/images/val/P0887__682__349___2082.jpg: ignoring corrupt image/label: non-normalized or out of bounds coordinates [     1.0323]\n",
      "\u001b[34m\u001b[1mval: \u001b[0mWARNING ⚠️ /home/vscode/ultralytics/examples/datasets/DOTA-v2.0-patches/images/val/P0897__682__1396___1745.jpg: ignoring corrupt image/label: non-normalized or out of bounds coordinates [     1.0103      1.0132]\n",
      "\u001b[34m\u001b[1mval: \u001b[0mWARNING ⚠️ /home/vscode/ultralytics/examples/datasets/DOTA-v2.0-patches/images/val/P0897__682__1396___2094.jpg: ignoring corrupt image/label: non-normalized or out of bounds coordinates [     1.0103]\n",
      "\u001b[34m\u001b[1mval: \u001b[0mWARNING ⚠️ /home/vscode/ultralytics/examples/datasets/DOTA-v2.0-patches/images/val/P0897__682__349___3141.jpg: ignoring corrupt image/label: non-normalized or out of bounds coordinates [      1.327]\n",
      "\u001b[34m\u001b[1mval: \u001b[0mWARNING ⚠️ /home/vscode/ultralytics/examples/datasets/DOTA-v2.0-patches/images/val/P0897__682__349___3490.jpg: ignoring corrupt image/label: non-normalized or out of bounds coordinates [     1.4238       1.327]\n",
      "\u001b[34m\u001b[1mval: \u001b[0mWARNING ⚠️ /home/vscode/ultralytics/examples/datasets/DOTA-v2.0-patches/images/val/P0897__682__349___3839.jpg: ignoring corrupt image/label: non-normalized or out of bounds coordinates [     1.2962       1.437]\n",
      "\u001b[34m\u001b[1mval: \u001b[0mWARNING ⚠️ /home/vscode/ultralytics/examples/datasets/DOTA-v2.0-patches/images/val/P0897__682__698___3141.jpg: ignoring corrupt image/label: non-normalized or out of bounds coordinates [       1.11]\n",
      "\u001b[34m\u001b[1mval: \u001b[0mWARNING ⚠️ /home/vscode/ultralytics/examples/datasets/DOTA-v2.0-patches/images/val/P0964__682__1047___349.jpg: ignoring corrupt image/label: non-normalized or out of bounds coordinates [     1.0264]\n",
      "\u001b[34m\u001b[1mval: \u001b[0mWARNING ⚠️ /home/vscode/ultralytics/examples/datasets/DOTA-v2.0-patches/images/val/P0964__682__1047___469.jpg: ignoring corrupt image/label: non-normalized or out of bounds coordinates [     1.0264]\n",
      "\u001b[34m\u001b[1mval: \u001b[0mWARNING ⚠️ /home/vscode/ultralytics/examples/datasets/DOTA-v2.0-patches/images/val/P0964__682__1396___0.jpg: ignoring corrupt image/label: non-normalized or out of bounds coordinates [      1.044]\n",
      "\u001b[34m\u001b[1mval: \u001b[0mWARNING ⚠️ /home/vscode/ultralytics/examples/datasets/DOTA-v2.0-patches/images/val/P0964__682__1745___0.jpg: ignoring corrupt image/label: non-normalized or out of bounds coordinates [     1.0264       1.044]\n",
      "\u001b[34m\u001b[1mval: \u001b[0mWARNING ⚠️ /home/vscode/ultralytics/examples/datasets/DOTA-v2.0-patches/images/val/P0964__682__2094___0.jpg: ignoring corrupt image/label: non-normalized or out of bounds coordinates [     1.0264]\n",
      "\u001b[34m\u001b[1mval: \u001b[0mWARNING ⚠️ /home/vscode/ultralytics/examples/datasets/DOTA-v2.0-patches/images/val/P0964__682__698___349.jpg: ignoring corrupt image/label: non-normalized or out of bounds coordinates [     1.0264]\n",
      "\u001b[34m\u001b[1mval: \u001b[0mWARNING ⚠️ /home/vscode/ultralytics/examples/datasets/DOTA-v2.0-patches/images/val/P0964__682__698___469.jpg: ignoring corrupt image/label: non-normalized or out of bounds coordinates [     1.0264]\n",
      "\u001b[34m\u001b[1mval: \u001b[0mWARNING ⚠️ /home/vscode/ultralytics/examples/datasets/DOTA-v2.0-patches/images/val/P10442__682__0___342.jpg: ignoring corrupt image/label: non-normalized or out of bounds coordinates [     1.3666]\n",
      "\u001b[34m\u001b[1mval: \u001b[0mWARNING ⚠️ /home/vscode/ultralytics/examples/datasets/DOTA-v2.0-patches/images/val/P1122__682__4886___1047.jpg: ignoring corrupt image/label: non-normalized or out of bounds coordinates [     1.1657]\n",
      "\u001b[34m\u001b[1mval: \u001b[0mWARNING ⚠️ /home/vscode/ultralytics/examples/datasets/DOTA-v2.0-patches/images/val/P1122__682__5584___698.jpg: ignoring corrupt image/label: non-normalized or out of bounds coordinates [     1.2463]\n",
      "\u001b[34m\u001b[1mval: \u001b[0mWARNING ⚠️ /home/vscode/ultralytics/examples/datasets/DOTA-v2.0-patches/images/val/P1122__682__5933___698.jpg: ignoring corrupt image/label: non-normalized or out of bounds coordinates [     1.2463]\n",
      "\u001b[34m\u001b[1mval: \u001b[0mWARNING ⚠️ /home/vscode/ultralytics/examples/datasets/DOTA-v2.0-patches/images/val/P1128__682__349___0.jpg: ignoring corrupt image/label: non-normalized or out of bounds coordinates [     1.1012]\n",
      "\u001b[34m\u001b[1mval: \u001b[0mWARNING ⚠️ /home/vscode/ultralytics/examples/datasets/DOTA-v2.0-patches/images/val/P1128__682__349___349.jpg: ignoring corrupt image/label: non-normalized or out of bounds coordinates [     1.1012]\n",
      "\u001b[34m\u001b[1mval: \u001b[0mWARNING ⚠️ /home/vscode/ultralytics/examples/datasets/DOTA-v2.0-patches/images/val/P1128__682__698___349.jpg: ignoring corrupt image/label: non-normalized or out of bounds coordinates [     1.1012]\n",
      "\u001b[34m\u001b[1mval: \u001b[0mWARNING ⚠️ /home/vscode/ultralytics/examples/datasets/DOTA-v2.0-patches/images/val/P1147__682__349___2094.jpg: ignoring corrupt image/label: non-normalized or out of bounds coordinates [     1.1686      1.1085]\n",
      "\u001b[34m\u001b[1mval: \u001b[0mWARNING ⚠️ /home/vscode/ultralytics/examples/datasets/DOTA-v2.0-patches/images/val/P1234__682__3141___2443.jpg: ignoring corrupt image/label: non-normalized or out of bounds coordinates [     1.2229]\n",
      "\u001b[34m\u001b[1mval: \u001b[0mWARNING ⚠️ /home/vscode/ultralytics/examples/datasets/DOTA-v2.0-patches/images/val/P1234__682__3141___2792.jpg: ignoring corrupt image/label: non-normalized or out of bounds coordinates [     1.2229]\n",
      "\u001b[34m\u001b[1mval: \u001b[0mWARNING ⚠️ /home/vscode/ultralytics/examples/datasets/DOTA-v2.0-patches/images/val/P1234__682__3318___2443.jpg: ignoring corrupt image/label: non-normalized or out of bounds coordinates [     1.2229]\n",
      "\u001b[34m\u001b[1mval: \u001b[0mWARNING ⚠️ /home/vscode/ultralytics/examples/datasets/DOTA-v2.0-patches/images/val/P1234__682__3318___2792.jpg: ignoring corrupt image/label: non-normalized or out of bounds coordinates [     1.2229]\n",
      "\u001b[34m\u001b[1mval: \u001b[0mWARNING ⚠️ /home/vscode/ultralytics/examples/datasets/DOTA-v2.0-patches/images/val/P1268__682__0___1745.jpg: ignoring corrupt image/label: non-normalized or out of bounds coordinates [     1.1496]\n",
      "\u001b[34m\u001b[1mval: \u001b[0mWARNING ⚠️ /home/vscode/ultralytics/examples/datasets/DOTA-v2.0-patches/images/val/P1268__682__349___1745.jpg: ignoring corrupt image/label: non-normalized or out of bounds coordinates [     1.1496]\n",
      "\u001b[34m\u001b[1mval: \u001b[0mWARNING ⚠️ /home/vscode/ultralytics/examples/datasets/DOTA-v2.0-patches/images/val/P1398__682__3141___4188.jpg: ignoring corrupt image/label: non-normalized or out of bounds coordinates [     1.1012      1.0411]\n",
      "\u001b[34m\u001b[1mval: \u001b[0mWARNING ⚠️ /home/vscode/ultralytics/examples/datasets/DOTA-v2.0-patches/images/val/P1398__682__3141___4537.jpg: ignoring corrupt image/label: non-normalized or out of bounds coordinates [     1.1012      1.0411]\n",
      "\u001b[34m\u001b[1mval: \u001b[0mWARNING ⚠️ /home/vscode/ultralytics/examples/datasets/DOTA-v2.0-patches/images/val/P1398__682__3372___4188.jpg: ignoring corrupt image/label: non-normalized or out of bounds coordinates [     1.1012      1.0411]\n",
      "\u001b[34m\u001b[1mval: \u001b[0mWARNING ⚠️ /home/vscode/ultralytics/examples/datasets/DOTA-v2.0-patches/images/val/P1429__1024__524___0.jpg: ignoring corrupt image/label: non-normalized or out of bounds coordinates [     1.1064      1.0391]\n",
      "\u001b[34m\u001b[1mval: \u001b[0mWARNING ⚠️ /home/vscode/ultralytics/examples/datasets/DOTA-v2.0-patches/images/val/P1429__1024__524___524.jpg: ignoring corrupt image/label: non-normalized or out of bounds coordinates [     1.1064      1.0391]\n",
      "\u001b[34m\u001b[1mval: \u001b[0mWARNING ⚠️ /home/vscode/ultralytics/examples/datasets/DOTA-v2.0-patches/images/val/P1429__682__2094___1745.jpg: ignoring corrupt image/label: non-normalized or out of bounds coordinates [     1.1554]\n",
      "\u001b[34m\u001b[1mval: \u001b[0mWARNING ⚠️ /home/vscode/ultralytics/examples/datasets/DOTA-v2.0-patches/images/val/P1429__682__2443___1745.jpg: ignoring corrupt image/label: non-normalized or out of bounds coordinates [     1.1554]\n",
      "\u001b[34m\u001b[1mval: \u001b[0mWARNING ⚠️ /home/vscode/ultralytics/examples/datasets/DOTA-v2.0-patches/images/val/P1429__682__2483___1745.jpg: ignoring corrupt image/label: non-normalized or out of bounds coordinates [     1.1554]\n",
      "\u001b[34m\u001b[1mval: \u001b[0mWARNING ⚠️ /home/vscode/ultralytics/examples/datasets/DOTA-v2.0-patches/images/val/P1440__1024__950___0.jpg: ignoring corrupt image/label: non-normalized or out of bounds coordinates [     1.0332]\n",
      "\u001b[34m\u001b[1mval: \u001b[0mWARNING ⚠️ /home/vscode/ultralytics/examples/datasets/DOTA-v2.0-patches/images/val/P1440__1024__950___524.jpg: ignoring corrupt image/label: non-normalized or out of bounds coordinates [     1.0332]\n",
      "\u001b[34m\u001b[1mval: \u001b[0mWARNING ⚠️ /home/vscode/ultralytics/examples/datasets/DOTA-v2.0-patches/images/val/P1440__682__1047___349.jpg: ignoring corrupt image/label: non-normalized or out of bounds coordinates [     1.0176      1.2757      1.5513]\n",
      "\u001b[34m\u001b[1mval: \u001b[0mWARNING ⚠️ /home/vscode/ultralytics/examples/datasets/DOTA-v2.0-patches/images/val/P1440__682__1292___349.jpg: ignoring corrupt image/label: non-normalized or out of bounds coordinates [     1.0176]\n",
      "\u001b[34m\u001b[1mval: \u001b[0mWARNING ⚠️ /home/vscode/ultralytics/examples/datasets/DOTA-v2.0-patches/images/val/P1456__1024__2096___1048.jpg: ignoring corrupt image/label: non-normalized or out of bounds coordinates [     1.2598]\n",
      "\u001b[34m\u001b[1mval: \u001b[0mWARNING ⚠️ /home/vscode/ultralytics/examples/datasets/DOTA-v2.0-patches/images/val/P1456__1024__2470___1048.jpg: ignoring corrupt image/label: non-normalized or out of bounds coordinates [     1.2598]\n",
      "\u001b[34m\u001b[1mval: \u001b[0mWARNING ⚠️ /home/vscode/ultralytics/examples/datasets/DOTA-v2.0-patches/images/val/P1456__682__2443___1047.jpg: ignoring corrupt image/label: non-normalized or out of bounds coordinates [     1.1041]\n",
      "\u001b[34m\u001b[1mval: \u001b[0mWARNING ⚠️ /home/vscode/ultralytics/examples/datasets/DOTA-v2.0-patches/images/val/P1456__682__349___698.jpg: ignoring corrupt image/label: non-normalized or out of bounds coordinates [      1.107]\n",
      "\u001b[34m\u001b[1mval: \u001b[0mWARNING ⚠️ /home/vscode/ultralytics/examples/datasets/DOTA-v2.0-patches/images/val/P1463__1024__1048___1048.jpg: ignoring corrupt image/label: non-normalized or out of bounds coordinates [     1.1387       1.417]\n",
      "\u001b[34m\u001b[1mval: \u001b[0mWARNING ⚠️ /home/vscode/ultralytics/examples/datasets/DOTA-v2.0-patches/images/val/P1463__1024__2096___1572.jpg: ignoring corrupt image/label: non-normalized or out of bounds coordinates [     1.0908      1.2813]\n",
      "\u001b[34m\u001b[1mval: \u001b[0mWARNING ⚠️ /home/vscode/ultralytics/examples/datasets/DOTA-v2.0-patches/images/val/P1463__682__1047___1047.jpg: ignoring corrupt image/label: non-normalized or out of bounds coordinates [     1.0777      1.2375]\n",
      "\u001b[34m\u001b[1mval: \u001b[0mWARNING ⚠️ /home/vscode/ultralytics/examples/datasets/DOTA-v2.0-patches/images/val/P1463__682__1047___1396.jpg: ignoring corrupt image/label: non-normalized or out of bounds coordinates [     1.0777      1.2375]\n",
      "\u001b[34m\u001b[1mval: \u001b[0mWARNING ⚠️ /home/vscode/ultralytics/examples/datasets/DOTA-v2.0-patches/images/val/P1471__682__349___2094.jpg: ignoring corrupt image/label: non-normalized or out of bounds coordinates [     1.3461]\n",
      "\u001b[34m\u001b[1mval: \u001b[0mWARNING ⚠️ /home/vscode/ultralytics/examples/datasets/DOTA-v2.0-patches/images/val/P1786__682__1047___698.jpg: ignoring corrupt image/label: non-normalized or out of bounds coordinates [     1.1994      1.2302]\n",
      "\u001b[34m\u001b[1mval: \u001b[0mWARNING ⚠️ /home/vscode/ultralytics/examples/datasets/DOTA-v2.0-patches/images/val/P1903__682__349___0.jpg: ignoring corrupt image/label: non-normalized or out of bounds coordinates [     1.1114]\n",
      "\u001b[34m\u001b[1mval: \u001b[0mWARNING ⚠️ /home/vscode/ultralytics/examples/datasets/DOTA-v2.0-patches/images/val/P2121__682__0___349.jpg: ignoring corrupt image/label: non-normalized or out of bounds coordinates [     1.0425]\n",
      "\u001b[34m\u001b[1mval: \u001b[0mWARNING ⚠️ /home/vscode/ultralytics/examples/datasets/DOTA-v2.0-patches/images/val/P2121__682__0___433.jpg: ignoring corrupt image/label: non-normalized or out of bounds coordinates [     1.0425]\n",
      "\u001b[34m\u001b[1mval: \u001b[0mWARNING ⚠️ /home/vscode/ultralytics/examples/datasets/DOTA-v2.0-patches/images/val/P2121__682__158___349.jpg: ignoring corrupt image/label: non-normalized or out of bounds coordinates [     1.0425]\n",
      "\u001b[34m\u001b[1mval: \u001b[0mWARNING ⚠️ /home/vscode/ultralytics/examples/datasets/DOTA-v2.0-patches/images/val/P2121__682__158___433.jpg: ignoring corrupt image/label: non-normalized or out of bounds coordinates [     1.0425]\n",
      "\u001b[34m\u001b[1mval: \u001b[0mWARNING ⚠️ /home/vscode/ultralytics/examples/datasets/DOTA-v2.0-patches/images/val/P2286__682__1047___1047.jpg: ignoring corrupt image/label: non-normalized or out of bounds coordinates [     1.2361]\n",
      "\u001b[34m\u001b[1mval: \u001b[0mWARNING ⚠️ /home/vscode/ultralytics/examples/datasets/DOTA-v2.0-patches/images/val/P2286__682__1047___1384.jpg: ignoring corrupt image/label: non-normalized or out of bounds coordinates [     1.2361]\n",
      "\u001b[34m\u001b[1mval: \u001b[0mWARNING ⚠️ /home/vscode/ultralytics/examples/datasets/DOTA-v2.0-patches/images/val/P2365__1024__0___1048.jpg: ignoring corrupt image/label: non-normalized or out of bounds coordinates [     1.1533]\n",
      "\u001b[34m\u001b[1mval: \u001b[0mWARNING ⚠️ /home/vscode/ultralytics/examples/datasets/DOTA-v2.0-patches/images/val/P2365__1024__1048___1048.jpg: ignoring corrupt image/label: non-normalized or out of bounds coordinates [     1.1123]\n",
      "\u001b[34m\u001b[1mval: \u001b[0mWARNING ⚠️ /home/vscode/ultralytics/examples/datasets/DOTA-v2.0-patches/images/val/P2365__1024__1048___1303.jpg: ignoring corrupt image/label: non-normalized or out of bounds coordinates [     1.1123]\n",
      "\u001b[34m\u001b[1mval: \u001b[0mWARNING ⚠️ /home/vscode/ultralytics/examples/datasets/DOTA-v2.0-patches/images/val/P2365__1024__524___1048.jpg: ignoring corrupt image/label: non-normalized or out of bounds coordinates [     1.1533      1.1123]\n",
      "\u001b[34m\u001b[1mval: \u001b[0mWARNING ⚠️ /home/vscode/ultralytics/examples/datasets/DOTA-v2.0-patches/images/val/P2365__1024__524___1303.jpg: ignoring corrupt image/label: non-normalized or out of bounds coordinates [     1.1533]\n",
      "\u001b[34m\u001b[1mval: \u001b[0mWARNING ⚠️ /home/vscode/ultralytics/examples/datasets/DOTA-v2.0-patches/images/val/P2365__682__1745___349.jpg: ignoring corrupt image/label: non-normalized or out of bounds coordinates [     1.0484]\n",
      "\u001b[34m\u001b[1mval: \u001b[0mWARNING ⚠️ /home/vscode/ultralytics/examples/datasets/DOTA-v2.0-patches/images/val/P2365__682__2094___349.jpg: ignoring corrupt image/label: non-normalized or out of bounds coordinates [     1.0484]\n",
      "\u001b[34m\u001b[1mval: \u001b[0mWARNING ⚠️ /home/vscode/ultralytics/examples/datasets/DOTA-v2.0-patches/images/val/P2393__1024__1048___0.jpg: ignoring corrupt image/label: non-normalized or out of bounds coordinates [     1.0732]\n",
      "\u001b[34m\u001b[1mval: \u001b[0mWARNING ⚠️ /home/vscode/ultralytics/examples/datasets/DOTA-v2.0-patches/images/val/P2393__1024__1048___524.jpg: ignoring corrupt image/label: non-normalized or out of bounds coordinates [     1.0732]\n",
      "\u001b[34m\u001b[1mval: \u001b[0mWARNING ⚠️ /home/vscode/ultralytics/examples/datasets/DOTA-v2.0-patches/images/val/P2393__1024__1077___0.jpg: ignoring corrupt image/label: non-normalized or out of bounds coordinates [     1.0732]\n",
      "\u001b[34m\u001b[1mval: \u001b[0mWARNING ⚠️ /home/vscode/ultralytics/examples/datasets/DOTA-v2.0-patches/images/val/P2393__1024__1077___524.jpg: ignoring corrupt image/label: non-normalized or out of bounds coordinates [     1.0732]\n",
      "\u001b[34m\u001b[1mval: \u001b[0mWARNING ⚠️ /home/vscode/ultralytics/examples/datasets/DOTA-v2.0-patches/images/val/P2393__1024__524___524.jpg: ignoring corrupt image/label: non-normalized or out of bounds coordinates [     1.1709]\n",
      "\u001b[34m\u001b[1mval: \u001b[0mWARNING ⚠️ /home/vscode/ultralytics/examples/datasets/DOTA-v2.0-patches/images/val/P2393__1024__524___727.jpg: ignoring corrupt image/label: non-normalized or out of bounds coordinates [     1.1709]\n",
      "\u001b[34m\u001b[1mval: \u001b[0mWARNING ⚠️ /home/vscode/ultralytics/examples/datasets/DOTA-v2.0-patches/images/val/P2563__682__349___349.jpg: ignoring corrupt image/label: non-normalized or out of bounds coordinates [     1.2845]\n",
      "\u001b[34m\u001b[1mval: \u001b[0mWARNING ⚠️ /home/vscode/ultralytics/examples/datasets/DOTA-v2.0-patches/images/val/P2570__682__0___0.jpg: ignoring corrupt image/label: non-normalized or out of bounds coordinates [     1.1628]\n",
      "\u001b[34m\u001b[1mval: \u001b[0mWARNING ⚠️ /home/vscode/ultralytics/examples/datasets/DOTA-v2.0-patches/images/val/P2580__682__0___0.jpg: ignoring corrupt image/label: non-normalized or out of bounds coordinates [     1.0762]\n",
      "\u001b[34m\u001b[1mval: \u001b[0mWARNING ⚠️ /home/vscode/ultralytics/examples/datasets/DOTA-v2.0-patches/images/val/P2580__682__231___0.jpg: ignoring corrupt image/label: non-normalized or out of bounds coordinates [     1.0762]\n",
      "\u001b[34m\u001b[1mval: \u001b[0mWARNING ⚠️ /home/vscode/ultralytics/examples/datasets/DOTA-v2.0-patches/images/val/P2587__1024__0___0.jpg: ignoring corrupt image/label: non-normalized or out of bounds coordinates [     1.0371]\n",
      "\u001b[34m\u001b[1mval: \u001b[0mWARNING ⚠️ /home/vscode/ultralytics/examples/datasets/DOTA-v2.0-patches/images/val/P2587__1024__0___524.jpg: ignoring corrupt image/label: non-normalized or out of bounds coordinates [     1.0049      1.0371]\n",
      "\u001b[34m\u001b[1mval: \u001b[0mWARNING ⚠️ /home/vscode/ultralytics/examples/datasets/DOTA-v2.0-patches/images/val/P2587__1024__524___524.jpg: ignoring corrupt image/label: non-normalized or out of bounds coordinates [     1.0049]\n",
      "\u001b[34m\u001b[1mval: \u001b[0mWARNING ⚠️ /home/vscode/ultralytics/examples/datasets/DOTA-v2.0-patches/images/val/P2592__682__698___349.jpg: ignoring corrupt image/label: non-normalized or out of bounds coordinates [      1.063      1.2449]\n",
      "\u001b[34m\u001b[1mval: \u001b[0mWARNING ⚠️ /home/vscode/ultralytics/examples/datasets/DOTA-v2.0-patches/images/val/P2593__682__0___349.jpg: ignoring corrupt image/label: non-normalized or out of bounds coordinates [     1.1012]\n",
      "\u001b[34m\u001b[1mval: \u001b[0mWARNING ⚠️ /home/vscode/ultralytics/examples/datasets/DOTA-v2.0-patches/images/val/P2595__682__286___349.jpg: ignoring corrupt image/label: non-normalized or out of bounds coordinates [     1.0455]\n",
      "\u001b[34m\u001b[1mval: \u001b[0mWARNING ⚠️ /home/vscode/ultralytics/examples/datasets/DOTA-v2.0-patches/images/val/P2598__682__1396___698.jpg: ignoring corrupt image/label: non-normalized or out of bounds coordinates [     1.0073      1.4179]\n",
      "\u001b[34m\u001b[1mval: \u001b[0mWARNING ⚠️ /home/vscode/ultralytics/examples/datasets/DOTA-v2.0-patches/images/val/P2598__682__698___349.jpg: ignoring corrupt image/label: non-normalized or out of bounds coordinates [     1.0015]\n",
      "\u001b[34m\u001b[1mval: \u001b[0mWARNING ⚠️ /home/vscode/ultralytics/examples/datasets/DOTA-v2.0-patches/images/val/P2726__682__1396___698.jpg: ignoring corrupt image/label: non-normalized or out of bounds coordinates [     1.0616      1.1833]\n",
      "\u001b[34m\u001b[1mval: \u001b[0mWARNING ⚠️ /home/vscode/ultralytics/examples/datasets/DOTA-v2.0-patches/images/val/P2733__682__1745___349.jpg: ignoring corrupt image/label: non-normalized or out of bounds coordinates [     1.2185]\n",
      "\u001b[34m\u001b[1mval: \u001b[0mWARNING ⚠️ /home/vscode/ultralytics/examples/datasets/DOTA-v2.0-patches/images/val/P2733__682__1745___698.jpg: ignoring corrupt image/label: non-normalized or out of bounds coordinates [     1.2185]\n",
      "\u001b[34m\u001b[1mval: \u001b[0mWARNING ⚠️ /home/vscode/ultralytics/examples/datasets/DOTA-v2.0-patches/images/val/P2754__682__1047___349.jpg: ignoring corrupt image/label: non-normalized or out of bounds coordinates [     1.0132]\n",
      "\u001b[34m\u001b[1mval: \u001b[0mWARNING ⚠️ /home/vscode/ultralytics/examples/datasets/DOTA-v2.0-patches/images/val/P2781__1024__2531___524.jpg: ignoring corrupt image/label: non-normalized or out of bounds coordinates [     1.0801]\n",
      "\u001b[34m\u001b[1mval: \u001b[0mWARNING ⚠️ /home/vscode/ultralytics/examples/datasets/DOTA-v2.0-patches/images/val/P2789__1024__524___2620.jpg: ignoring corrupt image/label: non-normalized or out of bounds coordinates [     1.1787       1.085]\n",
      "\u001b[34m\u001b[1mval: \u001b[0mWARNING ⚠️ /home/vscode/ultralytics/examples/datasets/DOTA-v2.0-patches/images/val/P2789__1024__524___3144.jpg: ignoring corrupt image/label: non-normalized or out of bounds coordinates [     1.1787       1.085]\n",
      "\u001b[34m\u001b[1mval: \u001b[0mWARNING ⚠️ /home/vscode/ultralytics/examples/datasets/DOTA-v2.0-patches/images/val/P2789__1024__524___3473.jpg: ignoring corrupt image/label: non-normalized or out of bounds coordinates [      1.085]\n",
      "\u001b[34m\u001b[1mval: \u001b[0mWARNING ⚠️ /home/vscode/ultralytics/examples/datasets/DOTA-v2.0-patches/images/val/P2789__2048__2096___0.jpg: ignoring corrupt image/label: non-normalized or out of bounds coordinates [     1.0361]\n",
      "\u001b[34m\u001b[1mval: \u001b[0mWARNING ⚠️ /home/vscode/ultralytics/examples/datasets/DOTA-v2.0-patches/images/val/P2789__2048__2096___1048.jpg: ignoring corrupt image/label: non-normalized or out of bounds coordinates [     1.1729      1.0361]\n",
      "\u001b[34m\u001b[1mval: \u001b[0mWARNING ⚠️ /home/vscode/ultralytics/examples/datasets/DOTA-v2.0-patches/images/val/P2794__1024__1048___524.jpg: ignoring corrupt image/label: non-normalized or out of bounds coordinates [     1.0264]\n",
      "\u001b[34m\u001b[1mval: \u001b[0mWARNING ⚠️ /home/vscode/ultralytics/examples/datasets/DOTA-v2.0-patches/images/val/P2956__682__342___0.jpg: ignoring corrupt image/label: non-normalized or out of bounds coordinates [     1.0953      1.0132]\n",
      "\u001b[34m\u001b[1mval: \u001b[0mWARNING ⚠️ /home/vscode/ultralytics/examples/datasets/DOTA-v2.0-patches/images/val/P3032__1024__0___0.jpg: ignoring corrupt image/label: non-normalized or out of bounds coordinates [          1]\n",
      "\u001b[34m\u001b[1mval: \u001b[0mWARNING ⚠️ /home/vscode/ultralytics/examples/datasets/DOTA-v2.0-patches/images/val/P3106__682__0___342.jpg: ignoring corrupt image/label: non-normalized or out of bounds coordinates [     1.0777]\n",
      "\u001b[34m\u001b[1mval: \u001b[0mWARNING ⚠️ /home/vscode/ultralytics/examples/datasets/DOTA-v2.0-patches/images/val/P3106__682__342___342.jpg: ignoring corrupt image/label: non-normalized or out of bounds coordinates [     1.0777]\n",
      "\u001b[34m\u001b[1mval: \u001b[0mWARNING ⚠️ /home/vscode/ultralytics/examples/datasets/DOTA-v2.0-patches/images/val/P3367__1024__0___0.jpg: ignoring corrupt image/label: non-normalized or out of bounds coordinates [      1.001]\n",
      "\u001b[34m\u001b[1mval: \u001b[0mWARNING ⚠️ /home/vscode/ultralytics/examples/datasets/DOTA-v2.0-patches/images/val/P4083__682__342___0.jpg: ignoring corrupt image/label: non-normalized or out of bounds coordinates [     1.0924]\n",
      "\u001b[34m\u001b[1mval: \u001b[0mWARNING ⚠️ /home/vscode/ultralytics/examples/datasets/DOTA-v2.0-patches/images/val/P4083__682__342___342.jpg: ignoring corrupt image/label: non-normalized or out of bounds coordinates [     1.0924]\n",
      "\u001b[34m\u001b[1mval: \u001b[0mWARNING ⚠️ /home/vscode/ultralytics/examples/datasets/DOTA-v2.0-patches/images/val/P4151__1024__1048___0.jpg: ignoring corrupt image/label: non-normalized or out of bounds coordinates [     1.3135]\n",
      "\u001b[34m\u001b[1mval: \u001b[0mWARNING ⚠️ /home/vscode/ultralytics/examples/datasets/DOTA-v2.0-patches/images/val/P4526__682__0___0.jpg: ignoring corrupt image/label: non-normalized or out of bounds coordinates [     1.0836]\n",
      "\u001b[34m\u001b[1mval: \u001b[0mWARNING ⚠️ /home/vscode/ultralytics/examples/datasets/DOTA-v2.0-patches/images/val/P4526__682__0___342.jpg: ignoring corrupt image/label: non-normalized or out of bounds coordinates [     1.0836]\n",
      "\u001b[34m\u001b[1mval: \u001b[0mWARNING ⚠️ /home/vscode/ultralytics/examples/datasets/DOTA-v2.0-patches/images/val/P4526__682__342___0.jpg: ignoring corrupt image/label: non-normalized or out of bounds coordinates [     1.0836]\n",
      "\u001b[34m\u001b[1mval: \u001b[0mWARNING ⚠️ /home/vscode/ultralytics/examples/datasets/DOTA-v2.0-patches/images/val/P4526__682__342___342.jpg: ignoring corrupt image/label: non-normalized or out of bounds coordinates [     1.0836]\n",
      "\u001b[34m\u001b[1mval: \u001b[0mWARNING ⚠️ /home/vscode/ultralytics/examples/datasets/DOTA-v2.0-patches/images/val/P4772__682__0___0.jpg: ignoring corrupt image/label: non-normalized or out of bounds coordinates [     1.1144]\n",
      "\u001b[34m\u001b[1mval: \u001b[0mWARNING ⚠️ /home/vscode/ultralytics/examples/datasets/DOTA-v2.0-patches/images/val/P4772__682__0___342.jpg: ignoring corrupt image/label: non-normalized or out of bounds coordinates [     1.1144]\n",
      "\u001b[34m\u001b[1mval: \u001b[0mWARNING ⚠️ /home/vscode/ultralytics/examples/datasets/DOTA-v2.0-patches/images/val/P4962__682__0___0.jpg: ignoring corrupt image/label: non-normalized or out of bounds coordinates [     1.2375]\n",
      "\u001b[34m\u001b[1mval: \u001b[0mWARNING ⚠️ /home/vscode/ultralytics/examples/datasets/DOTA-v2.0-patches/images/val/P4962__682__0___342.jpg: ignoring corrupt image/label: non-normalized or out of bounds coordinates [     1.2375]\n",
      "\u001b[34m\u001b[1mval: \u001b[0mWARNING ⚠️ /home/vscode/ultralytics/examples/datasets/DOTA-v2.0-patches/images/val/P5691__682__0___0.jpg: ignoring corrupt image/label: non-normalized or out of bounds coordinates [     1.0586]\n",
      "\u001b[34m\u001b[1mval: \u001b[0mWARNING ⚠️ /home/vscode/ultralytics/examples/datasets/DOTA-v2.0-patches/images/val/P5728__682__0___342.jpg: ignoring corrupt image/label: non-normalized or out of bounds coordinates [     1.0968]\n",
      "\u001b[34m\u001b[1mval: \u001b[0mWARNING ⚠️ /home/vscode/ultralytics/examples/datasets/DOTA-v2.0-patches/images/val/P5728__682__342___342.jpg: ignoring corrupt image/label: non-normalized or out of bounds coordinates [     1.0968]\n",
      "\u001b[34m\u001b[1mval: \u001b[0mWARNING ⚠️ /home/vscode/ultralytics/examples/datasets/DOTA-v2.0-patches/images/val/P6418__682__342___0.jpg: ignoring corrupt image/label: non-normalized or out of bounds coordinates [     1.1305]\n",
      "\u001b[34m\u001b[1mval: \u001b[0mWARNING ⚠️ /home/vscode/ultralytics/examples/datasets/DOTA-v2.0-patches/images/val/P6418__682__342___342.jpg: ignoring corrupt image/label: non-normalized or out of bounds coordinates [     1.1305]\n",
      "\u001b[34m\u001b[1mval: \u001b[0mWARNING ⚠️ /home/vscode/ultralytics/examples/datasets/DOTA-v2.0-patches/images/val/P6769__1024__0___3144.jpg: ignoring corrupt image/label: non-normalized or out of bounds coordinates [     1.2764]\n",
      "\u001b[34m\u001b[1mval: \u001b[0mWARNING ⚠️ /home/vscode/ultralytics/examples/datasets/DOTA-v2.0-patches/images/val/P7431__1024__3072___1572.jpg: ignoring corrupt image/label: non-normalized or out of bounds coordinates [     1.4922]\n",
      "\u001b[34m\u001b[1mval: \u001b[0mWARNING ⚠️ /home/vscode/ultralytics/examples/datasets/DOTA-v2.0-patches/images/val/P7431__682__3141___2792.jpg: ignoring corrupt image/label: non-normalized or out of bounds coordinates [     1.2581]\n",
      "\u001b[34m\u001b[1mval: \u001b[0mWARNING ⚠️ /home/vscode/ultralytics/examples/datasets/DOTA-v2.0-patches/images/val/P7800__682__0___342.jpg: ignoring corrupt image/label: non-normalized or out of bounds coordinates [     1.0455]\n",
      "\u001b[34m\u001b[1mval: \u001b[0mWARNING ⚠️ /home/vscode/ultralytics/examples/datasets/DOTA-v2.0-patches/images/val/P7800__682__342___342.jpg: ignoring corrupt image/label: non-normalized or out of bounds coordinates [     1.0455]\n",
      "\u001b[34m\u001b[1mval: \u001b[0mWARNING ⚠️ /home/vscode/ultralytics/examples/datasets/DOTA-v2.0-patches/images/val/P8081__682__0___0.jpg: ignoring corrupt image/label: non-normalized or out of bounds coordinates [     1.3446]\n",
      "\u001b[34m\u001b[1mval: \u001b[0mWARNING ⚠️ /home/vscode/ultralytics/examples/datasets/DOTA-v2.0-patches/images/val/P8081__682__0___342.jpg: ignoring corrupt image/label: non-normalized or out of bounds coordinates [     1.3446]\n",
      "\u001b[34m\u001b[1mval: \u001b[0mWARNING ⚠️ /home/vscode/ultralytics/examples/datasets/DOTA-v2.0-patches/images/val/P9594__682__2094___2094.jpg: ignoring corrupt image/label: non-normalized or out of bounds coordinates [     1.2859]\n",
      "\u001b[34m\u001b[1mval: \u001b[0mWARNING ⚠️ /home/vscode/ultralytics/examples/datasets/DOTA-v2.0-patches/images/val/P9735__682__0___342.jpg: ignoring corrupt image/label: non-normalized or out of bounds coordinates [     1.1657]\n",
      "\u001b[34m\u001b[1mval: \u001b[0mWARNING ⚠️ /home/vscode/ultralytics/examples/datasets/DOTA-v2.0-patches/images/val/P9735__682__342___342.jpg: ignoring corrupt image/label: non-normalized or out of bounds coordinates [     1.1657]\n"
     ]
    },
    {
     "name": "stderr",
     "output_type": "stream",
     "text": [
      "\n"
     ]
    },
    {
     "name": "stdout",
     "output_type": "stream",
     "text": [
      "Plotting labels to runs/obb/train18/labels.jpg... \n",
      "\u001b[34m\u001b[1moptimizer:\u001b[0m 'optimizer=auto' found, ignoring 'lr0=0.01' and 'momentum=0.937' and determining best 'optimizer', 'lr0' and 'momentum' automatically... \n",
      "\u001b[34m\u001b[1moptimizer:\u001b[0m AdamW(lr=0.000455, momentum=0.9) with parameter groups 63 weight(decay=0.0), 73 weight(decay=0.00046875), 72 bias(decay=0.0)\n",
      "\u001b[34m\u001b[1mTensorBoard: \u001b[0mmodel graph visualization added ✅\n",
      "Image sizes 640 train, 640 val\n",
      "Using 8 dataloader workers\n",
      "Logging results to \u001b[1mruns/obb/train18\u001b[0m\n",
      "Starting training for 2 epochs...\n",
      "\n",
      "      Epoch    GPU_mem   box_loss   cls_loss   dfl_loss  Instances       Size\n"
     ]
    },
    {
     "name": "stderr",
     "output_type": "stream",
     "text": [
      "        1/2      4.23G      2.293      3.086      1.954        474        640:  44%|████▍     | 744/1697 [01:49<02:10,  7.33it/s]"
     ]
    },
    {
     "ename": "",
     "evalue": "",
     "output_type": "error",
     "traceback": [
      "\u001b[1;31mThe Kernel crashed while executing code in the current cell or a previous cell. \n",
      "\u001b[1;31mPlease review the code in the cell(s) to identify a possible cause of the failure. \n",
      "\u001b[1;31mClick <a href='https://aka.ms/vscodeJupyterKernelCrash'>here</a> for more info. \n",
      "\u001b[1;31mView Jupyter <a href='command:jupyter.viewOutput'>log</a> for further details."
     ]
    }
   ],
   "source": []
  },
  {
   "cell_type": "code",
   "execution_count": null,
   "metadata": {},
   "outputs": [],
   "source": []
  }
 ],
 "metadata": {
  "kernelspec": {
   "display_name": "Python 3",
   "language": "python",
   "name": "python3"
  },
  "language_info": {
   "codemirror_mode": {
    "name": "ipython",
    "version": 3
   },
   "file_extension": ".py",
   "mimetype": "text/x-python",
   "name": "python",
   "nbconvert_exporter": "python",
   "pygments_lexer": "ipython3",
   "version": "3.11.4"
  }
 },
 "nbformat": 4,
 "nbformat_minor": 2
}
